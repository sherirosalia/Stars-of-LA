{
 "cells": [
  {
   "cell_type": "code",
   "execution_count": 1,
   "metadata": {},
   "outputs": [],
   "source": [
    "import pandas as pd\n",
    "import numpy as np\n",
    "import config\n",
    "from config import gkey"
   ]
  },
  {
   "cell_type": "code",
   "execution_count": 2,
   "metadata": {},
   "outputs": [],
   "source": [
    "df=pd.read_csv('../csv/la_rest_types.csv', index_col=False)"
   ]
  },
  {
   "cell_type": "code",
   "execution_count": 3,
   "metadata": {},
   "outputs": [
    {
     "data": {
      "text/html": [
       "<div>\n",
       "<style scoped>\n",
       "    .dataframe tbody tr th:only-of-type {\n",
       "        vertical-align: middle;\n",
       "    }\n",
       "\n",
       "    .dataframe tbody tr th {\n",
       "        vertical-align: top;\n",
       "    }\n",
       "\n",
       "    .dataframe thead th {\n",
       "        text-align: right;\n",
       "    }\n",
       "</style>\n",
       "<table border=\"1\" class=\"dataframe\">\n",
       "  <thead>\n",
       "    <tr style=\"text-align: right;\">\n",
       "      <th></th>\n",
       "      <th>id</th>\n",
       "      <th>name</th>\n",
       "      <th>address</th>\n",
       "      <th>category_title</th>\n",
       "      <th>rating</th>\n",
       "      <th>review_count</th>\n",
       "      <th>lat</th>\n",
       "      <th>lon</th>\n",
       "      <th>zipcodes</th>\n",
       "    </tr>\n",
       "  </thead>\n",
       "  <tbody>\n",
       "    <tr>\n",
       "      <th>0</th>\n",
       "      <td>__4rPIbNWudQVuoaRs2MuQ</td>\n",
       "      <td>Best Shawarma</td>\n",
       "      <td>602 W Glenoaks Blvd  Glendale, CA 91202</td>\n",
       "      <td>Middle Eastern</td>\n",
       "      <td>4.0</td>\n",
       "      <td>349</td>\n",
       "      <td>34.159455</td>\n",
       "      <td>-118.267173</td>\n",
       "      <td>91202</td>\n",
       "    </tr>\n",
       "    <tr>\n",
       "      <th>1</th>\n",
       "      <td>__4rPIbNWudQVuoaRs2MuQ</td>\n",
       "      <td>Best Shawarma</td>\n",
       "      <td>602 W Glenoaks Blvd  Glendale, CA 91202</td>\n",
       "      <td>Barbeque</td>\n",
       "      <td>4.0</td>\n",
       "      <td>349</td>\n",
       "      <td>34.159455</td>\n",
       "      <td>-118.267173</td>\n",
       "      <td>91202</td>\n",
       "    </tr>\n",
       "  </tbody>\n",
       "</table>\n",
       "</div>"
      ],
      "text/plain": [
       "                       id           name  \\\n",
       "0  __4rPIbNWudQVuoaRs2MuQ  Best Shawarma   \n",
       "1  __4rPIbNWudQVuoaRs2MuQ  Best Shawarma   \n",
       "\n",
       "                                   address  category_title  rating  \\\n",
       "0  602 W Glenoaks Blvd  Glendale, CA 91202  Middle Eastern     4.0   \n",
       "1  602 W Glenoaks Blvd  Glendale, CA 91202        Barbeque     4.0   \n",
       "\n",
       "   review_count        lat         lon zipcodes  \n",
       "0           349  34.159455 -118.267173    91202  \n",
       "1           349  34.159455 -118.267173    91202  "
      ]
     },
     "execution_count": 3,
     "metadata": {},
     "output_type": "execute_result"
    }
   ],
   "source": [
    "# df.sample()\n",
    "df.head(2)\n"
   ]
  },
  {
   "cell_type": "code",
   "execution_count": 4,
   "metadata": {},
   "outputs": [
    {
     "data": {
      "text/plain": [
       "0        True\n",
       "1        True\n",
       "2        True\n",
       "3        True\n",
       "4        True\n",
       "         ... \n",
       "61420    True\n",
       "61421    True\n",
       "61422    True\n",
       "61423    True\n",
       "61424    True\n",
       "Name: zipcodes, Length: 61425, dtype: bool"
      ]
     },
     "execution_count": 4,
     "metadata": {},
     "output_type": "execute_result"
    }
   ],
   "source": [
    "df.zipcodes.str.startswith('9')"
   ]
  },
  {
   "cell_type": "code",
   "execution_count": 5,
   "metadata": {},
   "outputs": [],
   "source": [
    "df=df[df.zipcodes.str.startswith('9')]"
   ]
  },
  {
   "cell_type": "code",
   "execution_count": null,
   "metadata": {},
   "outputs": [],
   "source": []
  },
  {
   "cell_type": "code",
   "execution_count": 6,
   "metadata": {},
   "outputs": [],
   "source": [
    "# df.isnull()"
   ]
  },
  {
   "cell_type": "code",
   "execution_count": 7,
   "metadata": {},
   "outputs": [],
   "source": [
    "df['category_title'].replace(' ', np.nan, inplace=True)"
   ]
  },
  {
   "cell_type": "code",
   "execution_count": 8,
   "metadata": {},
   "outputs": [],
   "source": [
    "# df.isnull()"
   ]
  },
  {
   "cell_type": "code",
   "execution_count": 9,
   "metadata": {},
   "outputs": [],
   "source": [
    "df.dropna(inplace=True)"
   ]
  },
  {
   "cell_type": "code",
   "execution_count": 10,
   "metadata": {},
   "outputs": [
    {
     "data": {
      "text/html": [
       "<div>\n",
       "<style scoped>\n",
       "    .dataframe tbody tr th:only-of-type {\n",
       "        vertical-align: middle;\n",
       "    }\n",
       "\n",
       "    .dataframe tbody tr th {\n",
       "        vertical-align: top;\n",
       "    }\n",
       "\n",
       "    .dataframe thead th {\n",
       "        text-align: right;\n",
       "    }\n",
       "</style>\n",
       "<table border=\"1\" class=\"dataframe\">\n",
       "  <thead>\n",
       "    <tr style=\"text-align: right;\">\n",
       "      <th></th>\n",
       "      <th>id</th>\n",
       "      <th>name</th>\n",
       "      <th>address</th>\n",
       "      <th>category_title</th>\n",
       "      <th>rating</th>\n",
       "      <th>review_count</th>\n",
       "      <th>lat</th>\n",
       "      <th>lon</th>\n",
       "      <th>zipcodes</th>\n",
       "    </tr>\n",
       "  </thead>\n",
       "  <tbody>\n",
       "    <tr>\n",
       "      <th>61110</th>\n",
       "      <td>#NAME?</td>\n",
       "      <td>Pupuseria Sabor El Salvador</td>\n",
       "      <td>529 W Rosecrans Ave  Compton, CA 90222</td>\n",
       "      <td>Salvadoran</td>\n",
       "      <td>4.0</td>\n",
       "      <td>18</td>\n",
       "      <td>33.903549</td>\n",
       "      <td>-118.233601</td>\n",
       "      <td>90222</td>\n",
       "    </tr>\n",
       "  </tbody>\n",
       "</table>\n",
       "</div>"
      ],
      "text/plain": [
       "           id                         name  \\\n",
       "61110  #NAME?  Pupuseria Sabor El Salvador   \n",
       "\n",
       "                                      address category_title  rating  \\\n",
       "61110  529 W Rosecrans Ave  Compton, CA 90222     Salvadoran     4.0   \n",
       "\n",
       "       review_count        lat         lon zipcodes  \n",
       "61110            18  33.903549 -118.233601    90222  "
      ]
     },
     "execution_count": 10,
     "metadata": {},
     "output_type": "execute_result"
    }
   ],
   "source": [
    "df.reset_index(drop=True)\n",
    "df.sample()"
   ]
  },
  {
   "cell_type": "code",
   "execution_count": 11,
   "metadata": {},
   "outputs": [],
   "source": [
    "# df.isnull()"
   ]
  },
  {
   "cell_type": "code",
   "execution_count": 12,
   "metadata": {},
   "outputs": [
    {
     "data": {
      "text/plain": [
       "4.0    13291\n",
       "4.5     7968\n",
       "3.5     7900\n",
       "3.0     4029\n",
       "5.0     2504\n",
       "2.5     2346\n",
       "2.0     2010\n",
       "1.5      832\n",
       "1.0      268\n",
       "Name: rating, dtype: int64"
      ]
     },
     "execution_count": 12,
     "metadata": {},
     "output_type": "execute_result"
    }
   ],
   "source": [
    "df['rating'].value_counts()"
   ]
  },
  {
   "cell_type": "code",
   "execution_count": 13,
   "metadata": {},
   "outputs": [
    {
     "data": {
      "text/plain": [
       "(3.667, 5.0]      23763\n",
       "(2.333, 3.667]    14275\n",
       "(0.995, 2.333]     3110\n",
       "Name: rating, dtype: int64"
      ]
     },
     "execution_count": 13,
     "metadata": {},
     "output_type": "execute_result"
    }
   ],
   "source": [
    "# df['category_title'].value_counts(normalize=True)\n",
    "df['rating'].value_counts(bins=3)"
   ]
  },
  {
   "cell_type": "code",
   "execution_count": 14,
   "metadata": {},
   "outputs": [],
   "source": [
    "import matplotlib"
   ]
  },
  {
   "cell_type": "code",
   "execution_count": 44,
   "metadata": {},
   "outputs": [
    {
     "data": {
      "image/png": "[encoded data removed]",
      "text/plain": [
       "<Figure size 432x288 with 1 Axes>"
      ]
     },
     "metadata": {
      "needs_background": "light"
     },
     "output_type": "display_data"
    }
   ],
   "source": [
    "binplt=df.rating.value_counts(bins=3).sort_values().plot(kind = 'barh')\n"
   ]
  },
  {
   "cell_type": "code",
   "execution_count": 62,
   "metadata": {},
   "outputs": [],
   "source": [
    "binplt.figure.savefig('plots/bin_plot.png')"
   ]
  },
  {
   "cell_type": "code",
   "execution_count": null,
   "metadata": {},
   "outputs": [],
   "source": []
  },
  {
   "cell_type": "code",
   "execution_count": 63,
   "metadata": {},
   "outputs": [],
   "source": [
    "cat_desc=df['category_title'].describe()\n",
    "\n",
    "#cat_desc.value_counts()"
   ]
  },
  {
   "cell_type": "code",
   "execution_count": 64,
   "metadata": {},
   "outputs": [],
   "source": [
    " %matplotlib inline"
   ]
  },
  {
   "cell_type": "code",
   "execution_count": 65,
   "metadata": {},
   "outputs": [],
   "source": [
    "from pandas.plotting import scatter_matrix\n",
    "import matplotlib.pyplot as plt"
   ]
  },
  {
   "cell_type": "code",
   "execution_count": 66,
   "metadata": {},
   "outputs": [
    {
     "data": {
      "text/html": [
       "<div>\n",
       "<style scoped>\n",
       "    .dataframe tbody tr th:only-of-type {\n",
       "        vertical-align: middle;\n",
       "    }\n",
       "\n",
       "    .dataframe tbody tr th {\n",
       "        vertical-align: top;\n",
       "    }\n",
       "\n",
       "    .dataframe thead th {\n",
       "        text-align: right;\n",
       "    }\n",
       "</style>\n",
       "<table border=\"1\" class=\"dataframe\">\n",
       "  <thead>\n",
       "    <tr style=\"text-align: right;\">\n",
       "      <th></th>\n",
       "      <th>rating</th>\n",
       "      <th>review_count</th>\n",
       "      <th>lat</th>\n",
       "      <th>lon</th>\n",
       "    </tr>\n",
       "  </thead>\n",
       "  <tbody>\n",
       "    <tr>\n",
       "      <th>count</th>\n",
       "      <td>41148.000000</td>\n",
       "      <td>41148.000000</td>\n",
       "      <td>41148.000000</td>\n",
       "      <td>41148.000000</td>\n",
       "    </tr>\n",
       "    <tr>\n",
       "      <th>mean</th>\n",
       "      <td>3.710460</td>\n",
       "      <td>320.939122</td>\n",
       "      <td>33.979838</td>\n",
       "      <td>-118.256826</td>\n",
       "    </tr>\n",
       "    <tr>\n",
       "      <th>std</th>\n",
       "      <td>0.824635</td>\n",
       "      <td>541.021245</td>\n",
       "      <td>0.122265</td>\n",
       "      <td>0.173395</td>\n",
       "    </tr>\n",
       "    <tr>\n",
       "      <th>min</th>\n",
       "      <td>1.000000</td>\n",
       "      <td>1.000000</td>\n",
       "      <td>33.167953</td>\n",
       "      <td>-122.636364</td>\n",
       "    </tr>\n",
       "    <tr>\n",
       "      <th>25%</th>\n",
       "      <td>3.500000</td>\n",
       "      <td>40.000000</td>\n",
       "      <td>33.884035</td>\n",
       "      <td>-118.367151</td>\n",
       "    </tr>\n",
       "    <tr>\n",
       "      <th>50%</th>\n",
       "      <td>4.000000</td>\n",
       "      <td>141.000000</td>\n",
       "      <td>34.009925</td>\n",
       "      <td>-118.267295</td>\n",
       "    </tr>\n",
       "    <tr>\n",
       "      <th>75%</th>\n",
       "      <td>4.500000</td>\n",
       "      <td>384.000000</td>\n",
       "      <td>34.063720</td>\n",
       "      <td>-118.144367</td>\n",
       "    </tr>\n",
       "    <tr>\n",
       "      <th>max</th>\n",
       "      <td>5.000000</td>\n",
       "      <td>16955.000000</td>\n",
       "      <td>37.895588</td>\n",
       "      <td>-117.225868</td>\n",
       "    </tr>\n",
       "  </tbody>\n",
       "</table>\n",
       "</div>"
      ],
      "text/plain": [
       "             rating  review_count           lat           lon\n",
       "count  41148.000000  41148.000000  41148.000000  41148.000000\n",
       "mean       3.710460    320.939122     33.979838   -118.256826\n",
       "std        0.824635    541.021245      0.122265      0.173395\n",
       "min        1.000000      1.000000     33.167953   -122.636364\n",
       "25%        3.500000     40.000000     33.884035   -118.367151\n",
       "50%        4.000000    141.000000     34.009925   -118.267295\n",
       "75%        4.500000    384.000000     34.063720   -118.144367\n",
       "max        5.000000  16955.000000     37.895588   -117.225868"
      ]
     },
     "execution_count": 66,
     "metadata": {},
     "output_type": "execute_result"
    }
   ],
   "source": [
    "desc=df.describe()\n",
    "desc"
   ]
  },
  {
   "cell_type": "code",
   "execution_count": 67,
   "metadata": {},
   "outputs": [
    {
     "data": {
      "image/png": "[encoded data removed]",
      "text/plain": [
       "<Figure size 432x288 with 1 Axes>"
      ]
     },
     "metadata": {
      "needs_background": "light"
     },
     "output_type": "display_data"
    }
   ],
   "source": [
    "fig, axes = plt.subplots(1,1)\n",
    "axes = df['rating'].hist()\n",
    "\n",
    "plt.legend(df.columns)\n",
    "dfsummary = pd.DataFrame(df['rating'].describe())\n",
    "\n",
    "plt.table(cellText=dfsummary.values,\n",
    "      colWidths = [0.4]*2,\n",
    "      rowLabels=dfsummary.index,\n",
    "      colLabels=dfsummary.columns,\n",
    "      cellLoc = 'right', rowLoc = 'right',\n",
    "      loc='top')\n",
    "\n",
    "plt.show()\n"
   ]
  },
  {
   "cell_type": "code",
   "execution_count": 68,
   "metadata": {},
   "outputs": [
    {
     "data": {
      "text/plain": [
       "array([[<matplotlib.axes._subplots.AxesSubplot object at 0x101e4e7ad0>,\n",
       "        <matplotlib.axes._subplots.AxesSubplot object at 0x101ffe2090>,\n",
       "        <matplotlib.axes._subplots.AxesSubplot object at 0x101fc0d110>,\n",
       "        <matplotlib.axes._subplots.AxesSubplot object at 0x1021045f90>],\n",
       "       [<matplotlib.axes._subplots.AxesSubplot object at 0x101e517850>,\n",
       "        <matplotlib.axes._subplots.AxesSubplot object at 0x101ff46bd0>,\n",
       "        <matplotlib.axes._subplots.AxesSubplot object at 0x102027b890>,\n",
       "        <matplotlib.axes._subplots.AxesSubplot object at 0x102111a0d0>],\n",
       "       [<matplotlib.axes._subplots.AxesSubplot object at 0x102111ac10>,\n",
       "        <matplotlib.axes._subplots.AxesSubplot object at 0x101fc995d0>,\n",
       "        <matplotlib.axes._subplots.AxesSubplot object at 0x1020d60910>,\n",
       "        <matplotlib.axes._subplots.AxesSubplot object at 0x1020d9dc90>],\n",
       "       [<matplotlib.axes._subplots.AxesSubplot object at 0x102128e950>,\n",
       "        <matplotlib.axes._subplots.AxesSubplot object at 0x10212cccd0>,\n",
       "        <matplotlib.axes._subplots.AxesSubplot object at 0x1021304990>,\n",
       "        <matplotlib.axes._subplots.AxesSubplot object at 0x1021343d10>]],\n",
       "      dtype=object)"
      ]
     },
     "execution_count": 68,
     "metadata": {},
     "output_type": "execute_result"
    },
    {
     "data": {
      "image/png": "[encoded data removed]",
      "text/plain": [
       "<Figure size 720x720 with 16 Axes>"
      ]
     },
     "metadata": {
      "needs_background": "light"
     },
     "output_type": "display_data"
    }
   ],
   "source": [
    "scatter_matrix(df, figsize=(10,10))"
   ]
  },
  {
   "cell_type": "code",
   "execution_count": 69,
   "metadata": {},
   "outputs": [
    {
     "data": {
      "text/plain": [
       "rating\n",
       "0.824635          541.021245\n",
       "1.000000            1.000000\n",
       "3.500000           40.000000\n",
       "3.710460          320.939122\n",
       "4.000000          141.000000\n",
       "4.500000          384.000000\n",
       "5.000000        16955.000000\n",
       "41148.000000    41148.000000\n",
       "Name: review_count, dtype: float64"
      ]
     },
     "execution_count": 69,
     "metadata": {},
     "output_type": "execute_result"
    }
   ],
   "source": [
    "desc.groupby('rating')['review_count'].mean()"
   ]
  },
  {
   "cell_type": "code",
   "execution_count": 70,
   "metadata": {},
   "outputs": [
    {
     "data": {
      "text/plain": [
       "rating\n",
       "0.824635          541.021245\n",
       "1.000000            1.000000\n",
       "3.500000           40.000000\n",
       "3.710460          320.939122\n",
       "4.000000          141.000000\n",
       "4.500000          384.000000\n",
       "5.000000        16955.000000\n",
       "41148.000000    41148.000000\n",
       "Name: review_count, dtype: float64"
      ]
     },
     "execution_count": 70,
     "metadata": {},
     "output_type": "execute_result"
    }
   ],
   "source": [
    "desc.groupby('rating')['review_count'].mean()"
   ]
  },
  {
   "cell_type": "code",
   "execution_count": 71,
   "metadata": {},
   "outputs": [],
   "source": [
    "# df[df['rating']> 2.5].groupby('address')['rating']"
   ]
  },
  {
   "cell_type": "code",
   "execution_count": 85,
   "metadata": {},
   "outputs": [
    {
     "data": {
      "image/png": "[encoded data removed]",
      "text/plain": [
       "<Figure size 432x288 with 1 Axes>"
      ]
     },
     "metadata": {
      "needs_background": "light"
     },
     "output_type": "display_data"
    }
   ],
   "source": [
    "gr_zip = df.groupby(['zipcodes', 'review_count'])['rating'].median().reset_index()\n",
    "\n",
    "hist=gr_zip['rating'].plot(kind='hist')\n",
    "# gr_zip=gr_zip.min()\n",
    "\n",
    "\n"
   ]
  },
  {
   "cell_type": "code",
   "execution_count": 86,
   "metadata": {},
   "outputs": [],
   "source": [
    "hist.figure.savefig('plots/hist.png')"
   ]
  },
  {
   "cell_type": "code",
   "execution_count": 87,
   "metadata": {},
   "outputs": [
    {
     "data": {
      "text/plain": [
       "category_title\n",
       " Acai Bowls                0.975610\n",
       " African                   1.000000\n",
       " American (New)            0.964509\n",
       " American (Traditional)    0.860645\n",
       " Amusement Parks           0.500000\n",
       "                             ...   \n",
       "Waffles                    1.000000\n",
       "Wine Bars                  1.000000\n",
       "Wine Tasting Room          1.000000\n",
       "Wineries                   1.000000\n",
       "Wraps                      0.500000\n",
       "Name: rating, Length: 499, dtype: float64"
      ]
     },
     "execution_count": 87,
     "metadata": {},
     "output_type": "execute_result"
    }
   ],
   "source": [
    "df.groupby('category_title').rating.apply(lambda x: len(x[x>2.5])/len(x) )"
   ]
  },
  {
   "cell_type": "code",
   "execution_count": 88,
   "metadata": {},
   "outputs": [
    {
     "data": {
      "text/html": [
       "<div>\n",
       "<style scoped>\n",
       "    .dataframe tbody tr th:only-of-type {\n",
       "        vertical-align: middle;\n",
       "    }\n",
       "\n",
       "    .dataframe tbody tr th {\n",
       "        vertical-align: top;\n",
       "    }\n",
       "\n",
       "    .dataframe thead th {\n",
       "        text-align: right;\n",
       "    }\n",
       "</style>\n",
       "<table border=\"1\" class=\"dataframe\">\n",
       "  <thead>\n",
       "    <tr style=\"text-align: right;\">\n",
       "      <th></th>\n",
       "      <th>id</th>\n",
       "      <th>name</th>\n",
       "      <th>address</th>\n",
       "      <th>category_title</th>\n",
       "      <th>rating</th>\n",
       "      <th>review_count</th>\n",
       "      <th>lat</th>\n",
       "      <th>lon</th>\n",
       "      <th>zipcodes</th>\n",
       "    </tr>\n",
       "  </thead>\n",
       "  <tbody>\n",
       "    <tr>\n",
       "      <th>60916</th>\n",
       "      <td>#NAME?</td>\n",
       "      <td>Adrians Taco Trailer</td>\n",
       "      <td>1000 S Mateo St  Los Angeles, CA 90021</td>\n",
       "      <td>Mexican</td>\n",
       "      <td>4.5</td>\n",
       "      <td>42</td>\n",
       "      <td>34.031748</td>\n",
       "      <td>-118.231928</td>\n",
       "      <td>90021</td>\n",
       "    </tr>\n",
       "  </tbody>\n",
       "</table>\n",
       "</div>"
      ],
      "text/plain": [
       "           id                  name                                 address  \\\n",
       "60916  #NAME?  Adrians Taco Trailer  1000 S Mateo St  Los Angeles, CA 90021   \n",
       "\n",
       "      category_title  rating  review_count        lat         lon zipcodes  \n",
       "60916        Mexican     4.5            42  34.031748 -118.231928    90021  "
      ]
     },
     "execution_count": 88,
     "metadata": {},
     "output_type": "execute_result"
    }
   ],
   "source": [
    "df.sample()"
   ]
  },
  {
   "cell_type": "code",
   "execution_count": null,
   "metadata": {},
   "outputs": [],
   "source": []
  },
  {
   "cell_type": "code",
   "execution_count": 89,
   "metadata": {},
   "outputs": [
    {
     "data": {
      "text/plain": [
       "zipcodes\n",
       "90000    4.000000\n",
       "90001    3.626582\n",
       "90002    3.352273\n",
       "90003    3.304965\n",
       "90004    3.852941\n",
       "           ...   \n",
       "94703    5.000000\n",
       "94970    4.500000\n",
       "95020    3.000000\n",
       "95113    3.000000\n",
       "96001    5.000000\n",
       "Name: rating, Length: 346, dtype: float64"
      ]
     },
     "execution_count": 89,
     "metadata": {},
     "output_type": "execute_result"
    }
   ],
   "source": [
    "means = df.groupby('zipcodes').mean()['rating']\n",
    "means\n",
    "# medians = clean_study_data_complete.groupby('Drug Regimen').median()['Tumor Volume (mm3)']\n",
    "# variances = clean_study_data_complete.groupby('Drug Regimen').var()['Tumor Volume (mm3)']\n",
    "# sds = clean_study_data_complete.groupby('Drug Regimen').std()['Tumor Volume (mm3)']\n",
    "# sems = clean_study_data_complete.groupby('Drug Regimen').sem()['Tumor Volume (mm3)']\n",
    "# summary_table = pd.DataFrame({\"Mean Tumor Volume\":means,\n",
    "#                               \"Median Tumor Volume\":medians,\n",
    "#                               \"Tumor Volume Variance\":variances,\n",
    "#                               \"Tumor Volume Std. Dev.\":sds,\n",
    "#                               \"Tumor Volume Std. Err.\":sems})"
   ]
  },
  {
   "cell_type": "code",
   "execution_count": null,
   "metadata": {},
   "outputs": [],
   "source": []
  },
  {
   "cell_type": "code",
   "execution_count": 90,
   "metadata": {},
   "outputs": [
    {
     "data": {
      "text/plain": [
       "zipcodes\n",
       "90000     1753\n",
       "90001     6070\n",
       "90002     1904\n",
       "90003     5562\n",
       "90004    72633\n",
       "         ...  \n",
       "94703        1\n",
       "94970      520\n",
       "95020       36\n",
       "95113     2766\n",
       "96001       18\n",
       "Name: review_count, Length: 346, dtype: int64"
      ]
     },
     "execution_count": 90,
     "metadata": {},
     "output_type": "execute_result"
    }
   ],
   "source": [
    "revCount = df.groupby('zipcodes').sum()['review_count']\n",
    "revCount\n"
   ]
  },
  {
   "cell_type": "code",
   "execution_count": 91,
   "metadata": {},
   "outputs": [
    {
     "data": {
      "text/plain": [
       "<matplotlib.axes._subplots.AxesSubplot at 0x1026d1f750>"
      ]
     },
     "execution_count": 91,
     "metadata": {},
     "output_type": "execute_result"
    },
    {
     "data": {
      "image/png": "[encoded data removed]",
      "text/plain": [
       "<Figure size 432x288 with 1 Axes>"
      ]
     },
     "metadata": {
      "needs_background": "light"
     },
     "output_type": "display_data"
    }
   ],
   "source": [
    "revCount.plot(kind='line')"
   ]
  },
  {
   "cell_type": "code",
   "execution_count": 92,
   "metadata": {},
   "outputs": [
    {
     "name": "stdout",
     "output_type": "stream",
     "text": [
      "Requirement already satisfied: seaborn in /usr/local/Caskroom/miniconda/base/lib/python3.7/site-packages (0.10.1)\n",
      "Requirement already satisfied: matplotlib>=2.1.2 in /usr/local/Caskroom/miniconda/base/lib/python3.7/site-packages (from seaborn) (3.1.3)\n",
      "Requirement already satisfied: pandas>=0.22.0 in /usr/local/Caskroom/miniconda/base/lib/python3.7/site-packages (from seaborn) (1.0.1)\n",
      "Requirement already satisfied: scipy>=1.0.1 in /usr/local/Caskroom/miniconda/base/lib/python3.7/site-packages (from seaborn) (1.4.1)\n",
      "Requirement already satisfied: numpy>=1.13.3 in /usr/local/Caskroom/miniconda/base/lib/python3.7/site-packages (from seaborn) (1.18.1)\n",
      "Requirement already satisfied: cycler>=0.10 in /usr/local/Caskroom/miniconda/base/lib/python3.7/site-packages (from matplotlib>=2.1.2->seaborn) (0.10.0)\n",
      "Requirement already satisfied: python-dateutil>=2.1 in /usr/local/Caskroom/miniconda/base/lib/python3.7/site-packages (from matplotlib>=2.1.2->seaborn) (2.8.1)\n",
      "Requirement already satisfied: pyparsing!=2.0.4,!=2.1.2,!=2.1.6,>=2.0.1 in /usr/local/Caskroom/miniconda/base/lib/python3.7/site-packages (from matplotlib>=2.1.2->seaborn) (2.4.6)\n",
      "Requirement already satisfied: kiwisolver>=1.0.1 in /usr/local/Caskroom/miniconda/base/lib/python3.7/site-packages (from matplotlib>=2.1.2->seaborn) (1.1.0)\n",
      "Requirement already satisfied: pytz>=2017.2 in /usr/local/Caskroom/miniconda/base/lib/python3.7/site-packages (from pandas>=0.22.0->seaborn) (2019.3)\n",
      "Requirement already satisfied: six in /usr/local/Caskroom/miniconda/base/lib/python3.7/site-packages (from cycler>=0.10->matplotlib>=2.1.2->seaborn) (1.12.0)\n",
      "Requirement already satisfied: setuptools in /usr/local/Caskroom/miniconda/base/lib/python3.7/site-packages (from kiwisolver>=1.0.1->matplotlib>=2.1.2->seaborn) (41.4.0)\n"
     ]
    }
   ],
   "source": [
    "%%bash\n",
    "pip install seaborn"
   ]
  },
  {
   "cell_type": "code",
   "execution_count": 93,
   "metadata": {},
   "outputs": [
    {
     "data": {
      "text/plain": [
       "zipcodes\n",
       "90000    4.000000\n",
       "90001    3.626582\n",
       "90002    3.352273\n",
       "90003    3.304965\n",
       "90004    3.852941\n",
       "           ...   \n",
       "94703    5.000000\n",
       "94970    4.500000\n",
       "95020    3.000000\n",
       "95113    3.000000\n",
       "96001    5.000000\n",
       "Name: rating, Length: 346, dtype: float64"
      ]
     },
     "execution_count": 93,
     "metadata": {},
     "output_type": "execute_result"
    }
   ],
   "source": [
    "means = df.groupby('zipcodes').mean()['rating']\n",
    "means"
   ]
  },
  {
   "cell_type": "code",
   "execution_count": 94,
   "metadata": {},
   "outputs": [
    {
     "data": {
      "text/plain": [
       "zipcodes\n",
       "90000      5\n",
       "90001    237\n",
       "90002     44\n",
       "90003    141\n",
       "90004    323\n",
       "        ... \n",
       "94703      1\n",
       "94970      2\n",
       "95020      1\n",
       "95113      3\n",
       "96001      3\n",
       "Length: 346, dtype: int64"
      ]
     },
     "execution_count": 94,
     "metadata": {},
     "output_type": "execute_result"
    }
   ],
   "source": [
    "total_count = df.groupby('zipcodes').size()\n",
    "total_count"
   ]
  },
  {
   "cell_type": "code",
   "execution_count": null,
   "metadata": {},
   "outputs": [],
   "source": []
  },
  {
   "cell_type": "code",
   "execution_count": 95,
   "metadata": {},
   "outputs": [
    {
     "data": {
      "image/png": "[encoded data removed]",
      "text/plain": [
       "<Figure size 432x288 with 1 Axes>"
      ]
     },
     "metadata": {
      "needs_background": "light"
     },
     "output_type": "display_data"
    }
   ],
   "source": [
    "import matplotlib.pyplot as plt\n",
    "import numpy as np\n",
    "import seaborn as sns\n",
    " \n",
    "# create data\n",
    "x = total_count\n",
    "y = means\n",
    "z = revCount\n",
    "# z=z*z\n",
    "# z=z.sum()\n",
    "\n",
    "# Change color with c and alpha. I map the color to the X axis value.\n",
    "plt.scatter(x, y, s=z/75, c=z, cmap=\"Blues\", alpha=0.4, edgecolors=\"grey\", linewidth=2)\n",
    " \n",
    "# Add titles (main and on axis)\n",
    "plt.xlabel(\"Number of Restaurants Per Zipcode\")\n",
    "plt.ylabel(\"Average Rating\")\n",
    "plt.title(\"Restaurants by ZipCode, Rating and Review Count\")\n",
    " \n",
    "plt.show()"
   ]
  },
  {
   "cell_type": "code",
   "execution_count": 104,
   "metadata": {},
   "outputs": [
    {
     "data": {
      "image/png": "[encoded data removed]",
      "text/plain": [
       "<Figure size 432x288 with 1 Axes>"
      ]
     },
     "metadata": {
      "needs_background": "light"
     },
     "output_type": "display_data"
    }
   ],
   "source": [
    "# create data\n",
    "x = total_count\n",
    "y = means\n",
    "z = revCount\n",
    "# z=z*z\n",
    "# z=z.sum()\n",
    "\n",
    "# Change color with c and alpha. I map the color to the X axis value.\n",
    "plt.scatter(x, y, s=z/75, c=z, cmap=\"Blues\", alpha=0.4, edgecolors=\"grey\", linewidth=2)\n",
    " \n",
    "# Add titles (main and on axis)\n",
    "plt.xlabel(\"Number of Restaurants Per Zipcode\")\n",
    "plt.ylabel(\"Average Rating\")\n",
    "plt.title(\"Restaurants by ZipCode, Rating and Review Count\")\n",
    "plt.savefig('plots/bubble_plot.png')\n",
    "plt.show()\n",
    "\n"
   ]
  },
  {
   "cell_type": "code",
   "execution_count": null,
   "metadata": {},
   "outputs": [],
   "source": []
  },
  {
   "cell_type": "code",
   "execution_count": null,
   "metadata": {},
   "outputs": [],
   "source": []
  },
  {
   "cell_type": "code",
   "execution_count": 110,
   "metadata": {},
   "outputs": [],
   "source": [
    "g = df.groupby('zipcodes')\n",
    "rest_zips = [name for name,unused_df in g]\n",
    "# rest_zips"
   ]
  },
  {
   "cell_type": "code",
   "execution_count": 106,
   "metadata": {},
   "outputs": [],
   "source": [
    "# rest_zip = df['zipcodes'].unique()\n",
    "# rest_zip"
   ]
  },
  {
   "cell_type": "code",
   "execution_count": null,
   "metadata": {},
   "outputs": [],
   "source": []
  },
  {
   "cell_type": "code",
   "execution_count": 111,
   "metadata": {},
   "outputs": [],
   "source": [
    "import gmaps\n",
    "\n",
    "\n",
    "# Access maps with unique API key\n",
    "gmaps.configure(api_key=gkey)"
   ]
  },
  {
   "cell_type": "code",
   "execution_count": 112,
   "metadata": {},
   "outputs": [],
   "source": [
    "# # Customize the size of the figure\n",
    "# figure_layout = {\n",
    "#     'width': '400px',\n",
    "#     'height': '300px',\n",
    "#     'border': '1px solid black',\n",
    "#     'padding': '1px',\n",
    "#     'margin': '0 auto 0 auto'\n",
    "# }\n",
    "# fig = gmaps.figure(layout=figure_layout)"
   ]
  },
  {
   "cell_type": "code",
   "execution_count": null,
   "metadata": {},
   "outputs": [],
   "source": []
  },
  {
   "cell_type": "code",
   "execution_count": null,
   "metadata": {},
   "outputs": [],
   "source": []
  },
  {
   "cell_type": "code",
   "execution_count": null,
   "metadata": {},
   "outputs": [],
   "source": []
  },
  {
   "cell_type": "code",
   "execution_count": 113,
   "metadata": {},
   "outputs": [
    {
     "data": {
      "text/html": [
       "<div>\n",
       "<style scoped>\n",
       "    .dataframe tbody tr th:only-of-type {\n",
       "        vertical-align: middle;\n",
       "    }\n",
       "\n",
       "    .dataframe tbody tr th {\n",
       "        vertical-align: top;\n",
       "    }\n",
       "\n",
       "    .dataframe thead th {\n",
       "        text-align: right;\n",
       "    }\n",
       "</style>\n",
       "<table border=\"1\" class=\"dataframe\">\n",
       "  <thead>\n",
       "    <tr style=\"text-align: right;\">\n",
       "      <th></th>\n",
       "      <th>id</th>\n",
       "      <th>name</th>\n",
       "      <th>phone</th>\n",
       "      <th>address</th>\n",
       "      <th>category_alias</th>\n",
       "      <th>category_title</th>\n",
       "      <th>rating</th>\n",
       "      <th>review_count</th>\n",
       "      <th>lat</th>\n",
       "      <th>lon</th>\n",
       "    </tr>\n",
       "  </thead>\n",
       "  <tbody>\n",
       "    <tr>\n",
       "      <th>1466</th>\n",
       "      <td>3jfH3FY3jH16d6U57lBe_A</td>\n",
       "      <td>All Flavor No Grease</td>\n",
       "      <td>1.323318e+10</td>\n",
       "      <td>728 E 108th St  Los Angeles, CA 90059</td>\n",
       "      <td>foodtrucks, mexican,</td>\n",
       "      <td>Food Trucks, Mexican,</td>\n",
       "      <td>4.0</td>\n",
       "      <td>258</td>\n",
       "      <td>33.93804</td>\n",
       "      <td>-118.26194</td>\n",
       "    </tr>\n",
       "  </tbody>\n",
       "</table>\n",
       "</div>"
      ],
      "text/plain": [
       "                          id                  name         phone  \\\n",
       "1466  3jfH3FY3jH16d6U57lBe_A  All Flavor No Grease  1.323318e+10   \n",
       "\n",
       "                                    address         category_alias  \\\n",
       "1466  728 E 108th St  Los Angeles, CA 90059  foodtrucks, mexican,    \n",
       "\n",
       "              category_title  rating  review_count       lat        lon  \n",
       "1466  Food Trucks, Mexican,      4.0           258  33.93804 -118.26194  "
      ]
     },
     "execution_count": 113,
     "metadata": {},
     "output_type": "execute_result"
    }
   ],
   "source": [
    "#datframe for all types of food\n",
    "aT=pd.read_csv('../csv/LA_rest_yelp_no_dupes.csv')\n",
    "aT.sample()"
   ]
  },
  {
   "cell_type": "code",
   "execution_count": 114,
   "metadata": {},
   "outputs": [
    {
     "data": {
      "text/html": [
       "<div>\n",
       "<style scoped>\n",
       "    .dataframe tbody tr th:only-of-type {\n",
       "        vertical-align: middle;\n",
       "    }\n",
       "\n",
       "    .dataframe tbody tr th {\n",
       "        vertical-align: top;\n",
       "    }\n",
       "\n",
       "    .dataframe thead th {\n",
       "        text-align: right;\n",
       "    }\n",
       "</style>\n",
       "<table border=\"1\" class=\"dataframe\">\n",
       "  <thead>\n",
       "    <tr style=\"text-align: right;\">\n",
       "      <th></th>\n",
       "      <th>id</th>\n",
       "      <th>name</th>\n",
       "      <th>phone</th>\n",
       "      <th>address</th>\n",
       "      <th>category_alias</th>\n",
       "      <th>category_title</th>\n",
       "      <th>rating</th>\n",
       "      <th>review_count</th>\n",
       "      <th>lat</th>\n",
       "      <th>lon</th>\n",
       "      <th>zipcodes</th>\n",
       "    </tr>\n",
       "  </thead>\n",
       "  <tbody>\n",
       "    <tr>\n",
       "      <th>19265</th>\n",
       "      <td>yz_NUxyTowR0NbN7wjmtHg</td>\n",
       "      <td>Anchor Bay at Sideyard Cafe</td>\n",
       "      <td>1.562493e+10</td>\n",
       "      <td>2222 Palo Verde Ave  Long Beach, CA 90815</td>\n",
       "      <td>seafood, newamerican, burgers,</td>\n",
       "      <td>Seafood, American (New), Burgers,</td>\n",
       "      <td>5.0</td>\n",
       "      <td>1</td>\n",
       "      <td>33.796071</td>\n",
       "      <td>-118.107686</td>\n",
       "      <td>90815</td>\n",
       "    </tr>\n",
       "  </tbody>\n",
       "</table>\n",
       "</div>"
      ],
      "text/plain": [
       "                           id                         name         phone  \\\n",
       "19265  yz_NUxyTowR0NbN7wjmtHg  Anchor Bay at Sideyard Cafe  1.562493e+10   \n",
       "\n",
       "                                         address  \\\n",
       "19265  2222 Palo Verde Ave  Long Beach, CA 90815   \n",
       "\n",
       "                        category_alias                      category_title  \\\n",
       "19265  seafood, newamerican, burgers,   Seafood, American (New), Burgers,    \n",
       "\n",
       "       rating  review_count        lat         lon zipcodes  \n",
       "19265     5.0             1  33.796071 -118.107686    90815  "
      ]
     },
     "execution_count": 114,
     "metadata": {},
     "output_type": "execute_result"
    }
   ],
   "source": [
    "zipcodes = list()\n",
    "\n",
    "for item in aT['address']:\n",
    "    zipcode = item.split()[-1]\n",
    "    zipcodes.append(zipcode)\n",
    "\n",
    "aT['zipcodes'] = zipcodes\n",
    "aT = pd.DataFrame(aT)\n",
    "aT.sample()"
   ]
  },
  {
   "cell_type": "code",
   "execution_count": 115,
   "metadata": {},
   "outputs": [
    {
     "data": {
      "text/plain": [
       "['Suite 131  735 S Figueroa Street  Los Angeles 90017  United Kingdom',\n",
       " '243 Castle La West  Bournemouth BH8 9TG  United Kingdom',\n",
       " '181 Thornley La South  Stockport SK5 6QG  United Kingdom']"
      ]
     },
     "execution_count": 115,
     "metadata": {},
     "output_type": "execute_result"
    }
   ],
   "source": [
    "list(aT[aT[\"zipcodes\"]=='Kingdom']['address'])"
   ]
  },
  {
   "cell_type": "code",
   "execution_count": 116,
   "metadata": {},
   "outputs": [
    {
     "data": {
      "text/plain": [
       "['Cudahy St  Los Angeles, CA',\n",
       " 'Los Angeles  Los Angeles, CA',\n",
       " 'Carson, CA',\n",
       " 'Torrance, CA',\n",
       " '102 Stonewood Mall  Downey, CA',\n",
       " 'Los Angeles, CA',\n",
       " 'Los Angeles, CA',\n",
       " 'Los Angeles, CA',\n",
       " 'Los Angeles, CA',\n",
       " 'Long Beach, CA',\n",
       " 'Los Angeles, CA',\n",
       " 'Los Angeles, CA',\n",
       " 'Los Angeles, CA',\n",
       " 'Hollywood  Holllywood, CA',\n",
       " '543 Hotel Cir S  San Pedro, CA',\n",
       " 'Orange, CA',\n",
       " 'Los Angeles, CA',\n",
       " 'Downtown  Los Angeles, CA',\n",
       " 'Los Angeles, CA',\n",
       " 'Los Angeles, CA',\n",
       " 'Los Angeles, CA',\n",
       " 'Los Angeles, CA',\n",
       " 'Lakewood, CA',\n",
       " 'Los Angeles, CA',\n",
       " 'Los Angeles, CA',\n",
       " 'Los Angeles, CA',\n",
       " 'Los Angeles, CA',\n",
       " 'hollywood  Los Angeles, CA',\n",
       " 'Los Angeles, CA',\n",
       " 'Los Angeles, CA',\n",
       " 'Los Angeles, CA',\n",
       " '3RD St Normandie Ave NW  Los Angeles, CA',\n",
       " 'Los Angeles, CA',\n",
       " 'Los Angeles, CA',\n",
       " '5311 Cotner Ave  Los Angeles, CA',\n",
       " 'Long Beach, CA',\n",
       " 'Norwalk, CA',\n",
       " 'Los Angeles, CA',\n",
       " 'Los Angeles, CA',\n",
       " 'Los Angeles, CA',\n",
       " 'Los Angeles, CA',\n",
       " '12TH Between Main And Los Angeles  Santee Alley Area  Los Angeles, CA',\n",
       " 'Redondo Beach, CA',\n",
       " 'Beverly Hills, CA',\n",
       " 'Los Angeles, CA',\n",
       " 'Los Angeles, CA',\n",
       " 'Los Angeles, CA',\n",
       " 'Los Angeles, CA',\n",
       " 'Bell, CA',\n",
       " 'Hermosa Beach  Los Angeles, CA',\n",
       " 'Los Angeles, CA',\n",
       " 'Los Angeles, CA',\n",
       " 'Los Angeles, CA',\n",
       " 'Long Beach, CA',\n",
       " 'Santa Monica, CA',\n",
       " 'Los Angeles, CA',\n",
       " 'Bell Gardens, CA',\n",
       " 'Los Angeles, CA',\n",
       " 'Los Angeles, CA',\n",
       " 'Los Angeles, CA',\n",
       " 'San Fernando Valley, CA',\n",
       " 'Los Angeles, CA',\n",
       " 'Los Angeles, CA',\n",
       " 'Los Angeles, CA',\n",
       " 'Beach Blvd  Buena Park, CA',\n",
       " 'Los Angeles, CA',\n",
       " 'Los Angeles, CA',\n",
       " 'Los Angeles, CA',\n",
       " 'Los Angeles, CA',\n",
       " 'Los Angeles, CA',\n",
       " 'Los Angeles, CA',\n",
       " 'Los Angeles, CA',\n",
       " 'West Los Angeles, CA',\n",
       " 'Los Angeles, CA',\n",
       " 'Redondo Beach, CA',\n",
       " 'Los Angeles, CA',\n",
       " 'Los Angeles, CA',\n",
       " 'Los Angeles, CA',\n",
       " 'Los Angeles, CA',\n",
       " 'Los Angeles, CA',\n",
       " 'Los Angeles, CA',\n",
       " 'Los Angeles, CA',\n",
       " 'Los Angeles, CA',\n",
       " 'Plaza Mexico  Lynwood, CA',\n",
       " 'Thousand Oaks, CA',\n",
       " 'Buena Park, CA',\n",
       " 'Los Angeles, CA']"
      ]
     },
     "execution_count": 116,
     "metadata": {},
     "output_type": "execute_result"
    }
   ],
   "source": [
    "list(aT[aT[\"zipcodes\"]=='CA']['address'])"
   ]
  },
  {
   "cell_type": "code",
   "execution_count": 117,
   "metadata": {},
   "outputs": [
    {
     "data": {
      "text/html": [
       "<div>\n",
       "<style scoped>\n",
       "    .dataframe tbody tr th:only-of-type {\n",
       "        vertical-align: middle;\n",
       "    }\n",
       "\n",
       "    .dataframe tbody tr th {\n",
       "        vertical-align: top;\n",
       "    }\n",
       "\n",
       "    .dataframe thead th {\n",
       "        text-align: right;\n",
       "    }\n",
       "</style>\n",
       "<table border=\"1\" class=\"dataframe\">\n",
       "  <thead>\n",
       "    <tr style=\"text-align: right;\">\n",
       "      <th></th>\n",
       "      <th>id</th>\n",
       "      <th>name</th>\n",
       "      <th>phone</th>\n",
       "      <th>address</th>\n",
       "      <th>category_alias</th>\n",
       "      <th>category_title</th>\n",
       "      <th>rating</th>\n",
       "      <th>review_count</th>\n",
       "      <th>lat</th>\n",
       "      <th>lon</th>\n",
       "      <th>zipcodes</th>\n",
       "    </tr>\n",
       "  </thead>\n",
       "  <tbody>\n",
       "    <tr>\n",
       "      <th>746</th>\n",
       "      <td>1AwrbEB-FQ32-CtKAdUr4A</td>\n",
       "      <td>Chick 'N Chow</td>\n",
       "      <td>1.310275e+10</td>\n",
       "      <td>9301 W Pico Blvd  Los Angeles, CA 90035</td>\n",
       "      <td>chinese, kosher,</td>\n",
       "      <td>Chinese, Kosher,</td>\n",
       "      <td>3.5</td>\n",
       "      <td>99</td>\n",
       "      <td>34.056073</td>\n",
       "      <td>-118.393096</td>\n",
       "      <td>90035</td>\n",
       "    </tr>\n",
       "  </tbody>\n",
       "</table>\n",
       "</div>"
      ],
      "text/plain": [
       "                         id           name         phone  \\\n",
       "746  1AwrbEB-FQ32-CtKAdUr4A  Chick 'N Chow  1.310275e+10   \n",
       "\n",
       "                                     address     category_alias  \\\n",
       "746  9301 W Pico Blvd  Los Angeles, CA 90035  chinese, kosher,    \n",
       "\n",
       "        category_title  rating  review_count        lat         lon zipcodes  \n",
       "746  Chinese, Kosher,      3.5            99  34.056073 -118.393096    90035  "
      ]
     },
     "execution_count": 117,
     "metadata": {},
     "output_type": "execute_result"
    }
   ],
   "source": [
    "aT=aT[aT.zipcodes.str.startswith('9')]\n",
    "aT.sample()"
   ]
  },
  {
   "cell_type": "code",
   "execution_count": null,
   "metadata": {},
   "outputs": [],
   "source": []
  },
  {
   "cell_type": "code",
   "execution_count": null,
   "metadata": {},
   "outputs": [],
   "source": []
  },
  {
   "cell_type": "code",
   "execution_count": 118,
   "metadata": {},
   "outputs": [],
   "source": [
    "aT=aT[aT[\"review_count\"]>=100]"
   ]
  },
  {
   "cell_type": "code",
   "execution_count": 198,
   "metadata": {
    "scrolled": true
   },
   "outputs": [
    {
     "data": {
      "image/png": "[encoded data removed]",
      "text/plain": [
       "<Figure size 432x288 with 1 Axes>"
      ]
     },
     "metadata": {
      "needs_background": "light"
     },
     "output_type": "display_data"
    }
   ],
   "source": [
    "x = aT[\"review_count\"]\n",
    "y = aT[\"rating\"]\n",
    "z = aT.zipcodes.astype(int)\n",
    "# z=z*z\n",
    "# z=z.sum()\n",
    "\n",
    "# Change color with c and alpha. I map the color to the X axis value.\n",
    "plt.scatter(x, y, s=50, c=z, cmap=\"Pastel1\", alpha=0.4, edgecolors=\"grey\", linewidth=.5)\n",
    " \n",
    "# Add titles (main and on axis)\n",
    "plt.xlabel(\"Number of Reviews\")\n",
    "plt.ylabel(\"Average Rating\")\n",
    "plt.title(\"Restaurants by Rating and Review Count\")\n",
    "plt.savefig('plots/scat_plot.png')\n",
    "plt.show()"
   ]
  },
  {
   "cell_type": "code",
   "execution_count": 199,
   "metadata": {},
   "outputs": [
    {
     "data": {
      "text/html": [
       "<div>\n",
       "<style scoped>\n",
       "    .dataframe tbody tr th:only-of-type {\n",
       "        vertical-align: middle;\n",
       "    }\n",
       "\n",
       "    .dataframe tbody tr th {\n",
       "        vertical-align: top;\n",
       "    }\n",
       "\n",
       "    .dataframe thead th {\n",
       "        text-align: right;\n",
       "    }\n",
       "</style>\n",
       "<table border=\"1\" class=\"dataframe\">\n",
       "  <thead>\n",
       "    <tr style=\"text-align: right;\">\n",
       "      <th></th>\n",
       "      <th>id</th>\n",
       "      <th>name</th>\n",
       "      <th>phone</th>\n",
       "      <th>address</th>\n",
       "      <th>category_alias</th>\n",
       "      <th>category_title</th>\n",
       "      <th>rating</th>\n",
       "      <th>review_count</th>\n",
       "      <th>lat</th>\n",
       "      <th>lon</th>\n",
       "      <th>zipcodes</th>\n",
       "    </tr>\n",
       "  </thead>\n",
       "  <tbody>\n",
       "    <tr>\n",
       "      <th>15773</th>\n",
       "      <td>TkFEKhsCixPWlShULKvMdQ</td>\n",
       "      <td>Bottega Louie</td>\n",
       "      <td>1.213802e+10</td>\n",
       "      <td>700 S Grand Ave  Los Angeles, CA 90017</td>\n",
       "      <td>italian, bakeries, breakfast_brunch,</td>\n",
       "      <td>Italian, Bakeries, Breakfast &amp; Brunch,</td>\n",
       "      <td>4.0</td>\n",
       "      <td>16955</td>\n",
       "      <td>34.04693</td>\n",
       "      <td>-118.256601</td>\n",
       "      <td>90017</td>\n",
       "    </tr>\n",
       "  </tbody>\n",
       "</table>\n",
       "</div>"
      ],
      "text/plain": [
       "                           id           name         phone  \\\n",
       "15773  TkFEKhsCixPWlShULKvMdQ  Bottega Louie  1.213802e+10   \n",
       "\n",
       "                                      address  \\\n",
       "15773  700 S Grand Ave  Los Angeles, CA 90017   \n",
       "\n",
       "                              category_alias  \\\n",
       "15773  italian, bakeries, breakfast_brunch,    \n",
       "\n",
       "                                category_title  rating  review_count  \\\n",
       "15773  Italian, Bakeries, Breakfast & Brunch,      4.0         16955   \n",
       "\n",
       "            lat         lon zipcodes  \n",
       "15773  34.04693 -118.256601    90017  "
      ]
     },
     "execution_count": 199,
     "metadata": {},
     "output_type": "execute_result"
    }
   ],
   "source": [
    "aT[aT[\"review_count\"]>=15000]"
   ]
  },
  {
   "cell_type": "code",
   "execution_count": 200,
   "metadata": {},
   "outputs": [
    {
     "data": {
      "text/plain": [
       "phone           1.217504e+10\n",
       "rating          3.698795e+00\n",
       "review_count    7.163614e+02\n",
       "lat             3.404958e+01\n",
       "lon            -1.182615e+02\n",
       "zipcodes                 inf\n",
       "dtype: float64"
      ]
     },
     "execution_count": 200,
     "metadata": {},
     "output_type": "execute_result"
    }
   ],
   "source": [
    "aT[aT[\"zipcodes\"]=='90017'].mean()"
   ]
  },
  {
   "cell_type": "code",
   "execution_count": 201,
   "metadata": {},
   "outputs": [
    {
     "data": {
      "text/html": [
       "<div>\n",
       "<style scoped>\n",
       "    .dataframe tbody tr th:only-of-type {\n",
       "        vertical-align: middle;\n",
       "    }\n",
       "\n",
       "    .dataframe tbody tr th {\n",
       "        vertical-align: top;\n",
       "    }\n",
       "\n",
       "    .dataframe thead th {\n",
       "        text-align: right;\n",
       "    }\n",
       "</style>\n",
       "<table border=\"1\" class=\"dataframe\">\n",
       "  <thead>\n",
       "    <tr style=\"text-align: right;\">\n",
       "      <th></th>\n",
       "      <th>phone</th>\n",
       "      <th>rating</th>\n",
       "      <th>review_count</th>\n",
       "      <th>lat</th>\n",
       "      <th>lon</th>\n",
       "    </tr>\n",
       "  </thead>\n",
       "  <tbody>\n",
       "    <tr>\n",
       "      <th>count</th>\n",
       "      <td>1.064200e+04</td>\n",
       "      <td>10741.000000</td>\n",
       "      <td>10741.000000</td>\n",
       "      <td>10741.000000</td>\n",
       "      <td>10741.000000</td>\n",
       "    </tr>\n",
       "    <tr>\n",
       "      <th>mean</th>\n",
       "      <td>1.483958e+10</td>\n",
       "      <td>3.821758</td>\n",
       "      <td>503.393259</td>\n",
       "      <td>33.981854</td>\n",
       "      <td>-118.253166</td>\n",
       "    </tr>\n",
       "    <tr>\n",
       "      <th>std</th>\n",
       "      <td>2.036202e+09</td>\n",
       "      <td>0.579965</td>\n",
       "      <td>598.806651</td>\n",
       "      <td>0.133527</td>\n",
       "      <td>0.193931</td>\n",
       "    </tr>\n",
       "    <tr>\n",
       "      <th>min</th>\n",
       "      <td>1.201844e+10</td>\n",
       "      <td>1.500000</td>\n",
       "      <td>100.000000</td>\n",
       "      <td>33.662399</td>\n",
       "      <td>-122.636364</td>\n",
       "    </tr>\n",
       "    <tr>\n",
       "      <th>25%</th>\n",
       "      <td>1.310560e+10</td>\n",
       "      <td>3.500000</td>\n",
       "      <td>179.000000</td>\n",
       "      <td>33.870215</td>\n",
       "      <td>-118.383880</td>\n",
       "    </tr>\n",
       "    <tr>\n",
       "      <th>50%</th>\n",
       "      <td>1.424278e+10</td>\n",
       "      <td>4.000000</td>\n",
       "      <td>316.000000</td>\n",
       "      <td>34.017345</td>\n",
       "      <td>-118.280314</td>\n",
       "    </tr>\n",
       "    <tr>\n",
       "      <th>75%</th>\n",
       "      <td>1.626965e+10</td>\n",
       "      <td>4.000000</td>\n",
       "      <td>597.000000</td>\n",
       "      <td>34.076020</td>\n",
       "      <td>-118.113167</td>\n",
       "    </tr>\n",
       "    <tr>\n",
       "      <th>max</th>\n",
       "      <td>1.951456e+10</td>\n",
       "      <td>5.000000</td>\n",
       "      <td>16955.000000</td>\n",
       "      <td>37.895588</td>\n",
       "      <td>-117.750724</td>\n",
       "    </tr>\n",
       "  </tbody>\n",
       "</table>\n",
       "</div>"
      ],
      "text/plain": [
       "              phone        rating  review_count           lat           lon\n",
       "count  1.064200e+04  10741.000000  10741.000000  10741.000000  10741.000000\n",
       "mean   1.483958e+10      3.821758    503.393259     33.981854   -118.253166\n",
       "std    2.036202e+09      0.579965    598.806651      0.133527      0.193931\n",
       "min    1.201844e+10      1.500000    100.000000     33.662399   -122.636364\n",
       "25%    1.310560e+10      3.500000    179.000000     33.870215   -118.383880\n",
       "50%    1.424278e+10      4.000000    316.000000     34.017345   -118.280314\n",
       "75%    1.626965e+10      4.000000    597.000000     34.076020   -118.113167\n",
       "max    1.951456e+10      5.000000  16955.000000     37.895588   -117.750724"
      ]
     },
     "execution_count": 201,
     "metadata": {},
     "output_type": "execute_result"
    }
   ],
   "source": [
    "aT.describe()"
   ]
  },
  {
   "cell_type": "code",
   "execution_count": 202,
   "metadata": {
    "scrolled": true
   },
   "outputs": [],
   "source": [
    "badR=aT[(aT[\"review_count\"]>=500) & (aT[\"rating\"]== 1.5)]"
   ]
  },
  {
   "cell_type": "code",
   "execution_count": 203,
   "metadata": {},
   "outputs": [],
   "source": [
    "# Store latitude and longitude in locations\n",
    "locations = badR[[\"lat\", \"lon\"]]\n",
    "\n",
    "\n",
    "# Fill NaN values and convert to float\n",
    "rating = badR[\"rating\"].astype(float)\n",
    "\n",
    "\n"
   ]
  },
  {
   "cell_type": "code",
   "execution_count": 204,
   "metadata": {},
   "outputs": [
    {
     "data": {
      "text/html": [
       "<div>\n",
       "<style scoped>\n",
       "    .dataframe tbody tr th:only-of-type {\n",
       "        vertical-align: middle;\n",
       "    }\n",
       "\n",
       "    .dataframe tbody tr th {\n",
       "        vertical-align: top;\n",
       "    }\n",
       "\n",
       "    .dataframe thead th {\n",
       "        text-align: right;\n",
       "    }\n",
       "</style>\n",
       "<table border=\"1\" class=\"dataframe\">\n",
       "  <thead>\n",
       "    <tr style=\"text-align: right;\">\n",
       "      <th></th>\n",
       "      <th>lat</th>\n",
       "      <th>lon</th>\n",
       "    </tr>\n",
       "  </thead>\n",
       "  <tbody>\n",
       "    <tr>\n",
       "      <th>8855</th>\n",
       "      <td>33.847007</td>\n",
       "      <td>-118.262301</td>\n",
       "    </tr>\n",
       "  </tbody>\n",
       "</table>\n",
       "</div>"
      ],
      "text/plain": [
       "            lat         lon\n",
       "8855  33.847007 -118.262301"
      ]
     },
     "execution_count": 204,
     "metadata": {},
     "output_type": "execute_result"
    }
   ],
   "source": [
    "locations"
   ]
  },
  {
   "cell_type": "code",
   "execution_count": 205,
   "metadata": {},
   "outputs": [
    {
     "data": {
      "application/vnd.jupyter.widget-view+json": {
       "model_id": "9ad752c58ca4475b8191f82b2c589131",
       "version_major": 2,
       "version_minor": 0
      },
      "text/plain": [
       "Figure(layout=FigureLayout(height='420px'))"
      ]
     },
     "metadata": {},
     "output_type": "display_data"
    }
   ],
   "source": [
    "# Plot Heatmap\n",
    "fig = gmaps.figure(center=(33.847007,-118.262301), tilt=45, zoom_level=12,)\n",
    "\n",
    "\n",
    "# Assign the marker layer to a variable\n",
    "markers = gmaps.marker_layer(locations, info_box_content='Buffalo Wild Wings' + '<br>' +' Rating of 1.5!')\n",
    "# Add the layer to the map\n",
    "fig.add_layer(markers)\n",
    "fig\n",
    "\n",
    "# Create heat layer\n",
    "# heat_layer = gmaps.heatmap_layer(locations, weights=rating, \n",
    "#                                  dissipating=False, max_intensity=10,\n",
    "#                                  point_radius=1)\n",
    "\n",
    "# heat_layer = gmaps.heatmap_layer(locations, weights=rating-.5, \n",
    "#                                  dissipating=False, max_intensity=1.5,\n",
    "#                                  point_radius = .0008)\n",
    "\n",
    "# # Add layer\n",
    "# fig.add_layer(heat_layer)\n",
    "\n",
    "# # Display figure\n",
    "# fig"
   ]
  },
  {
   "cell_type": "code",
   "execution_count": null,
   "metadata": {},
   "outputs": [],
   "source": []
  },
  {
   "cell_type": "code",
   "execution_count": 213,
   "metadata": {},
   "outputs": [
    {
     "data": {
      "text/html": [
       "<div>\n",
       "<style scoped>\n",
       "    .dataframe tbody tr th:only-of-type {\n",
       "        vertical-align: middle;\n",
       "    }\n",
       "\n",
       "    .dataframe tbody tr th {\n",
       "        vertical-align: top;\n",
       "    }\n",
       "\n",
       "    .dataframe thead th {\n",
       "        text-align: right;\n",
       "    }\n",
       "</style>\n",
       "<table border=\"1\" class=\"dataframe\">\n",
       "  <thead>\n",
       "    <tr style=\"text-align: right;\">\n",
       "      <th></th>\n",
       "      <th>id</th>\n",
       "      <th>name</th>\n",
       "      <th>phone</th>\n",
       "      <th>address</th>\n",
       "      <th>category_alias</th>\n",
       "      <th>category_title</th>\n",
       "      <th>rating</th>\n",
       "      <th>review_count</th>\n",
       "      <th>lat</th>\n",
       "      <th>lon</th>\n",
       "      <th>zipcodes</th>\n",
       "    </tr>\n",
       "  </thead>\n",
       "  <tbody>\n",
       "    <tr>\n",
       "      <th>15773</th>\n",
       "      <td>TkFEKhsCixPWlShULKvMdQ</td>\n",
       "      <td>Bottega Louie</td>\n",
       "      <td>1.213802e+10</td>\n",
       "      <td>700 S Grand Ave  Los Angeles, CA 90017</td>\n",
       "      <td>italian, bakeries, breakfast_brunch,</td>\n",
       "      <td>Italian, Bakeries, Breakfast &amp; Brunch,</td>\n",
       "      <td>4.0</td>\n",
       "      <td>16955</td>\n",
       "      <td>34.04693</td>\n",
       "      <td>-118.256601</td>\n",
       "      <td>90017</td>\n",
       "    </tr>\n",
       "  </tbody>\n",
       "</table>\n",
       "</div>"
      ],
      "text/plain": [
       "                           id           name         phone  \\\n",
       "15773  TkFEKhsCixPWlShULKvMdQ  Bottega Louie  1.213802e+10   \n",
       "\n",
       "                                      address  \\\n",
       "15773  700 S Grand Ave  Los Angeles, CA 90017   \n",
       "\n",
       "                              category_alias  \\\n",
       "15773  italian, bakeries, breakfast_brunch,    \n",
       "\n",
       "                                category_title  rating  review_count  \\\n",
       "15773  Italian, Bakeries, Breakfast & Brunch,      4.0         16955   \n",
       "\n",
       "            lat         lon zipcodes  \n",
       "15773  34.04693 -118.256601    90017  "
      ]
     },
     "execution_count": 213,
     "metadata": {},
     "output_type": "execute_result"
    }
   ],
   "source": [
    "bestR=aT[aT[\"review_count\"]>=15000]\n",
    "bestR"
   ]
  },
  {
   "cell_type": "code",
   "execution_count": 214,
   "metadata": {},
   "outputs": [],
   "source": [
    "# Store latitude and longitude in locations\n",
    "locations = bestR[[\"lat\", \"lon\"]]\n",
    "\n",
    "\n",
    "# Fill NaN values and convert to float\n",
    "rating = bestR[\"rating\"].astype(float)\n",
    "\n",
    "\n"
   ]
  },
  {
   "cell_type": "code",
   "execution_count": 215,
   "metadata": {},
   "outputs": [
    {
     "data": {
      "text/html": [
       "<div>\n",
       "<style scoped>\n",
       "    .dataframe tbody tr th:only-of-type {\n",
       "        vertical-align: middle;\n",
       "    }\n",
       "\n",
       "    .dataframe tbody tr th {\n",
       "        vertical-align: top;\n",
       "    }\n",
       "\n",
       "    .dataframe thead th {\n",
       "        text-align: right;\n",
       "    }\n",
       "</style>\n",
       "<table border=\"1\" class=\"dataframe\">\n",
       "  <thead>\n",
       "    <tr style=\"text-align: right;\">\n",
       "      <th></th>\n",
       "      <th>lat</th>\n",
       "      <th>lon</th>\n",
       "    </tr>\n",
       "  </thead>\n",
       "  <tbody>\n",
       "    <tr>\n",
       "      <th>15773</th>\n",
       "      <td>34.04693</td>\n",
       "      <td>-118.256601</td>\n",
       "    </tr>\n",
       "  </tbody>\n",
       "</table>\n",
       "</div>"
      ],
      "text/plain": [
       "            lat         lon\n",
       "15773  34.04693 -118.256601"
      ]
     },
     "execution_count": 215,
     "metadata": {},
     "output_type": "execute_result"
    }
   ],
   "source": [
    "locations"
   ]
  },
  {
   "cell_type": "code",
   "execution_count": 217,
   "metadata": {},
   "outputs": [
    {
     "data": {
      "application/vnd.jupyter.widget-view+json": {
       "model_id": "aaa5acb5eed448eaafc4de9e98609205",
       "version_major": 2,
       "version_minor": 0
      },
      "text/plain": [
       "Figure(layout=FigureLayout(height='420px'))"
      ]
     },
     "metadata": {},
     "output_type": "display_data"
    }
   ],
   "source": [
    "# Plot Heatmap\n",
    "fig = gmaps.figure(center=(34.04693,-118.256601), tilt=45, zoom_level=12,)\n",
    "\n",
    "\n",
    "# Assign the marker layer to a variable\n",
    "markers = gmaps.marker_layer(locations, info_box_content='Bottega Louie' + '<br>' +' 17,000 Reviews!')\n",
    "# Add the layer to the map\n",
    "fig.add_layer(markers)\n",
    "fig\n",
    "\n",
    "# Create heat layer\n",
    "# heat_layer = gmaps.heatmap_layer(locations, weights=rating, \n",
    "#                                  dissipating=False, max_intensity=10,\n",
    "#                                  point_radius=1)\n",
    "\n",
    "# heat_layer = gmaps.heatmap_layer(locations, weights=rating-.5, \n",
    "#                                  dissipating=False, max_intensity=1.5,\n",
    "#                                  point_radius = .0008)\n",
    "\n",
    "# # Add layer\n",
    "# fig.add_layer(heat_layer)\n",
    "\n",
    "# # Display figure\n",
    "# fig"
   ]
  },
  {
   "cell_type": "code",
   "execution_count": null,
   "metadata": {},
   "outputs": [],
   "source": []
  },
  {
   "cell_type": "code",
   "execution_count": 253,
   "metadata": {},
   "outputs": [],
   "source": [
    "mapdf=aT[(aT[\"zipcodes\"]=='90017') & (aT[\"rating\"]>= 3.5)]\n"
   ]
  },
  {
   "cell_type": "code",
   "execution_count": 254,
   "metadata": {},
   "outputs": [],
   "source": [
    "lat=list(mapdf['lat'])\n",
    "lon=list(mapdf['lon'])"
   ]
  },
  {
   "cell_type": "code",
   "execution_count": 255,
   "metadata": {},
   "outputs": [],
   "source": [
    "# coordinates = [\n",
    "#     (40.71, -74.00),]"
   ]
  },
  {
   "cell_type": "code",
   "execution_count": 256,
   "metadata": {},
   "outputs": [
    {
     "data": {
      "text/plain": [
       "<zip at 0x102aea5280>"
      ]
     },
     "execution_count": 256,
     "metadata": {},
     "output_type": "execute_result"
    }
   ],
   "source": [
    "zip(lat, lon)"
   ]
  },
  {
   "cell_type": "code",
   "execution_count": 257,
   "metadata": {},
   "outputs": [],
   "source": [
    "coordinates = [x for x in zip(lat, lon)]"
   ]
  },
  {
   "cell_type": "code",
   "execution_count": 258,
   "metadata": {},
   "outputs": [],
   "source": [
    "# # Customize the size of the figure\n",
    "# figure_layout = {\n",
    "#     'width': '400px',\n",
    "#     'height': '300px',\n",
    "#     'border': '1px solid black',\n",
    "#     'padding': '1px',\n",
    "#     'margin': '0 auto 0 auto'\n",
    "# }\n",
    "# fig = gmaps.figure(layout=figure_layout)"
   ]
  },
  {
   "cell_type": "code",
   "execution_count": 134,
   "metadata": {
    "scrolled": false
   },
   "outputs": [
    {
     "data": {
      "application/vnd.jupyter.widget-view+json": {
       "model_id": "dd3e1b2ec640443fbb3893a809d14692",
       "version_major": 2,
       "version_minor": 0
      },
      "text/plain": [
       "Figure(layout=FigureLayout(border='1px solid black', height='300px', margin='0 auto 0 auto', padding='1px', wi…"
      ]
     },
     "metadata": {},
     "output_type": "display_data"
    }
   ],
   "source": [
    "# Customize the size of the figure\n",
    "figure_layout = {\n",
    "    'width': '400px',\n",
    "    'height': '300px',\n",
    "    'border': '1px solid black',\n",
    "    'padding': '1px',\n",
    "    'margin': '0 auto 0 auto'\n",
    "}\n",
    "fig = gmaps.figure(layout=figure_layout)\n",
    "# Assign the marker layer to a variable\n",
    "# markers = gmaps.marker_layer(coordinates)\n",
    "heat_layer = gmaps.heatmap_layer(coordinates, weights=mapdf['rating']-3.5, \n",
    "                                 dissipating=False, max_intensity=1.5,\n",
    "                                 point_radius = .0008)\n",
    "# Add the layer to the map\n",
    "fig.add_layer(heat_layer)\n",
    "fig"
   ]
  },
  {
   "cell_type": "code",
   "execution_count": null,
   "metadata": {},
   "outputs": [],
   "source": []
  },
  {
   "cell_type": "code",
   "execution_count": 135,
   "metadata": {},
   "outputs": [
    {
     "ename": "NameError",
     "evalue": "name 'locations' is not defined",
     "output_type": "error",
     "traceback": [
      "\u001b[0;31m---------------------------------------------------------------------------\u001b[0m",
      "\u001b[0;31mNameError\u001b[0m                                 Traceback (most recent call last)",
      "\u001b[0;32m<ipython-input-135-e30e16b48831>\u001b[0m in \u001b[0;36m<module>\u001b[0;34m\u001b[0m\n\u001b[1;32m      2\u001b[0m \u001b[0mfig\u001b[0m \u001b[0;34m=\u001b[0m \u001b[0mgmaps\u001b[0m\u001b[0;34m.\u001b[0m\u001b[0mfigure\u001b[0m\u001b[0;34m(\u001b[0m\u001b[0;34m)\u001b[0m\u001b[0;34m\u001b[0m\u001b[0;34m\u001b[0m\u001b[0m\n\u001b[1;32m      3\u001b[0m \u001b[0;34m\u001b[0m\u001b[0m\n\u001b[0;32m----> 4\u001b[0;31m heat_layer = gmaps.heatmap_layer(locations, weights=poverty_rate, \n\u001b[0m\u001b[1;32m      5\u001b[0m                                  \u001b[0mdissipating\u001b[0m\u001b[0;34m=\u001b[0m\u001b[0;32mFalse\u001b[0m\u001b[0;34m,\u001b[0m \u001b[0mmax_intensity\u001b[0m\u001b[0;34m=\u001b[0m\u001b[0;36m100\u001b[0m\u001b[0;34m,\u001b[0m\u001b[0;34m\u001b[0m\u001b[0;34m\u001b[0m\u001b[0m\n\u001b[1;32m      6\u001b[0m                                  point_radius = 1)\n",
      "\u001b[0;31mNameError\u001b[0m: name 'locations' is not defined"
     ]
    }
   ],
   "source": []
  },
  {
   "cell_type": "code",
   "execution_count": null,
   "metadata": {},
   "outputs": [],
   "source": []
  },
  {
   "cell_type": "code",
   "execution_count": null,
   "metadata": {},
   "outputs": [],
   "source": []
  }
 ],
 "metadata": {
  "kernelspec": {
   "display_name": "Python 3",
   "language": "python",
   "name": "python3"
  },
  "language_info": {
   "codemirror_mode": {
    "name": "ipython",
    "version": 3
   },
   "file_extension": ".py",
   "mimetype": "text/x-python",
   "name": "python",
   "nbconvert_exporter": "python",
   "pygments_lexer": "ipython3",
   "version": "3.7.4"
  }
 },
 "nbformat": 4,
 "nbformat_minor": 4
}
