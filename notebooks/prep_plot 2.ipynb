{
 "cells": [
  {
   "cell_type": "code",
   "execution_count": 1,
   "metadata": {},
   "outputs": [],
   "source": [
    "import pandas as pd\n",
    "import numpy as np\n",
    "import config\n",
    "from config import gkey"
   ]
  },
  {
   "cell_type": "code",
   "execution_count": 2,
   "metadata": {},
   "outputs": [],
   "source": [
    "df=pd.read_csv('../csv/la_rest_types.csv', index_col=False)"
   ]
  },
  {
   "cell_type": "code",
   "execution_count": 3,
   "metadata": {},
   "outputs": [
    {
     "data": {
      "text/html": [
       "<div>\n",
       "<style scoped>\n",
       "    .dataframe tbody tr th:only-of-type {\n",
       "        vertical-align: middle;\n",
       "    }\n",
       "\n",
       "    .dataframe tbody tr th {\n",
       "        vertical-align: top;\n",
       "    }\n",
       "\n",
       "    .dataframe thead th {\n",
       "        text-align: right;\n",
       "    }\n",
       "</style>\n",
       "<table border=\"1\" class=\"dataframe\">\n",
       "  <thead>\n",
       "    <tr style=\"text-align: right;\">\n",
       "      <th></th>\n",
       "      <th>id</th>\n",
       "      <th>name</th>\n",
       "      <th>phone</th>\n",
       "      <th>address</th>\n",
       "      <th>category_alias</th>\n",
       "      <th>category_title</th>\n",
       "      <th>rating</th>\n",
       "      <th>review_count</th>\n",
       "      <th>lat</th>\n",
       "      <th>lon</th>\n",
       "      <th>zipcodes</th>\n",
       "    </tr>\n",
       "  </thead>\n",
       "  <tbody>\n",
       "    <tr>\n",
       "      <th>0</th>\n",
       "      <td>__4rPIbNWudQVuoaRs2MuQ</td>\n",
       "      <td>Best Shawarma</td>\n",
       "      <td>1.818551e+10</td>\n",
       "      <td>602 W Glenoaks Blvd  Glendale, CA 91202</td>\n",
       "      <td>mideastern, bbq, armenian,</td>\n",
       "      <td>Middle Eastern</td>\n",
       "      <td>4.0</td>\n",
       "      <td>349</td>\n",
       "      <td>34.159455</td>\n",
       "      <td>-118.267173</td>\n",
       "      <td>91202</td>\n",
       "    </tr>\n",
       "    <tr>\n",
       "      <th>1</th>\n",
       "      <td>__4rPIbNWudQVuoaRs2MuQ</td>\n",
       "      <td>Best Shawarma</td>\n",
       "      <td>1.818551e+10</td>\n",
       "      <td>602 W Glenoaks Blvd  Glendale, CA 91202</td>\n",
       "      <td>mideastern, bbq, armenian,</td>\n",
       "      <td>Barbeque</td>\n",
       "      <td>4.0</td>\n",
       "      <td>349</td>\n",
       "      <td>34.159455</td>\n",
       "      <td>-118.267173</td>\n",
       "      <td>91202</td>\n",
       "    </tr>\n",
       "  </tbody>\n",
       "</table>\n",
       "</div>"
      ],
      "text/plain": [
       "                       id           name         phone  \\\n",
       "0  __4rPIbNWudQVuoaRs2MuQ  Best Shawarma  1.818551e+10   \n",
       "1  __4rPIbNWudQVuoaRs2MuQ  Best Shawarma  1.818551e+10   \n",
       "\n",
       "                                   address               category_alias  \\\n",
       "0  602 W Glenoaks Blvd  Glendale, CA 91202  mideastern, bbq, armenian,    \n",
       "1  602 W Glenoaks Blvd  Glendale, CA 91202  mideastern, bbq, armenian,    \n",
       "\n",
       "   category_title  rating  review_count        lat         lon zipcodes  \n",
       "0  Middle Eastern     4.0           349  34.159455 -118.267173    91202  \n",
       "1        Barbeque     4.0           349  34.159455 -118.267173    91202  "
      ]
     },
     "execution_count": 3,
     "metadata": {},
     "output_type": "execute_result"
    }
   ],
   "source": [
    "# df.sample()\n",
    "df.head(2)\n"
   ]
  },
  {
   "cell_type": "code",
   "execution_count": 4,
   "metadata": {},
   "outputs": [
    {
     "data": {
      "text/plain": [
       "0        True\n",
       "1        True\n",
       "2        True\n",
       "3        True\n",
       "4        True\n",
       "         ... \n",
       "61420    True\n",
       "61421    True\n",
       "61422    True\n",
       "61423    True\n",
       "61424    True\n",
       "Name: zipcodes, Length: 61425, dtype: bool"
      ]
     },
     "execution_count": 4,
     "metadata": {},
     "output_type": "execute_result"
    }
   ],
   "source": [
    "df.zipcodes.str.startswith('9')"
   ]
  },
  {
   "cell_type": "code",
   "execution_count": 5,
   "metadata": {},
   "outputs": [],
   "source": [
    "df=df[df.zipcodes.str.startswith('9')]"
   ]
  },
  {
   "cell_type": "code",
   "execution_count": null,
   "metadata": {},
   "outputs": [],
   "source": []
  },
  {
   "cell_type": "code",
   "execution_count": 6,
   "metadata": {},
   "outputs": [],
   "source": [
    "# df.isnull()"
   ]
  },
  {
   "cell_type": "code",
   "execution_count": 7,
   "metadata": {},
   "outputs": [],
   "source": [
    "df['category_title'].replace(' ', np.nan, inplace=True)"
   ]
  },
  {
   "cell_type": "code",
   "execution_count": 8,
   "metadata": {},
   "outputs": [],
   "source": [
    "# df.isnull()"
   ]
  },
  {
   "cell_type": "code",
   "execution_count": 9,
   "metadata": {},
   "outputs": [],
   "source": [
    "df.dropna(inplace=True)"
   ]
  },
  {
   "cell_type": "code",
   "execution_count": 10,
   "metadata": {},
   "outputs": [
    {
     "data": {
      "text/html": [
       "<div>\n",
       "<style scoped>\n",
       "    .dataframe tbody tr th:only-of-type {\n",
       "        vertical-align: middle;\n",
       "    }\n",
       "\n",
       "    .dataframe tbody tr th {\n",
       "        vertical-align: top;\n",
       "    }\n",
       "\n",
       "    .dataframe thead th {\n",
       "        text-align: right;\n",
       "    }\n",
       "</style>\n",
       "<table border=\"1\" class=\"dataframe\">\n",
       "  <thead>\n",
       "    <tr style=\"text-align: right;\">\n",
       "      <th></th>\n",
       "      <th>id</th>\n",
       "      <th>name</th>\n",
       "      <th>phone</th>\n",
       "      <th>address</th>\n",
       "      <th>category_alias</th>\n",
       "      <th>category_title</th>\n",
       "      <th>rating</th>\n",
       "      <th>review_count</th>\n",
       "      <th>lat</th>\n",
       "      <th>lon</th>\n",
       "      <th>zipcodes</th>\n",
       "    </tr>\n",
       "  </thead>\n",
       "  <tbody>\n",
       "    <tr>\n",
       "      <th>38274</th>\n",
       "      <td>OCO1IXkppXtDW-4DZoIdpQ</td>\n",
       "      <td>Tree of Wishes</td>\n",
       "      <td>1.323297e+10</td>\n",
       "      <td>7469 Melrose Ave  Los Angeles, CA 90046</td>\n",
       "      <td>mideastern, mediterranean, newamerican,</td>\n",
       "      <td>Mediterranean</td>\n",
       "      <td>4.5</td>\n",
       "      <td>3</td>\n",
       "      <td>34.083839</td>\n",
       "      <td>-118.352776</td>\n",
       "      <td>90046</td>\n",
       "    </tr>\n",
       "  </tbody>\n",
       "</table>\n",
       "</div>"
      ],
      "text/plain": [
       "                           id            name         phone  \\\n",
       "38274  OCO1IXkppXtDW-4DZoIdpQ  Tree of Wishes  1.323297e+10   \n",
       "\n",
       "                                       address  \\\n",
       "38274  7469 Melrose Ave  Los Angeles, CA 90046   \n",
       "\n",
       "                                 category_alias  category_title  rating  \\\n",
       "38274  mideastern, mediterranean, newamerican,    Mediterranean     4.5   \n",
       "\n",
       "       review_count        lat         lon zipcodes  \n",
       "38274             3  34.083839 -118.352776    90046  "
      ]
     },
     "execution_count": 10,
     "metadata": {},
     "output_type": "execute_result"
    }
   ],
   "source": [
    "df.reset_index(drop=True)\n",
    "df.sample()"
   ]
  },
  {
   "cell_type": "code",
   "execution_count": 11,
   "metadata": {},
   "outputs": [],
   "source": [
    "# df.isnull()"
   ]
  },
  {
   "cell_type": "code",
   "execution_count": 12,
   "metadata": {},
   "outputs": [
    {
     "data": {
      "text/plain": [
       "4.0    12859\n",
       "3.5     7679\n",
       "4.5     7602\n",
       "3.0     3792\n",
       "2.5     2204\n",
       "5.0     2049\n",
       "2.0     1910\n",
       "1.5      798\n",
       "1.0      203\n",
       "Name: rating, dtype: int64"
      ]
     },
     "execution_count": 12,
     "metadata": {},
     "output_type": "execute_result"
    }
   ],
   "source": [
    "df['rating'].value_counts()"
   ]
  },
  {
   "cell_type": "code",
   "execution_count": 13,
   "metadata": {},
   "outputs": [
    {
     "data": {
      "text/plain": [
       "(3.667, 5.0]      22510\n",
       "(2.333, 3.667]    13675\n",
       "(0.995, 2.333]     2911\n",
       "Name: rating, dtype: int64"
      ]
     },
     "execution_count": 13,
     "metadata": {},
     "output_type": "execute_result"
    }
   ],
   "source": [
    "# df['category_title'].value_counts(normalize=True)\n",
    "df['rating'].value_counts(bins=3)"
   ]
  },
  {
   "cell_type": "code",
   "execution_count": 14,
   "metadata": {},
   "outputs": [],
   "source": [
    "import matplotlib"
   ]
  },
  {
   "cell_type": "code",
   "execution_count": 15,
   "metadata": {},
   "outputs": [
    {
     "data": {
      "image/png": "[encoded data removed]",
      "text/plain": [
       "<Figure size 432x288 with 1 Axes>"
      ]
     },
     "metadata": {
      "needs_background": "light"
     },
     "output_type": "display_data"
    }
   ],
   "source": [
    "binplt=df.rating.value_counts(bins=3).sort_values().plot(kind = 'barh')\n"
   ]
  },
  {
   "cell_type": "code",
   "execution_count": 16,
   "metadata": {},
   "outputs": [],
   "source": [
    "binplt.figure.savefig('plots/bin_plot.png')"
   ]
  },
  {
   "cell_type": "code",
   "execution_count": null,
   "metadata": {},
   "outputs": [],
   "source": []
  },
  {
   "cell_type": "code",
   "execution_count": 17,
   "metadata": {},
   "outputs": [],
   "source": [
    "cat_desc=df['category_title'].describe()\n",
    "\n",
    "#cat_desc.value_counts()"
   ]
  },
  {
   "cell_type": "code",
   "execution_count": 18,
   "metadata": {},
   "outputs": [],
   "source": [
    " %matplotlib inline"
   ]
  },
  {
   "cell_type": "code",
   "execution_count": 19,
   "metadata": {},
   "outputs": [],
   "source": [
    "from pandas.plotting import scatter_matrix\n",
    "import matplotlib.pyplot as plt"
   ]
  },
  {
   "cell_type": "code",
   "execution_count": 20,
   "metadata": {},
   "outputs": [
    {
     "data": {
      "text/html": [
       "<div>\n",
       "<style scoped>\n",
       "    .dataframe tbody tr th:only-of-type {\n",
       "        vertical-align: middle;\n",
       "    }\n",
       "\n",
       "    .dataframe tbody tr th {\n",
       "        vertical-align: top;\n",
       "    }\n",
       "\n",
       "    .dataframe thead th {\n",
       "        text-align: right;\n",
       "    }\n",
       "</style>\n",
       "<table border=\"1\" class=\"dataframe\">\n",
       "  <thead>\n",
       "    <tr style=\"text-align: right;\">\n",
       "      <th></th>\n",
       "      <th>phone</th>\n",
       "      <th>rating</th>\n",
       "      <th>review_count</th>\n",
       "      <th>lat</th>\n",
       "      <th>lon</th>\n",
       "    </tr>\n",
       "  </thead>\n",
       "  <tbody>\n",
       "    <tr>\n",
       "      <th>count</th>\n",
       "      <td>3.909600e+04</td>\n",
       "      <td>39096.000000</td>\n",
       "      <td>39096.000000</td>\n",
       "      <td>39096.000000</td>\n",
       "      <td>39096.000000</td>\n",
       "    </tr>\n",
       "    <tr>\n",
       "      <th>mean</th>\n",
       "      <td>1.455050e+10</td>\n",
       "      <td>3.705558</td>\n",
       "      <td>335.203857</td>\n",
       "      <td>33.978932</td>\n",
       "      <td>-118.256115</td>\n",
       "    </tr>\n",
       "    <tr>\n",
       "      <th>std</th>\n",
       "      <td>1.958447e+09</td>\n",
       "      <td>0.810553</td>\n",
       "      <td>550.094097</td>\n",
       "      <td>0.123445</td>\n",
       "      <td>0.175657</td>\n",
       "    </tr>\n",
       "    <tr>\n",
       "      <th>min</th>\n",
       "      <td>1.201844e+10</td>\n",
       "      <td>1.000000</td>\n",
       "      <td>1.000000</td>\n",
       "      <td>33.167953</td>\n",
       "      <td>-122.636364</td>\n",
       "    </tr>\n",
       "    <tr>\n",
       "      <th>25%</th>\n",
       "      <td>1.310559e+10</td>\n",
       "      <td>3.500000</td>\n",
       "      <td>48.000000</td>\n",
       "      <td>33.880870</td>\n",
       "      <td>-118.368680</td>\n",
       "    </tr>\n",
       "    <tr>\n",
       "      <th>50%</th>\n",
       "      <td>1.323753e+10</td>\n",
       "      <td>4.000000</td>\n",
       "      <td>155.000000</td>\n",
       "      <td>34.008113</td>\n",
       "      <td>-118.268303</td>\n",
       "    </tr>\n",
       "    <tr>\n",
       "      <th>75%</th>\n",
       "      <td>1.562983e+10</td>\n",
       "      <td>4.000000</td>\n",
       "      <td>406.000000</td>\n",
       "      <td>34.063753</td>\n",
       "      <td>-118.140630</td>\n",
       "    </tr>\n",
       "    <tr>\n",
       "      <th>max</th>\n",
       "      <td>1.951897e+10</td>\n",
       "      <td>5.000000</td>\n",
       "      <td>16955.000000</td>\n",
       "      <td>37.895588</td>\n",
       "      <td>-117.225868</td>\n",
       "    </tr>\n",
       "  </tbody>\n",
       "</table>\n",
       "</div>"
      ],
      "text/plain": [
       "              phone        rating  review_count           lat           lon\n",
       "count  3.909600e+04  39096.000000  39096.000000  39096.000000  39096.000000\n",
       "mean   1.455050e+10      3.705558    335.203857     33.978932   -118.256115\n",
       "std    1.958447e+09      0.810553    550.094097      0.123445      0.175657\n",
       "min    1.201844e+10      1.000000      1.000000     33.167953   -122.636364\n",
       "25%    1.310559e+10      3.500000     48.000000     33.880870   -118.368680\n",
       "50%    1.323753e+10      4.000000    155.000000     34.008113   -118.268303\n",
       "75%    1.562983e+10      4.000000    406.000000     34.063753   -118.140630\n",
       "max    1.951897e+10      5.000000  16955.000000     37.895588   -117.225868"
      ]
     },
     "execution_count": 20,
     "metadata": {},
     "output_type": "execute_result"
    }
   ],
   "source": [
    "desc=df.describe()\n",
    "desc"
   ]
  },
  {
   "cell_type": "code",
   "execution_count": 21,
   "metadata": {},
   "outputs": [
    {
     "data": {
      "image/png": "[encoded data removed]",
      "text/plain": [
       "<Figure size 432x288 with 1 Axes>"
      ]
     },
     "metadata": {
      "needs_background": "light"
     },
     "output_type": "display_data"
    }
   ],
   "source": [
    "fig, axes = plt.subplots(1,1)\n",
    "axes = df['rating'].hist()\n",
    "\n",
    "plt.legend(df.columns)\n",
    "dfsummary = pd.DataFrame(df['rating'].describe())\n",
    "\n",
    "plt.table(cellText=dfsummary.values,\n",
    "      colWidths = [0.4]*2,\n",
    "      rowLabels=dfsummary.index,\n",
    "      colLabels=dfsummary.columns,\n",
    "      cellLoc = 'right', rowLoc = 'right',\n",
    "      loc='top')\n",
    "\n",
    "plt.show()\n"
   ]
  },
  {
   "cell_type": "code",
   "execution_count": 22,
   "metadata": {},
   "outputs": [
    {
     "data": {
      "text/plain": [
       "array([[<matplotlib.axes._subplots.AxesSubplot object at 0x1025e908d0>,\n",
       "        <matplotlib.axes._subplots.AxesSubplot object at 0x1025ddec90>,\n",
       "        <matplotlib.axes._subplots.AxesSubplot object at 0x1025d8f4d0>,\n",
       "        <matplotlib.axes._subplots.AxesSubplot object at 0x1025d1dcd0>,\n",
       "        <matplotlib.axes._subplots.AxesSubplot object at 0x1025f8e510>],\n",
       "       [<matplotlib.axes._subplots.AxesSubplot object at 0x1025fc4d10>,\n",
       "        <matplotlib.axes._subplots.AxesSubplot object at 0x1026000fd0>,\n",
       "        <matplotlib.axes._subplots.AxesSubplot object at 0x1026033b90>,\n",
       "        <matplotlib.axes._subplots.AxesSubplot object at 0x102603d710>,\n",
       "        <matplotlib.axes._subplots.AxesSubplot object at 0x102607c0d0>],\n",
       "       [<matplotlib.axes._subplots.AxesSubplot object at 0x10260e5f50>,\n",
       "        <matplotlib.axes._subplots.AxesSubplot object at 0x102611cc10>,\n",
       "        <matplotlib.axes._subplots.AxesSubplot object at 0x102615bf90>,\n",
       "        <matplotlib.axes._subplots.AxesSubplot object at 0x1026191c50>,\n",
       "        <matplotlib.axes._subplots.AxesSubplot object at 0x10261d0fd0>],\n",
       "       [<matplotlib.axes._subplots.AxesSubplot object at 0x1026207c90>,\n",
       "        <matplotlib.axes._subplots.AxesSubplot object at 0x10262454d0>,\n",
       "        <matplotlib.axes._subplots.AxesSubplot object at 0x102627bcd0>,\n",
       "        <matplotlib.axes._subplots.AxesSubplot object at 0x10262bb510>,\n",
       "        <matplotlib.axes._subplots.AxesSubplot object at 0x10262eed10>],\n",
       "       [<matplotlib.axes._subplots.AxesSubplot object at 0x1026331550>,\n",
       "        <matplotlib.axes._subplots.AxesSubplot object at 0x1026367d50>,\n",
       "        <matplotlib.axes._subplots.AxesSubplot object at 0x10263a6590>,\n",
       "        <matplotlib.axes._subplots.AxesSubplot object at 0x10263dcd90>,\n",
       "        <matplotlib.axes._subplots.AxesSubplot object at 0x102641c5d0>]],\n",
       "      dtype=object)"
      ]
     },
     "execution_count": 22,
     "metadata": {},
     "output_type": "execute_result"
    },
    {
     "data": {
      "image/png": "[encoded data removed]",
      "text/plain": [
       "<Figure size 720x720 with 25 Axes>"
      ]
     },
     "metadata": {
      "needs_background": "light"
     },
     "output_type": "display_data"
    }
   ],
   "source": [
    "scatter_matrix(df, figsize=(10,10))"
   ]
  },
  {
   "cell_type": "code",
   "execution_count": 23,
   "metadata": {},
   "outputs": [
    {
     "data": {
      "text/plain": [
       "rating\n",
       "0.810553          550.094097\n",
       "1.000000            1.000000\n",
       "3.500000           48.000000\n",
       "3.705558          335.203857\n",
       "4.000000          280.500000\n",
       "5.000000        16955.000000\n",
       "39096.000000    39096.000000\n",
       "Name: review_count, dtype: float64"
      ]
     },
     "execution_count": 23,
     "metadata": {},
     "output_type": "execute_result"
    }
   ],
   "source": [
    "desc.groupby('rating')['review_count'].mean()"
   ]
  },
  {
   "cell_type": "code",
   "execution_count": 24,
   "metadata": {},
   "outputs": [
    {
     "data": {
      "text/plain": [
       "rating\n",
       "0.810553          550.094097\n",
       "1.000000            1.000000\n",
       "3.500000           48.000000\n",
       "3.705558          335.203857\n",
       "4.000000          280.500000\n",
       "5.000000        16955.000000\n",
       "39096.000000    39096.000000\n",
       "Name: review_count, dtype: float64"
      ]
     },
     "execution_count": 24,
     "metadata": {},
     "output_type": "execute_result"
    }
   ],
   "source": [
    "desc.groupby('rating')['review_count'].mean()"
   ]
  },
  {
   "cell_type": "code",
   "execution_count": 25,
   "metadata": {},
   "outputs": [],
   "source": [
    "# df[df['rating']> 2.5].groupby('address')['rating']"
   ]
  },
  {
   "cell_type": "code",
   "execution_count": 26,
   "metadata": {},
   "outputs": [
    {
     "data": {
      "image/png": "[encoded data removed]",
      "text/plain": [
       "<Figure size 432x288 with 1 Axes>"
      ]
     },
     "metadata": {
      "needs_background": "light"
     },
     "output_type": "display_data"
    }
   ],
   "source": [
    "gr_zip = df.groupby(['zipcodes', 'review_count'])['rating'].median().reset_index()\n",
    "\n",
    "hist=gr_zip['rating'].plot(kind='hist')\n",
    "# gr_zip=gr_zip.min()\n",
    "\n",
    "\n"
   ]
  },
  {
   "cell_type": "code",
   "execution_count": 27,
   "metadata": {},
   "outputs": [],
   "source": [
    "hist.figure.savefig('plots/hist.png')"
   ]
  },
  {
   "cell_type": "code",
   "execution_count": 28,
   "metadata": {},
   "outputs": [
    {
     "data": {
      "text/plain": [
       "category_title\n",
       " Acai Bowls                0.973684\n",
       " African                   1.000000\n",
       " American (New)            0.965443\n",
       " American (Traditional)    0.863576\n",
       " Amusement Parks           0.500000\n",
       "                             ...   \n",
       "Waffles                    1.000000\n",
       "Wine Bars                  1.000000\n",
       "Wine Tasting Room          1.000000\n",
       "Wineries                   1.000000\n",
       "Wraps                      0.500000\n",
       "Name: rating, Length: 494, dtype: float64"
      ]
     },
     "execution_count": 28,
     "metadata": {},
     "output_type": "execute_result"
    }
   ],
   "source": [
    "df.groupby('category_title').rating.apply(lambda x: len(x[x>2.5])/len(x) )"
   ]
  },
  {
   "cell_type": "code",
   "execution_count": 29,
   "metadata": {},
   "outputs": [
    {
     "data": {
      "text/html": [
       "<div>\n",
       "<style scoped>\n",
       "    .dataframe tbody tr th:only-of-type {\n",
       "        vertical-align: middle;\n",
       "    }\n",
       "\n",
       "    .dataframe tbody tr th {\n",
       "        vertical-align: top;\n",
       "    }\n",
       "\n",
       "    .dataframe thead th {\n",
       "        text-align: right;\n",
       "    }\n",
       "</style>\n",
       "<table border=\"1\" class=\"dataframe\">\n",
       "  <thead>\n",
       "    <tr style=\"text-align: right;\">\n",
       "      <th></th>\n",
       "      <th>id</th>\n",
       "      <th>name</th>\n",
       "      <th>phone</th>\n",
       "      <th>address</th>\n",
       "      <th>category_alias</th>\n",
       "      <th>category_title</th>\n",
       "      <th>rating</th>\n",
       "      <th>review_count</th>\n",
       "      <th>lat</th>\n",
       "      <th>lon</th>\n",
       "      <th>zipcodes</th>\n",
       "    </tr>\n",
       "  </thead>\n",
       "  <tbody>\n",
       "    <tr>\n",
       "      <th>38128</th>\n",
       "      <td>oA0V9OOiuKSyF80j2tyF-A</td>\n",
       "      <td>Shades of Curry</td>\n",
       "      <td>1.424832e+10</td>\n",
       "      <td>11819 Wilshire Blvd  Ste 207  Los Angeles, CA ...</td>\n",
       "      <td>indpak,</td>\n",
       "      <td>Indian</td>\n",
       "      <td>4.0</td>\n",
       "      <td>16</td>\n",
       "      <td>34.048099</td>\n",
       "      <td>-118.46312</td>\n",
       "      <td>90025</td>\n",
       "    </tr>\n",
       "  </tbody>\n",
       "</table>\n",
       "</div>"
      ],
      "text/plain": [
       "                           id             name         phone  \\\n",
       "38128  oA0V9OOiuKSyF80j2tyF-A  Shades of Curry  1.424832e+10   \n",
       "\n",
       "                                                 address category_alias  \\\n",
       "38128  11819 Wilshire Blvd  Ste 207  Los Angeles, CA ...       indpak,    \n",
       "\n",
       "      category_title  rating  review_count        lat        lon zipcodes  \n",
       "38128         Indian     4.0            16  34.048099 -118.46312    90025  "
      ]
     },
     "execution_count": 29,
     "metadata": {},
     "output_type": "execute_result"
    }
   ],
   "source": [
    "df.sample()"
   ]
  },
  {
   "cell_type": "code",
   "execution_count": null,
   "metadata": {},
   "outputs": [],
   "source": []
  },
  {
   "cell_type": "code",
   "execution_count": 30,
   "metadata": {},
   "outputs": [
    {
     "data": {
      "text/plain": [
       "zipcodes\n",
       "90000    4.000000\n",
       "90001    3.661765\n",
       "90002    3.097222\n",
       "90003    3.218254\n",
       "90004    3.814947\n",
       "           ...   \n",
       "93453    4.000000\n",
       "93955    1.500000\n",
       "94703    5.000000\n",
       "94970    4.500000\n",
       "95113    3.000000\n",
       "Name: rating, Length: 336, dtype: float64"
      ]
     },
     "execution_count": 30,
     "metadata": {},
     "output_type": "execute_result"
    }
   ],
   "source": [
    "means = df.groupby('zipcodes').mean()['rating']\n",
    "means\n",
    "# medians = clean_study_data_complete.groupby('Drug Regimen').median()['Tumor Volume (mm3)']\n",
    "# variances = clean_study_data_complete.groupby('Drug Regimen').var()['Tumor Volume (mm3)']\n",
    "# sds = clean_study_data_complete.groupby('Drug Regimen').std()['Tumor Volume (mm3)']\n",
    "# sems = clean_study_data_complete.groupby('Drug Regimen').sem()['Tumor Volume (mm3)']\n",
    "# summary_table = pd.DataFrame({\"Mean Tumor Volume\":means,\n",
    "#                               \"Median Tumor Volume\":medians,\n",
    "#                               \"Tumor Volume Variance\":variances,\n",
    "#                               \"Tumor Volume Std. Dev.\":sds,\n",
    "#                               \"Tumor Volume Std. Err.\":sems})"
   ]
  },
  {
   "cell_type": "code",
   "execution_count": null,
   "metadata": {},
   "outputs": [],
   "source": []
  },
  {
   "cell_type": "code",
   "execution_count": 31,
   "metadata": {},
   "outputs": [
    {
     "data": {
      "text/plain": [
       "zipcodes\n",
       "90000     1753\n",
       "90001     5867\n",
       "90002     1872\n",
       "90003     5178\n",
       "90004    71718\n",
       "         ...  \n",
       "93453      706\n",
       "93955       48\n",
       "94703        1\n",
       "94970      520\n",
       "95113     2766\n",
       "Name: review_count, Length: 336, dtype: int64"
      ]
     },
     "execution_count": 31,
     "metadata": {},
     "output_type": "execute_result"
    }
   ],
   "source": [
    "revCount = df.groupby('zipcodes').sum()['review_count']\n",
    "revCount\n"
   ]
  },
  {
   "cell_type": "code",
   "execution_count": 32,
   "metadata": {},
   "outputs": [
    {
     "data": {
      "text/plain": [
       "<matplotlib.axes._subplots.AxesSubplot at 0x1024ae42d0>"
      ]
     },
     "execution_count": 32,
     "metadata": {},
     "output_type": "execute_result"
    },
    {
     "data": {
      "image/png": "[encoded data removed]",
      "text/plain": [
       "<Figure size 432x288 with 1 Axes>"
      ]
     },
     "metadata": {
      "needs_background": "light"
     },
     "output_type": "display_data"
    }
   ],
   "source": [
    "revCount.plot(kind='line')"
   ]
  },
  {
   "cell_type": "code",
   "execution_count": 33,
   "metadata": {},
   "outputs": [],
   "source": [
    "# %%bash\n",
    "# pip install seaborn"
   ]
  },
  {
   "cell_type": "code",
   "execution_count": 34,
   "metadata": {},
   "outputs": [
    {
     "data": {
      "text/plain": [
       "zipcodes\n",
       "90000    4.000000\n",
       "90001    3.661765\n",
       "90002    3.097222\n",
       "90003    3.218254\n",
       "90004    3.814947\n",
       "           ...   \n",
       "93453    4.000000\n",
       "93955    1.500000\n",
       "94703    5.000000\n",
       "94970    4.500000\n",
       "95113    3.000000\n",
       "Name: rating, Length: 336, dtype: float64"
      ]
     },
     "execution_count": 34,
     "metadata": {},
     "output_type": "execute_result"
    }
   ],
   "source": [
    "means = df.groupby('zipcodes').mean()['rating']\n",
    "means"
   ]
  },
  {
   "cell_type": "code",
   "execution_count": 35,
   "metadata": {},
   "outputs": [
    {
     "data": {
      "text/plain": [
       "zipcodes\n",
       "90000      5\n",
       "90001    204\n",
       "90002     36\n",
       "90003    126\n",
       "90004    281\n",
       "        ... \n",
       "93453      2\n",
       "93955      2\n",
       "94703      1\n",
       "94970      2\n",
       "95113      3\n",
       "Length: 336, dtype: int64"
      ]
     },
     "execution_count": 35,
     "metadata": {},
     "output_type": "execute_result"
    }
   ],
   "source": [
    "total_count = df.groupby('zipcodes').size()\n",
    "total_count"
   ]
  },
  {
   "cell_type": "code",
   "execution_count": null,
   "metadata": {},
   "outputs": [],
   "source": []
  },
  {
   "cell_type": "code",
   "execution_count": 36,
   "metadata": {},
   "outputs": [
    {
     "data": {
      "image/png": "[encoded data removed]",
      "text/plain": [
       "<Figure size 432x288 with 1 Axes>"
      ]
     },
     "metadata": {
      "needs_background": "light"
     },
     "output_type": "display_data"
    }
   ],
   "source": [
    "import matplotlib.pyplot as plt\n",
    "import numpy as np\n",
    "import seaborn as sns\n",
    " \n",
    "# create data\n",
    "x = total_count\n",
    "y = means\n",
    "z = revCount\n",
    "# z=z*z\n",
    "# z=z.sum()\n",
    "\n",
    "# Change color with c and alpha. I map the color to the X axis value.\n",
    "plt.scatter(x, y, s=z/75, c=z, cmap=\"Blues\", alpha=0.4, edgecolors=\"grey\", linewidth=2)\n",
    " \n",
    "# Add titles (main and on axis)\n",
    "plt.xlabel(\"Number of Restaurants Per Zipcode\")\n",
    "plt.ylabel(\"Average Rating\")\n",
    "plt.title(\"Restaurants by ZipCode, Rating and Review Count\")\n",
    " \n",
    "plt.show()"
   ]
  },
  {
   "cell_type": "code",
   "execution_count": 37,
   "metadata": {},
   "outputs": [
    {
     "data": {
      "image/png": "[encoded data removed]",
      "text/plain": [
       "<Figure size 432x288 with 1 Axes>"
      ]
     },
     "metadata": {
      "needs_background": "light"
     },
     "output_type": "display_data"
    }
   ],
   "source": [
    "# create data\n",
    "x = total_count\n",
    "y = means\n",
    "z = revCount\n",
    "# z=z*z\n",
    "# z=z.sum()\n",
    "\n",
    "# Change color with c and alpha. I map the color to the X axis value.\n",
    "plt.scatter(x, y, s=z/75, c=z, cmap=\"Blues\", alpha=0.4, edgecolors=\"grey\", linewidth=2)\n",
    " \n",
    "# Add titles (main and on axis)\n",
    "plt.xlabel(\"Number of Restaurants Per Zipcode\")\n",
    "plt.ylabel(\"Average Rating\")\n",
    "plt.title(\"Restaurants by ZipCode, Rating and Review Count\")\n",
    "plt.savefig('plots/bubble_plot.png')\n",
    "plt.show()\n",
    "\n"
   ]
  },
  {
   "cell_type": "code",
   "execution_count": null,
   "metadata": {},
   "outputs": [],
   "source": []
  },
  {
   "cell_type": "code",
   "execution_count": null,
   "metadata": {},
   "outputs": [],
   "source": []
  },
  {
   "cell_type": "code",
   "execution_count": 38,
   "metadata": {},
   "outputs": [],
   "source": [
    "g = df.groupby('zipcodes')\n",
    "rest_zips = [name for name,unused_df in g]\n",
    "# rest_zips"
   ]
  },
  {
   "cell_type": "code",
   "execution_count": 39,
   "metadata": {},
   "outputs": [],
   "source": [
    "# rest_zip = df['zipcodes'].unique()\n",
    "# rest_zip"
   ]
  },
  {
   "cell_type": "code",
   "execution_count": null,
   "metadata": {},
   "outputs": [],
   "source": []
  },
  {
   "cell_type": "code",
   "execution_count": 40,
   "metadata": {},
   "outputs": [],
   "source": [
    "import gmaps\n",
    "\n",
    "\n",
    "# Access maps with unique API key\n",
    "gmaps.configure(api_key=gkey)"
   ]
  },
  {
   "cell_type": "code",
   "execution_count": 41,
   "metadata": {},
   "outputs": [],
   "source": [
    "# # Customize the size of the figure\n",
    "# figure_layout = {\n",
    "#     'width': '400px',\n",
    "#     'height': '300px',\n",
    "#     'border': '1px solid black',\n",
    "#     'padding': '1px',\n",
    "#     'margin': '0 auto 0 auto'\n",
    "# }\n",
    "# fig = gmaps.figure(layout=figure_layout)"
   ]
  },
  {
   "cell_type": "code",
   "execution_count": null,
   "metadata": {},
   "outputs": [],
   "source": []
  },
  {
   "cell_type": "code",
   "execution_count": null,
   "metadata": {},
   "outputs": [],
   "source": []
  },
  {
   "cell_type": "code",
   "execution_count": null,
   "metadata": {},
   "outputs": [],
   "source": []
  },
  {
   "cell_type": "code",
   "execution_count": 42,
   "metadata": {},
   "outputs": [
    {
     "data": {
      "text/html": [
       "<div>\n",
       "<style scoped>\n",
       "    .dataframe tbody tr th:only-of-type {\n",
       "        vertical-align: middle;\n",
       "    }\n",
       "\n",
       "    .dataframe tbody tr th {\n",
       "        vertical-align: top;\n",
       "    }\n",
       "\n",
       "    .dataframe thead th {\n",
       "        text-align: right;\n",
       "    }\n",
       "</style>\n",
       "<table border=\"1\" class=\"dataframe\">\n",
       "  <thead>\n",
       "    <tr style=\"text-align: right;\">\n",
       "      <th></th>\n",
       "      <th>id</th>\n",
       "      <th>name</th>\n",
       "      <th>phone</th>\n",
       "      <th>address</th>\n",
       "      <th>category_alias</th>\n",
       "      <th>category_title</th>\n",
       "      <th>rating</th>\n",
       "      <th>review_count</th>\n",
       "      <th>lat</th>\n",
       "      <th>lon</th>\n",
       "    </tr>\n",
       "  </thead>\n",
       "  <tbody>\n",
       "    <tr>\n",
       "      <th>19773</th>\n",
       "      <td>ZTz2BY9zFqWYohxXI7kAbA</td>\n",
       "      <td>Cafe Cancun Mexican Food</td>\n",
       "      <td>1.310645e+10</td>\n",
       "      <td>909 W Manchester Blvd  Inglewood, CA 90301</td>\n",
       "      <td>mexican, diners, breakfast_brunch,</td>\n",
       "      <td>Mexican, Diners, Breakfast &amp; Brunch,</td>\n",
       "      <td>4.0</td>\n",
       "      <td>107</td>\n",
       "      <td>33.961108</td>\n",
       "      <td>-118.372189</td>\n",
       "    </tr>\n",
       "  </tbody>\n",
       "</table>\n",
       "</div>"
      ],
      "text/plain": [
       "                           id                      name         phone  \\\n",
       "19773  ZTz2BY9zFqWYohxXI7kAbA  Cafe Cancun Mexican Food  1.310645e+10   \n",
       "\n",
       "                                          address  \\\n",
       "19773  909 W Manchester Blvd  Inglewood, CA 90301   \n",
       "\n",
       "                            category_alias  \\\n",
       "19773  mexican, diners, breakfast_brunch,    \n",
       "\n",
       "                              category_title  rating  review_count        lat  \\\n",
       "19773  Mexican, Diners, Breakfast & Brunch,      4.0           107  33.961108   \n",
       "\n",
       "              lon  \n",
       "19773 -118.372189  "
      ]
     },
     "execution_count": 42,
     "metadata": {},
     "output_type": "execute_result"
    }
   ],
   "source": [
    "#datframe for all types of food\n",
    "aT=pd.read_csv('../csv/LA_rest_yelp_no_dupes.csv')\n",
    "aT.sample()"
   ]
  },
  {
   "cell_type": "code",
   "execution_count": 43,
   "metadata": {},
   "outputs": [
    {
     "data": {
      "text/html": [
       "<div>\n",
       "<style scoped>\n",
       "    .dataframe tbody tr th:only-of-type {\n",
       "        vertical-align: middle;\n",
       "    }\n",
       "\n",
       "    .dataframe tbody tr th {\n",
       "        vertical-align: top;\n",
       "    }\n",
       "\n",
       "    .dataframe thead th {\n",
       "        text-align: right;\n",
       "    }\n",
       "</style>\n",
       "<table border=\"1\" class=\"dataframe\">\n",
       "  <thead>\n",
       "    <tr style=\"text-align: right;\">\n",
       "      <th></th>\n",
       "      <th>id</th>\n",
       "      <th>name</th>\n",
       "      <th>phone</th>\n",
       "      <th>address</th>\n",
       "      <th>category_alias</th>\n",
       "      <th>category_title</th>\n",
       "      <th>rating</th>\n",
       "      <th>review_count</th>\n",
       "      <th>lat</th>\n",
       "      <th>lon</th>\n",
       "      <th>zipcodes</th>\n",
       "    </tr>\n",
       "  </thead>\n",
       "  <tbody>\n",
       "    <tr>\n",
       "      <th>467</th>\n",
       "      <td>0CCBFL74LoxPLy-VH2HI8Q</td>\n",
       "      <td>The Blue Star</td>\n",
       "      <td>1.213627e+10</td>\n",
       "      <td>2200 E 15th St  Los Angeles, CA 90021</td>\n",
       "      <td>newamerican, breakfast_brunch, salad,</td>\n",
       "      <td>American (New), Breakfast &amp; Brunch, Salad,</td>\n",
       "      <td>4.0</td>\n",
       "      <td>157</td>\n",
       "      <td>34.02173</td>\n",
       "      <td>-118.23266</td>\n",
       "      <td>90021</td>\n",
       "    </tr>\n",
       "  </tbody>\n",
       "</table>\n",
       "</div>"
      ],
      "text/plain": [
       "                         id           name         phone  \\\n",
       "467  0CCBFL74LoxPLy-VH2HI8Q  The Blue Star  1.213627e+10   \n",
       "\n",
       "                                   address  \\\n",
       "467  2200 E 15th St  Los Angeles, CA 90021   \n",
       "\n",
       "                             category_alias  \\\n",
       "467  newamerican, breakfast_brunch, salad,    \n",
       "\n",
       "                                  category_title  rating  review_count  \\\n",
       "467  American (New), Breakfast & Brunch, Salad,      4.0           157   \n",
       "\n",
       "          lat        lon zipcodes  \n",
       "467  34.02173 -118.23266    90021  "
      ]
     },
     "execution_count": 43,
     "metadata": {},
     "output_type": "execute_result"
    }
   ],
   "source": [
    "zipcodes = list()\n",
    "\n",
    "for item in aT['address']:\n",
    "    zipcode = item.split()[-1]\n",
    "    zipcodes.append(zipcode)\n",
    "\n",
    "aT['zipcodes'] = zipcodes\n",
    "aT = pd.DataFrame(aT)\n",
    "aT.sample()"
   ]
  },
  {
   "cell_type": "code",
   "execution_count": 44,
   "metadata": {},
   "outputs": [
    {
     "data": {
      "text/plain": [
       "['Suite 131  735 S Figueroa Street  Los Angeles 90017  United Kingdom',\n",
       " '243 Castle La West  Bournemouth BH8 9TG  United Kingdom',\n",
       " '181 Thornley La South  Stockport SK5 6QG  United Kingdom']"
      ]
     },
     "execution_count": 44,
     "metadata": {},
     "output_type": "execute_result"
    }
   ],
   "source": [
    "list(aT[aT[\"zipcodes\"]=='Kingdom']['address'])"
   ]
  },
  {
   "cell_type": "code",
   "execution_count": 45,
   "metadata": {},
   "outputs": [],
   "source": [
    "# list(aT[aT[\"zipcodes\"]=='CA']['address'])"
   ]
  },
  {
   "cell_type": "code",
   "execution_count": 46,
   "metadata": {},
   "outputs": [
    {
     "data": {
      "text/html": [
       "<div>\n",
       "<style scoped>\n",
       "    .dataframe tbody tr th:only-of-type {\n",
       "        vertical-align: middle;\n",
       "    }\n",
       "\n",
       "    .dataframe tbody tr th {\n",
       "        vertical-align: top;\n",
       "    }\n",
       "\n",
       "    .dataframe thead th {\n",
       "        text-align: right;\n",
       "    }\n",
       "</style>\n",
       "<table border=\"1\" class=\"dataframe\">\n",
       "  <thead>\n",
       "    <tr style=\"text-align: right;\">\n",
       "      <th></th>\n",
       "      <th>id</th>\n",
       "      <th>name</th>\n",
       "      <th>phone</th>\n",
       "      <th>address</th>\n",
       "      <th>category_alias</th>\n",
       "      <th>category_title</th>\n",
       "      <th>rating</th>\n",
       "      <th>review_count</th>\n",
       "      <th>lat</th>\n",
       "      <th>lon</th>\n",
       "      <th>zipcodes</th>\n",
       "    </tr>\n",
       "  </thead>\n",
       "  <tbody>\n",
       "    <tr>\n",
       "      <th>16651</th>\n",
       "      <td>UWD9F8hm6kjELGNxrRqceQ</td>\n",
       "      <td>Tacos Gavilan</td>\n",
       "      <td>1.323771e+10</td>\n",
       "      <td>4406 Florence Ave  Bell, CA 90201</td>\n",
       "      <td>mexican,</td>\n",
       "      <td>Mexican,</td>\n",
       "      <td>4.0</td>\n",
       "      <td>101</td>\n",
       "      <td>33.970218</td>\n",
       "      <td>-118.188862</td>\n",
       "      <td>90201</td>\n",
       "    </tr>\n",
       "  </tbody>\n",
       "</table>\n",
       "</div>"
      ],
      "text/plain": [
       "                           id           name         phone  \\\n",
       "16651  UWD9F8hm6kjELGNxrRqceQ  Tacos Gavilan  1.323771e+10   \n",
       "\n",
       "                                 address category_alias category_title  \\\n",
       "16651  4406 Florence Ave  Bell, CA 90201      mexican,       Mexican,    \n",
       "\n",
       "       rating  review_count        lat         lon zipcodes  \n",
       "16651     4.0           101  33.970218 -118.188862    90201  "
      ]
     },
     "execution_count": 46,
     "metadata": {},
     "output_type": "execute_result"
    }
   ],
   "source": [
    "aT=aT[aT.zipcodes.str.startswith('9')]\n",
    "aT.sample()"
   ]
  },
  {
   "cell_type": "code",
   "execution_count": null,
   "metadata": {},
   "outputs": [],
   "source": []
  },
  {
   "cell_type": "code",
   "execution_count": null,
   "metadata": {},
   "outputs": [],
   "source": []
  },
  {
   "cell_type": "code",
   "execution_count": 47,
   "metadata": {},
   "outputs": [],
   "source": [
    "aT=aT[aT[\"review_count\"]>=100]"
   ]
  },
  {
   "cell_type": "code",
   "execution_count": 48,
   "metadata": {
    "scrolled": true
   },
   "outputs": [
    {
     "data": {
      "image/png": "[encoded data removed]",
      "text/plain": [
       "<Figure size 432x288 with 1 Axes>"
      ]
     },
     "metadata": {
      "needs_background": "light"
     },
     "output_type": "display_data"
    }
   ],
   "source": [
    "x = aT[\"review_count\"]\n",
    "y = aT[\"rating\"]\n",
    "z = aT.zipcodes.astype(int)\n",
    "# z=z*z\n",
    "# z=z.sum()\n",
    "\n",
    "# Change color with c and alpha. I map the color to the X axis value.\n",
    "plt.scatter(x, y, s=50, c=z, cmap=\"Pastel1\", alpha=0.4, edgecolors=\"grey\", linewidth=.5)\n",
    " \n",
    "# Add titles (main and on axis)\n",
    "plt.xlabel(\"Number of Reviews\")\n",
    "plt.ylabel(\"Average Rating\")\n",
    "plt.title(\"Restaurants by Rating and Review Count\")\n",
    "plt.savefig('plots/scat_plot.png')\n",
    "plt.show()"
   ]
  },
  {
   "cell_type": "code",
   "execution_count": 49,
   "metadata": {},
   "outputs": [
    {
     "data": {
      "text/html": [
       "<div>\n",
       "<style scoped>\n",
       "    .dataframe tbody tr th:only-of-type {\n",
       "        vertical-align: middle;\n",
       "    }\n",
       "\n",
       "    .dataframe tbody tr th {\n",
       "        vertical-align: top;\n",
       "    }\n",
       "\n",
       "    .dataframe thead th {\n",
       "        text-align: right;\n",
       "    }\n",
       "</style>\n",
       "<table border=\"1\" class=\"dataframe\">\n",
       "  <thead>\n",
       "    <tr style=\"text-align: right;\">\n",
       "      <th></th>\n",
       "      <th>id</th>\n",
       "      <th>name</th>\n",
       "      <th>phone</th>\n",
       "      <th>address</th>\n",
       "      <th>category_alias</th>\n",
       "      <th>category_title</th>\n",
       "      <th>rating</th>\n",
       "      <th>review_count</th>\n",
       "      <th>lat</th>\n",
       "      <th>lon</th>\n",
       "      <th>zipcodes</th>\n",
       "    </tr>\n",
       "  </thead>\n",
       "  <tbody>\n",
       "    <tr>\n",
       "      <th>15773</th>\n",
       "      <td>TkFEKhsCixPWlShULKvMdQ</td>\n",
       "      <td>Bottega Louie</td>\n",
       "      <td>1.213802e+10</td>\n",
       "      <td>700 S Grand Ave  Los Angeles, CA 90017</td>\n",
       "      <td>italian, bakeries, breakfast_brunch,</td>\n",
       "      <td>Italian, Bakeries, Breakfast &amp; Brunch,</td>\n",
       "      <td>4.0</td>\n",
       "      <td>16955</td>\n",
       "      <td>34.04693</td>\n",
       "      <td>-118.256601</td>\n",
       "      <td>90017</td>\n",
       "    </tr>\n",
       "  </tbody>\n",
       "</table>\n",
       "</div>"
      ],
      "text/plain": [
       "                           id           name         phone  \\\n",
       "15773  TkFEKhsCixPWlShULKvMdQ  Bottega Louie  1.213802e+10   \n",
       "\n",
       "                                      address  \\\n",
       "15773  700 S Grand Ave  Los Angeles, CA 90017   \n",
       "\n",
       "                              category_alias  \\\n",
       "15773  italian, bakeries, breakfast_brunch,    \n",
       "\n",
       "                                category_title  rating  review_count  \\\n",
       "15773  Italian, Bakeries, Breakfast & Brunch,      4.0         16955   \n",
       "\n",
       "            lat         lon zipcodes  \n",
       "15773  34.04693 -118.256601    90017  "
      ]
     },
     "execution_count": 49,
     "metadata": {},
     "output_type": "execute_result"
    }
   ],
   "source": [
    "aT[aT[\"review_count\"]>=15000]"
   ]
  },
  {
   "cell_type": "code",
   "execution_count": 50,
   "metadata": {},
   "outputs": [
    {
     "data": {
      "text/plain": [
       "phone           1.217504e+10\n",
       "rating          3.698795e+00\n",
       "review_count    7.163614e+02\n",
       "lat             3.404958e+01\n",
       "lon            -1.182615e+02\n",
       "zipcodes                 inf\n",
       "dtype: float64"
      ]
     },
     "execution_count": 50,
     "metadata": {},
     "output_type": "execute_result"
    }
   ],
   "source": [
    "aT[aT[\"zipcodes\"]=='90017'].mean()"
   ]
  },
  {
   "cell_type": "code",
   "execution_count": 51,
   "metadata": {},
   "outputs": [
    {
     "data": {
      "text/html": [
       "<div>\n",
       "<style scoped>\n",
       "    .dataframe tbody tr th:only-of-type {\n",
       "        vertical-align: middle;\n",
       "    }\n",
       "\n",
       "    .dataframe tbody tr th {\n",
       "        vertical-align: top;\n",
       "    }\n",
       "\n",
       "    .dataframe thead th {\n",
       "        text-align: right;\n",
       "    }\n",
       "</style>\n",
       "<table border=\"1\" class=\"dataframe\">\n",
       "  <thead>\n",
       "    <tr style=\"text-align: right;\">\n",
       "      <th></th>\n",
       "      <th>phone</th>\n",
       "      <th>rating</th>\n",
       "      <th>review_count</th>\n",
       "      <th>lat</th>\n",
       "      <th>lon</th>\n",
       "    </tr>\n",
       "  </thead>\n",
       "  <tbody>\n",
       "    <tr>\n",
       "      <th>count</th>\n",
       "      <td>1.064200e+04</td>\n",
       "      <td>10741.000000</td>\n",
       "      <td>10741.000000</td>\n",
       "      <td>10741.000000</td>\n",
       "      <td>10741.000000</td>\n",
       "    </tr>\n",
       "    <tr>\n",
       "      <th>mean</th>\n",
       "      <td>1.483958e+10</td>\n",
       "      <td>3.821758</td>\n",
       "      <td>503.393259</td>\n",
       "      <td>33.981854</td>\n",
       "      <td>-118.253166</td>\n",
       "    </tr>\n",
       "    <tr>\n",
       "      <th>std</th>\n",
       "      <td>2.036202e+09</td>\n",
       "      <td>0.579965</td>\n",
       "      <td>598.806651</td>\n",
       "      <td>0.133527</td>\n",
       "      <td>0.193931</td>\n",
       "    </tr>\n",
       "    <tr>\n",
       "      <th>min</th>\n",
       "      <td>1.201844e+10</td>\n",
       "      <td>1.500000</td>\n",
       "      <td>100.000000</td>\n",
       "      <td>33.662399</td>\n",
       "      <td>-122.636364</td>\n",
       "    </tr>\n",
       "    <tr>\n",
       "      <th>25%</th>\n",
       "      <td>1.310560e+10</td>\n",
       "      <td>3.500000</td>\n",
       "      <td>179.000000</td>\n",
       "      <td>33.870215</td>\n",
       "      <td>-118.383880</td>\n",
       "    </tr>\n",
       "    <tr>\n",
       "      <th>50%</th>\n",
       "      <td>1.424278e+10</td>\n",
       "      <td>4.000000</td>\n",
       "      <td>316.000000</td>\n",
       "      <td>34.017345</td>\n",
       "      <td>-118.280314</td>\n",
       "    </tr>\n",
       "    <tr>\n",
       "      <th>75%</th>\n",
       "      <td>1.626965e+10</td>\n",
       "      <td>4.000000</td>\n",
       "      <td>597.000000</td>\n",
       "      <td>34.076020</td>\n",
       "      <td>-118.113167</td>\n",
       "    </tr>\n",
       "    <tr>\n",
       "      <th>max</th>\n",
       "      <td>1.951456e+10</td>\n",
       "      <td>5.000000</td>\n",
       "      <td>16955.000000</td>\n",
       "      <td>37.895588</td>\n",
       "      <td>-117.750724</td>\n",
       "    </tr>\n",
       "  </tbody>\n",
       "</table>\n",
       "</div>"
      ],
      "text/plain": [
       "              phone        rating  review_count           lat           lon\n",
       "count  1.064200e+04  10741.000000  10741.000000  10741.000000  10741.000000\n",
       "mean   1.483958e+10      3.821758    503.393259     33.981854   -118.253166\n",
       "std    2.036202e+09      0.579965    598.806651      0.133527      0.193931\n",
       "min    1.201844e+10      1.500000    100.000000     33.662399   -122.636364\n",
       "25%    1.310560e+10      3.500000    179.000000     33.870215   -118.383880\n",
       "50%    1.424278e+10      4.000000    316.000000     34.017345   -118.280314\n",
       "75%    1.626965e+10      4.000000    597.000000     34.076020   -118.113167\n",
       "max    1.951456e+10      5.000000  16955.000000     37.895588   -117.750724"
      ]
     },
     "execution_count": 51,
     "metadata": {},
     "output_type": "execute_result"
    }
   ],
   "source": [
    "aT.describe()"
   ]
  },
  {
   "cell_type": "code",
   "execution_count": 52,
   "metadata": {
    "scrolled": true
   },
   "outputs": [],
   "source": [
    "badR=aT[(aT[\"review_count\"]>=500) & (aT[\"rating\"]== 1.5)]"
   ]
  },
  {
   "cell_type": "code",
   "execution_count": 53,
   "metadata": {},
   "outputs": [],
   "source": [
    "# Store latitude and longitude in locations\n",
    "locations = badR[[\"lat\", \"lon\"]]\n",
    "\n",
    "\n",
    "# Fill NaN values and convert to float\n",
    "rating = badR[\"rating\"].astype(float)\n",
    "\n",
    "\n"
   ]
  },
  {
   "cell_type": "code",
   "execution_count": 54,
   "metadata": {},
   "outputs": [
    {
     "data": {
      "text/html": [
       "<div>\n",
       "<style scoped>\n",
       "    .dataframe tbody tr th:only-of-type {\n",
       "        vertical-align: middle;\n",
       "    }\n",
       "\n",
       "    .dataframe tbody tr th {\n",
       "        vertical-align: top;\n",
       "    }\n",
       "\n",
       "    .dataframe thead th {\n",
       "        text-align: right;\n",
       "    }\n",
       "</style>\n",
       "<table border=\"1\" class=\"dataframe\">\n",
       "  <thead>\n",
       "    <tr style=\"text-align: right;\">\n",
       "      <th></th>\n",
       "      <th>lat</th>\n",
       "      <th>lon</th>\n",
       "    </tr>\n",
       "  </thead>\n",
       "  <tbody>\n",
       "    <tr>\n",
       "      <th>8855</th>\n",
       "      <td>33.847007</td>\n",
       "      <td>-118.262301</td>\n",
       "    </tr>\n",
       "  </tbody>\n",
       "</table>\n",
       "</div>"
      ],
      "text/plain": [
       "            lat         lon\n",
       "8855  33.847007 -118.262301"
      ]
     },
     "execution_count": 54,
     "metadata": {},
     "output_type": "execute_result"
    }
   ],
   "source": [
    "locations"
   ]
  },
  {
   "cell_type": "code",
   "execution_count": 55,
   "metadata": {},
   "outputs": [
    {
     "data": {
      "application/vnd.jupyter.widget-view+json": {
       "model_id": "441dc8acb7574e6cb51889d28092e438",
       "version_major": 2,
       "version_minor": 0
      },
      "text/plain": [
       "Figure(layout=FigureLayout(height='420px'))"
      ]
     },
     "metadata": {},
     "output_type": "display_data"
    }
   ],
   "source": [
    "# Plot Heatmap\n",
    "fig = gmaps.figure(center=(33.847007,-118.262301), tilt=45, zoom_level=12,)\n",
    "\n",
    "\n",
    "# Assign the marker layer to a variable\n",
    "markers = gmaps.marker_layer(locations, info_box_content='Buffalo Wild Wings' + '<br>' +' Rating of 1.5!')\n",
    "# Add the layer to the map\n",
    "fig.add_layer(markers)\n",
    "fig\n",
    "\n",
    "# Create heat layer\n",
    "# heat_layer = gmaps.heatmap_layer(locations, weights=rating, \n",
    "#                                  dissipating=False, max_intensity=10,\n",
    "#                                  point_radius=1)\n",
    "\n",
    "# heat_layer = gmaps.heatmap_layer(locations, weights=rating-.5, \n",
    "#                                  dissipating=False, max_intensity=1.5,\n",
    "#                                  point_radius = .0008)\n",
    "\n",
    "# # Add layer\n",
    "# fig.add_layer(heat_layer)\n",
    "\n",
    "# # Display figure\n",
    "# fig"
   ]
  },
  {
   "cell_type": "code",
   "execution_count": null,
   "metadata": {},
   "outputs": [],
   "source": []
  },
  {
   "cell_type": "code",
   "execution_count": 56,
   "metadata": {},
   "outputs": [
    {
     "data": {
      "text/html": [
       "<div>\n",
       "<style scoped>\n",
       "    .dataframe tbody tr th:only-of-type {\n",
       "        vertical-align: middle;\n",
       "    }\n",
       "\n",
       "    .dataframe tbody tr th {\n",
       "        vertical-align: top;\n",
       "    }\n",
       "\n",
       "    .dataframe thead th {\n",
       "        text-align: right;\n",
       "    }\n",
       "</style>\n",
       "<table border=\"1\" class=\"dataframe\">\n",
       "  <thead>\n",
       "    <tr style=\"text-align: right;\">\n",
       "      <th></th>\n",
       "      <th>id</th>\n",
       "      <th>name</th>\n",
       "      <th>phone</th>\n",
       "      <th>address</th>\n",
       "      <th>category_alias</th>\n",
       "      <th>category_title</th>\n",
       "      <th>rating</th>\n",
       "      <th>review_count</th>\n",
       "      <th>lat</th>\n",
       "      <th>lon</th>\n",
       "      <th>zipcodes</th>\n",
       "    </tr>\n",
       "  </thead>\n",
       "  <tbody>\n",
       "    <tr>\n",
       "      <th>15773</th>\n",
       "      <td>TkFEKhsCixPWlShULKvMdQ</td>\n",
       "      <td>Bottega Louie</td>\n",
       "      <td>1.213802e+10</td>\n",
       "      <td>700 S Grand Ave  Los Angeles, CA 90017</td>\n",
       "      <td>italian, bakeries, breakfast_brunch,</td>\n",
       "      <td>Italian, Bakeries, Breakfast &amp; Brunch,</td>\n",
       "      <td>4.0</td>\n",
       "      <td>16955</td>\n",
       "      <td>34.04693</td>\n",
       "      <td>-118.256601</td>\n",
       "      <td>90017</td>\n",
       "    </tr>\n",
       "  </tbody>\n",
       "</table>\n",
       "</div>"
      ],
      "text/plain": [
       "                           id           name         phone  \\\n",
       "15773  TkFEKhsCixPWlShULKvMdQ  Bottega Louie  1.213802e+10   \n",
       "\n",
       "                                      address  \\\n",
       "15773  700 S Grand Ave  Los Angeles, CA 90017   \n",
       "\n",
       "                              category_alias  \\\n",
       "15773  italian, bakeries, breakfast_brunch,    \n",
       "\n",
       "                                category_title  rating  review_count  \\\n",
       "15773  Italian, Bakeries, Breakfast & Brunch,      4.0         16955   \n",
       "\n",
       "            lat         lon zipcodes  \n",
       "15773  34.04693 -118.256601    90017  "
      ]
     },
     "execution_count": 56,
     "metadata": {},
     "output_type": "execute_result"
    }
   ],
   "source": [
    "bestR=aT[aT[\"review_count\"]>=15000]\n",
    "bestR"
   ]
  },
  {
   "cell_type": "code",
   "execution_count": 57,
   "metadata": {},
   "outputs": [],
   "source": [
    "# Store latitude and longitude in locations\n",
    "locations = bestR[[\"lat\", \"lon\"]]\n",
    "\n",
    "\n",
    "# Fill NaN values and convert to float\n",
    "rating = bestR[\"rating\"].astype(float)\n",
    "\n",
    "\n"
   ]
  },
  {
   "cell_type": "code",
   "execution_count": 58,
   "metadata": {},
   "outputs": [
    {
     "data": {
      "text/html": [
       "<div>\n",
       "<style scoped>\n",
       "    .dataframe tbody tr th:only-of-type {\n",
       "        vertical-align: middle;\n",
       "    }\n",
       "\n",
       "    .dataframe tbody tr th {\n",
       "        vertical-align: top;\n",
       "    }\n",
       "\n",
       "    .dataframe thead th {\n",
       "        text-align: right;\n",
       "    }\n",
       "</style>\n",
       "<table border=\"1\" class=\"dataframe\">\n",
       "  <thead>\n",
       "    <tr style=\"text-align: right;\">\n",
       "      <th></th>\n",
       "      <th>lat</th>\n",
       "      <th>lon</th>\n",
       "    </tr>\n",
       "  </thead>\n",
       "  <tbody>\n",
       "    <tr>\n",
       "      <th>15773</th>\n",
       "      <td>34.04693</td>\n",
       "      <td>-118.256601</td>\n",
       "    </tr>\n",
       "  </tbody>\n",
       "</table>\n",
       "</div>"
      ],
      "text/plain": [
       "            lat         lon\n",
       "15773  34.04693 -118.256601"
      ]
     },
     "execution_count": 58,
     "metadata": {},
     "output_type": "execute_result"
    }
   ],
   "source": [
    "locations"
   ]
  },
  {
   "cell_type": "code",
   "execution_count": 59,
   "metadata": {
    "scrolled": true
   },
   "outputs": [
    {
     "data": {
      "application/vnd.jupyter.widget-view+json": {
       "model_id": "b34d6ca8b0db48c1b8c13b6c0c617027",
       "version_major": 2,
       "version_minor": 0
      },
      "text/plain": [
       "Figure(layout=FigureLayout(height='420px'))"
      ]
     },
     "metadata": {},
     "output_type": "display_data"
    }
   ],
   "source": [
    "# Plot Heatmap\n",
    "fig = gmaps.figure(center=(34.04693,-118.256601), tilt=45, zoom_level=12,)\n",
    "\n",
    "\n",
    "# Assign the marker layer to a variable\n",
    "markers = gmaps.marker_layer(locations, info_box_content='Bottega Louie' + '<br>' +' 17,000 Reviews!')\n",
    "# Add the layer to the map\n",
    "fig.add_layer(markers)\n",
    "fig\n",
    "\n",
    "# Create heat layer\n",
    "# heat_layer = gmaps.heatmap_layer(locations, weights=rating, \n",
    "#                                  dissipating=False, max_intensity=10,\n",
    "#                                  point_radius=1)\n",
    "\n",
    "# heat_layer = gmaps.heatmap_layer(locations, weights=rating-.5, \n",
    "#                                  dissipating=False, max_intensity=1.5,\n",
    "#                                  point_radius = .0008)\n",
    "\n",
    "# # Add layer\n",
    "# fig.add_layer(heat_layer)\n",
    "\n",
    "# # Display figure\n",
    "# fig"
   ]
  },
  {
   "cell_type": "code",
   "execution_count": null,
   "metadata": {},
   "outputs": [],
   "source": []
  },
  {
   "cell_type": "code",
   "execution_count": 60,
   "metadata": {},
   "outputs": [],
   "source": [
    "mapdf=aT[(aT[\"zipcodes\"]=='90017') & (aT[\"rating\"]>= 3.5)]\n"
   ]
  },
  {
   "cell_type": "code",
   "execution_count": 61,
   "metadata": {},
   "outputs": [],
   "source": [
    "lat=list(mapdf['lat'])\n",
    "lon=list(mapdf['lon'])"
   ]
  },
  {
   "cell_type": "code",
   "execution_count": 62,
   "metadata": {},
   "outputs": [],
   "source": [
    "# coordinates = [\n",
    "#     (40.71, -74.00),]"
   ]
  },
  {
   "cell_type": "code",
   "execution_count": 63,
   "metadata": {},
   "outputs": [
    {
     "data": {
      "text/plain": [
       "<zip at 0x102e9b8780>"
      ]
     },
     "execution_count": 63,
     "metadata": {},
     "output_type": "execute_result"
    }
   ],
   "source": [
    "zip(lat, lon)"
   ]
  },
  {
   "cell_type": "code",
   "execution_count": 64,
   "metadata": {},
   "outputs": [],
   "source": [
    "coordinates = [x for x in zip(lat, lon)]"
   ]
  },
  {
   "cell_type": "code",
   "execution_count": 65,
   "metadata": {},
   "outputs": [],
   "source": [
    "# # Customize the size of the figure\n",
    "# figure_layout = {\n",
    "#     'width': '400px',\n",
    "#     'height': '300px',\n",
    "#     'border': '1px solid black',\n",
    "#     'padding': '1px',\n",
    "#     'margin': '0 auto 0 auto'\n",
    "# }\n",
    "# fig = gmaps.figure(layout=figure_layout)"
   ]
  },
  {
   "cell_type": "code",
   "execution_count": 66,
   "metadata": {},
   "outputs": [],
   "source": [
    "#what other restaurants are near the most reviewed?\n"
   ]
  },
  {
   "cell_type": "code",
   "execution_count": 67,
   "metadata": {
    "scrolled": false
   },
   "outputs": [
    {
     "data": {
      "application/vnd.jupyter.widget-view+json": {
       "model_id": "5361eb61b57d4f44a914c09bef4723fd",
       "version_major": 2,
       "version_minor": 0
      },
      "text/plain": [
       "Figure(layout=FigureLayout(border='1px solid black', height='600px', margin='0 auto 0 auto', padding='1px', wi…"
      ]
     },
     "metadata": {},
     "output_type": "display_data"
    }
   ],
   "source": [
    "# Customize the size of the figure\n",
    "figure_layout = {\n",
    "    'width': '700px',\n",
    "    'height': '600px',\n",
    "    'border': '1px solid black',\n",
    "    'padding': '1px',\n",
    "    'margin': '0 auto 0 auto'\n",
    "}\n",
    "rest_name=mapdf['name'].tolist()\n",
    "fig = gmaps.figure(layout=figure_layout)\n",
    "# Assign the marker layer to a variable\n",
    "info_box_content=[f\"Restaurant name: {name}\" for name in rest_name]\n",
    "markers = gmaps.marker_layer(coordinates, info_box_content=info_box_content )\n",
    "heat_layer = gmaps.heatmap_layer(coordinates, weights=mapdf['rating']-3.5, \n",
    "                                 dissipating=False, max_intensity=1.5,\n",
    "                                 point_radius = .0008)\n",
    "# Add the layer to the map\n",
    "fig.add_layer(heat_layer)\n",
    "fig"
   ]
  },
  {
   "cell_type": "code",
   "execution_count": null,
   "metadata": {},
   "outputs": [],
   "source": []
  },
  {
   "cell_type": "code",
   "execution_count": null,
   "metadata": {},
   "outputs": [],
   "source": []
  },
  {
   "cell_type": "code",
   "execution_count": null,
   "metadata": {},
   "outputs": [],
   "source": []
  },
  {
   "cell_type": "code",
   "execution_count": null,
   "metadata": {},
   "outputs": [],
   "source": []
  }
 ],
 "metadata": {
  "kernelspec": {
   "display_name": "Python 3",
   "language": "python",
   "name": "python3"
  },
  "language_info": {
   "codemirror_mode": {
    "name": "ipython",
    "version": 3
   },
   "file_extension": ".py",
   "mimetype": "text/x-python",
   "name": "python",
   "nbconvert_exporter": "python",
   "pygments_lexer": "ipython3",
   "version": "3.7.4"
  }
 },
 "nbformat": 4,
 "nbformat_minor": 4
}
