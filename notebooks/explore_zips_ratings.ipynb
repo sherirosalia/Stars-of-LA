{
 "cells": [
  {
   "cell_type": "code",
   "execution_count": 1,
   "metadata": {},
   "outputs": [],
   "source": [
    "import pandas as pd\n",
    "import numpy as np\n",
    "import matplotlib\n",
    "import matplotlib.pyplot as plt\n",
    "import seaborn"
   ]
  },
  {
   "cell_type": "code",
   "execution_count": 2,
   "metadata": {},
   "outputs": [],
   "source": [
    "import gmaps\n",
    "from config import gkey\n",
    "\n",
    "\n",
    "# Access maps with unique API key\n",
    "gmaps.configure(api_key=gkey)"
   ]
  },
  {
   "cell_type": "code",
   "execution_count": 3,
   "metadata": {},
   "outputs": [],
   "source": [
    "df=pd.read_csv('../csv/la_rest_types.csv', index_col=False)"
   ]
  },
  {
   "cell_type": "code",
   "execution_count": 4,
   "metadata": {},
   "outputs": [
    {
     "data": {
      "text/html": [
       "<div>\n",
       "<style scoped>\n",
       "    .dataframe tbody tr th:only-of-type {\n",
       "        vertical-align: middle;\n",
       "    }\n",
       "\n",
       "    .dataframe tbody tr th {\n",
       "        vertical-align: top;\n",
       "    }\n",
       "\n",
       "    .dataframe thead th {\n",
       "        text-align: right;\n",
       "    }\n",
       "</style>\n",
       "<table border=\"1\" class=\"dataframe\">\n",
       "  <thead>\n",
       "    <tr style=\"text-align: right;\">\n",
       "      <th></th>\n",
       "      <th>id</th>\n",
       "      <th>name</th>\n",
       "      <th>phone</th>\n",
       "      <th>address</th>\n",
       "      <th>category_alias</th>\n",
       "      <th>category_title</th>\n",
       "      <th>rating</th>\n",
       "      <th>review_count</th>\n",
       "      <th>lat</th>\n",
       "      <th>lon</th>\n",
       "      <th>zipcodes</th>\n",
       "    </tr>\n",
       "  </thead>\n",
       "  <tbody>\n",
       "    <tr>\n",
       "      <th>0</th>\n",
       "      <td>__4rPIbNWudQVuoaRs2MuQ</td>\n",
       "      <td>Best Shawarma</td>\n",
       "      <td>1.818551e+10</td>\n",
       "      <td>602 W Glenoaks Blvd  Glendale, CA 91202</td>\n",
       "      <td>mideastern, bbq, armenian,</td>\n",
       "      <td>Middle Eastern</td>\n",
       "      <td>4.0</td>\n",
       "      <td>349</td>\n",
       "      <td>34.159455</td>\n",
       "      <td>-118.267173</td>\n",
       "      <td>91202</td>\n",
       "    </tr>\n",
       "    <tr>\n",
       "      <th>1</th>\n",
       "      <td>__4rPIbNWudQVuoaRs2MuQ</td>\n",
       "      <td>Best Shawarma</td>\n",
       "      <td>1.818551e+10</td>\n",
       "      <td>602 W Glenoaks Blvd  Glendale, CA 91202</td>\n",
       "      <td>mideastern, bbq, armenian,</td>\n",
       "      <td>Barbeque</td>\n",
       "      <td>4.0</td>\n",
       "      <td>349</td>\n",
       "      <td>34.159455</td>\n",
       "      <td>-118.267173</td>\n",
       "      <td>91202</td>\n",
       "    </tr>\n",
       "  </tbody>\n",
       "</table>\n",
       "</div>"
      ],
      "text/plain": [
       "                       id           name         phone  \\\n",
       "0  __4rPIbNWudQVuoaRs2MuQ  Best Shawarma  1.818551e+10   \n",
       "1  __4rPIbNWudQVuoaRs2MuQ  Best Shawarma  1.818551e+10   \n",
       "\n",
       "                                   address               category_alias  \\\n",
       "0  602 W Glenoaks Blvd  Glendale, CA 91202  mideastern, bbq, armenian,    \n",
       "1  602 W Glenoaks Blvd  Glendale, CA 91202  mideastern, bbq, armenian,    \n",
       "\n",
       "   category_title  rating  review_count        lat         lon zipcodes  \n",
       "0  Middle Eastern     4.0           349  34.159455 -118.267173    91202  \n",
       "1        Barbeque     4.0           349  34.159455 -118.267173    91202  "
      ]
     },
     "execution_count": 4,
     "metadata": {},
     "output_type": "execute_result"
    }
   ],
   "source": [
    "# df.sample()\n",
    "df.head(2)\n"
   ]
  },
  {
   "cell_type": "code",
   "execution_count": 5,
   "metadata": {},
   "outputs": [
    {
     "data": {
      "text/html": [
       "<div>\n",
       "<style scoped>\n",
       "    .dataframe tbody tr th:only-of-type {\n",
       "        vertical-align: middle;\n",
       "    }\n",
       "\n",
       "    .dataframe tbody tr th {\n",
       "        vertical-align: top;\n",
       "    }\n",
       "\n",
       "    .dataframe thead th {\n",
       "        text-align: right;\n",
       "    }\n",
       "</style>\n",
       "<table border=\"1\" class=\"dataframe\">\n",
       "  <thead>\n",
       "    <tr style=\"text-align: right;\">\n",
       "      <th></th>\n",
       "      <th>id</th>\n",
       "      <th>name</th>\n",
       "      <th>phone</th>\n",
       "      <th>address</th>\n",
       "      <th>category_alias</th>\n",
       "      <th>category_title</th>\n",
       "      <th>rating</th>\n",
       "      <th>review_count</th>\n",
       "      <th>lat</th>\n",
       "      <th>lon</th>\n",
       "      <th>zipcodes</th>\n",
       "    </tr>\n",
       "  </thead>\n",
       "  <tbody>\n",
       "    <tr>\n",
       "      <th>52292</th>\n",
       "      <td>VMB9FF4C6dyKLpAaMziMyA</td>\n",
       "      <td>El Pollo Loco</td>\n",
       "      <td>1.323589e+10</td>\n",
       "      <td>2501 E Slauson Ave  Huntington Park, CA 90255</td>\n",
       "      <td>mexican, hotdogs,</td>\n",
       "      <td></td>\n",
       "      <td>1.5</td>\n",
       "      <td>101</td>\n",
       "      <td>33.989469</td>\n",
       "      <td>-118.227516</td>\n",
       "      <td>90255</td>\n",
       "    </tr>\n",
       "  </tbody>\n",
       "</table>\n",
       "</div>"
      ],
      "text/plain": [
       "                           id           name         phone  \\\n",
       "52292  VMB9FF4C6dyKLpAaMziMyA  El Pollo Loco  1.323589e+10   \n",
       "\n",
       "                                             address      category_alias  \\\n",
       "52292  2501 E Slauson Ave  Huntington Park, CA 90255  mexican, hotdogs,    \n",
       "\n",
       "      category_title  rating  review_count        lat         lon zipcodes  \n",
       "52292                    1.5           101  33.989469 -118.227516    90255  "
      ]
     },
     "execution_count": 5,
     "metadata": {},
     "output_type": "execute_result"
    }
   ],
   "source": [
    "df.zipcodes.str.startswith('9')\n",
    "df.sample()"
   ]
  },
  {
   "cell_type": "code",
   "execution_count": 6,
   "metadata": {},
   "outputs": [],
   "source": [
    "# df=df[df.zipcodes.str.startswith('9')]"
   ]
  },
  {
   "cell_type": "code",
   "execution_count": null,
   "metadata": {},
   "outputs": [],
   "source": []
  },
  {
   "cell_type": "code",
   "execution_count": 7,
   "metadata": {},
   "outputs": [],
   "source": [
    "# df.isnull()"
   ]
  },
  {
   "cell_type": "code",
   "execution_count": 8,
   "metadata": {},
   "outputs": [],
   "source": [
    "#get rid of nan values\n",
    "df['category_title'].replace(' ', np.nan, inplace=True)"
   ]
  },
  {
   "cell_type": "code",
   "execution_count": 9,
   "metadata": {},
   "outputs": [],
   "source": [
    "# df.isnull()"
   ]
  },
  {
   "cell_type": "code",
   "execution_count": 10,
   "metadata": {},
   "outputs": [],
   "source": [
    "df.dropna(inplace=True)"
   ]
  },
  {
   "cell_type": "code",
   "execution_count": 11,
   "metadata": {},
   "outputs": [
    {
     "data": {
      "text/html": [
       "<div>\n",
       "<style scoped>\n",
       "    .dataframe tbody tr th:only-of-type {\n",
       "        vertical-align: middle;\n",
       "    }\n",
       "\n",
       "    .dataframe tbody tr th {\n",
       "        vertical-align: top;\n",
       "    }\n",
       "\n",
       "    .dataframe thead th {\n",
       "        text-align: right;\n",
       "    }\n",
       "</style>\n",
       "<table border=\"1\" class=\"dataframe\">\n",
       "  <thead>\n",
       "    <tr style=\"text-align: right;\">\n",
       "      <th></th>\n",
       "      <th>id</th>\n",
       "      <th>name</th>\n",
       "      <th>phone</th>\n",
       "      <th>address</th>\n",
       "      <th>category_alias</th>\n",
       "      <th>category_title</th>\n",
       "      <th>rating</th>\n",
       "      <th>review_count</th>\n",
       "      <th>lat</th>\n",
       "      <th>lon</th>\n",
       "      <th>zipcodes</th>\n",
       "    </tr>\n",
       "  </thead>\n",
       "  <tbody>\n",
       "    <tr>\n",
       "      <th>37281</th>\n",
       "      <td>nRNReA52TZXHQtvd7dvOdg</td>\n",
       "      <td>Ensoku Ramen</td>\n",
       "      <td>1.310315e+10</td>\n",
       "      <td>2307 Main St  Santa Monica, CA 90405</td>\n",
       "      <td>ramen,</td>\n",
       "      <td>Ramen</td>\n",
       "      <td>3.5</td>\n",
       "      <td>12</td>\n",
       "      <td>34.004830</td>\n",
       "      <td>-118.486140</td>\n",
       "      <td>90405</td>\n",
       "    </tr>\n",
       "    <tr>\n",
       "      <th>53791</th>\n",
       "      <td>WDfTd_2tRc4cgaipbfIcwg</td>\n",
       "      <td>Deluxe Waffle</td>\n",
       "      <td>1.424000e+10</td>\n",
       "      <td>491 W 6th St  San Pedro, CA 90731</td>\n",
       "      <td>waffles,</td>\n",
       "      <td>Waffles</td>\n",
       "      <td>5.0</td>\n",
       "      <td>3</td>\n",
       "      <td>33.738558</td>\n",
       "      <td>-118.287522</td>\n",
       "      <td>90731</td>\n",
       "    </tr>\n",
       "  </tbody>\n",
       "</table>\n",
       "</div>"
      ],
      "text/plain": [
       "                           id           name         phone  \\\n",
       "37281  nRNReA52TZXHQtvd7dvOdg   Ensoku Ramen  1.310315e+10   \n",
       "53791  WDfTd_2tRc4cgaipbfIcwg  Deluxe Waffle  1.424000e+10   \n",
       "\n",
       "                                    address category_alias category_title  \\\n",
       "37281  2307 Main St  Santa Monica, CA 90405        ramen,           Ramen   \n",
       "53791     491 W 6th St  San Pedro, CA 90731      waffles,         Waffles   \n",
       "\n",
       "       rating  review_count        lat         lon zipcodes  \n",
       "37281     3.5            12  34.004830 -118.486140    90405  \n",
       "53791     5.0             3  33.738558 -118.287522    90731  "
      ]
     },
     "execution_count": 11,
     "metadata": {},
     "output_type": "execute_result"
    }
   ],
   "source": [
    "df.reset_index(drop=True)\n",
    "df.sample(2)"
   ]
  },
  {
   "cell_type": "code",
   "execution_count": 12,
   "metadata": {},
   "outputs": [],
   "source": [
    "# df.isnull()"
   ]
  },
  {
   "cell_type": "code",
   "execution_count": 13,
   "metadata": {},
   "outputs": [
    {
     "data": {
      "text/plain": [
       "4.0    12870\n",
       "3.5     7694\n",
       "4.5     7614\n",
       "3.0     3816\n",
       "2.5     2217\n",
       "5.0     2072\n",
       "2.0     1916\n",
       "1.5      808\n",
       "1.0      204\n",
       "Name: rating, dtype: int64"
      ]
     },
     "execution_count": 13,
     "metadata": {},
     "output_type": "execute_result"
    }
   ],
   "source": [
    "df['rating'].value_counts()\n"
   ]
  },
  {
   "cell_type": "code",
   "execution_count": 14,
   "metadata": {},
   "outputs": [],
   "source": [
    "# df['category_title'].value_counts(normalize=True)\n",
    "rating=list(df['rating'].value_counts(bins=3))"
   ]
  },
  {
   "cell_type": "code",
   "execution_count": 15,
   "metadata": {},
   "outputs": [
    {
     "data": {
      "text/plain": [
       "[22556, 13727, 2928]"
      ]
     },
     "execution_count": 15,
     "metadata": {},
     "output_type": "execute_result"
    }
   ],
   "source": [
    "rating"
   ]
  },
  {
   "cell_type": "code",
   "execution_count": 16,
   "metadata": {},
   "outputs": [
    {
     "data": {
      "text/plain": [
       "<matplotlib.axes._subplots.AxesSubplot at 0x1023caa110>"
      ]
     },
     "execution_count": 16,
     "metadata": {},
     "output_type": "execute_result"
    },
    {
     "data": {
      "image/png": "[encoded data removed]",
      "text/plain": [
       "<Figure size 720x720 with 1 Axes>"
      ]
     },
     "metadata": {
      "needs_background": "light"
     },
     "output_type": "display_data"
    }
   ],
   "source": [
    "df['rating'].value_counts().hist(bins=3, figsize=(10,10))"
   ]
  },
  {
   "cell_type": "code",
   "execution_count": 68,
   "metadata": {},
   "outputs": [
    {
     "data": {
      "image/png": "[encoded data removed]",
      "text/plain": [
       "<Figure size 720x720 with 1 Axes>"
      ]
     },
     "metadata": {
      "needs_background": "light"
     },
     "output_type": "display_data"
    }
   ],
   "source": [
    "df.rating.value_counts(bins=3).sort_values().plot(kind = 'barh', figsize=(10,10)).get_figure().savefig('plots/bahr1.png')"
   ]
  },
  {
   "cell_type": "code",
   "execution_count": null,
   "metadata": {},
   "outputs": [],
   "source": [
    "\n"
   ]
  },
  {
   "cell_type": "code",
   "execution_count": null,
   "metadata": {},
   "outputs": [],
   "source": []
  },
  {
   "cell_type": "code",
   "execution_count": 18,
   "metadata": {},
   "outputs": [],
   "source": [
    "cat_desc=df['category_title'].describe()\n",
    "\n",
    "#cat_desc.value_counts()"
   ]
  },
  {
   "cell_type": "code",
   "execution_count": 19,
   "metadata": {},
   "outputs": [],
   "source": [
    " %matplotlib inline"
   ]
  },
  {
   "cell_type": "code",
   "execution_count": 20,
   "metadata": {},
   "outputs": [],
   "source": [
    "from pandas.plotting import scatter_matrix\n",
    "import matplotlib.pyplot as plt"
   ]
  },
  {
   "cell_type": "code",
   "execution_count": 21,
   "metadata": {},
   "outputs": [
    {
     "data": {
      "text/html": [
       "<div>\n",
       "<style scoped>\n",
       "    .dataframe tbody tr th:only-of-type {\n",
       "        vertical-align: middle;\n",
       "    }\n",
       "\n",
       "    .dataframe tbody tr th {\n",
       "        vertical-align: top;\n",
       "    }\n",
       "\n",
       "    .dataframe thead th {\n",
       "        text-align: right;\n",
       "    }\n",
       "</style>\n",
       "<table border=\"1\" class=\"dataframe\">\n",
       "  <thead>\n",
       "    <tr style=\"text-align: right;\">\n",
       "      <th></th>\n",
       "      <th>phone</th>\n",
       "      <th>rating</th>\n",
       "      <th>review_count</th>\n",
       "      <th>lat</th>\n",
       "      <th>lon</th>\n",
       "    </tr>\n",
       "  </thead>\n",
       "  <tbody>\n",
       "    <tr>\n",
       "      <th>count</th>\n",
       "      <td>3.921100e+04</td>\n",
       "      <td>39211.000000</td>\n",
       "      <td>39211.000000</td>\n",
       "      <td>39211.000000</td>\n",
       "      <td>39211.000000</td>\n",
       "    </tr>\n",
       "    <tr>\n",
       "      <th>mean</th>\n",
       "      <td>1.459647e+10</td>\n",
       "      <td>3.704840</td>\n",
       "      <td>334.317717</td>\n",
       "      <td>33.983303</td>\n",
       "      <td>-118.228632</td>\n",
       "    </tr>\n",
       "    <tr>\n",
       "      <th>std</th>\n",
       "      <td>4.738712e+09</td>\n",
       "      <td>0.811754</td>\n",
       "      <td>549.540069</td>\n",
       "      <td>0.235245</td>\n",
       "      <td>1.229942</td>\n",
       "    </tr>\n",
       "    <tr>\n",
       "      <th>min</th>\n",
       "      <td>1.201844e+10</td>\n",
       "      <td>1.000000</td>\n",
       "      <td>1.000000</td>\n",
       "      <td>32.735255</td>\n",
       "      <td>-122.636364</td>\n",
       "    </tr>\n",
       "    <tr>\n",
       "      <th>25%</th>\n",
       "      <td>1.310559e+10</td>\n",
       "      <td>3.500000</td>\n",
       "      <td>48.000000</td>\n",
       "      <td>33.881325</td>\n",
       "      <td>-118.368086</td>\n",
       "    </tr>\n",
       "    <tr>\n",
       "      <th>50%</th>\n",
       "      <td>1.323754e+10</td>\n",
       "      <td>4.000000</td>\n",
       "      <td>154.000000</td>\n",
       "      <td>34.008663</td>\n",
       "      <td>-118.267230</td>\n",
       "    </tr>\n",
       "    <tr>\n",
       "      <th>75%</th>\n",
       "      <td>1.562984e+10</td>\n",
       "      <td>4.000000</td>\n",
       "      <td>404.000000</td>\n",
       "      <td>34.063780</td>\n",
       "      <td>-118.140630</td>\n",
       "    </tr>\n",
       "    <tr>\n",
       "      <th>max</th>\n",
       "      <td>4.420000e+11</td>\n",
       "      <td>5.000000</td>\n",
       "      <td>16955.000000</td>\n",
       "      <td>53.448678</td>\n",
       "      <td>-1.856684</td>\n",
       "    </tr>\n",
       "  </tbody>\n",
       "</table>\n",
       "</div>"
      ],
      "text/plain": [
       "              phone        rating  review_count           lat           lon\n",
       "count  3.921100e+04  39211.000000  39211.000000  39211.000000  39211.000000\n",
       "mean   1.459647e+10      3.704840    334.317717     33.983303   -118.228632\n",
       "std    4.738712e+09      0.811754    549.540069      0.235245      1.229942\n",
       "min    1.201844e+10      1.000000      1.000000     32.735255   -122.636364\n",
       "25%    1.310559e+10      3.500000     48.000000     33.881325   -118.368086\n",
       "50%    1.323754e+10      4.000000    154.000000     34.008663   -118.267230\n",
       "75%    1.562984e+10      4.000000    404.000000     34.063780   -118.140630\n",
       "max    4.420000e+11      5.000000  16955.000000     53.448678     -1.856684"
      ]
     },
     "execution_count": 21,
     "metadata": {},
     "output_type": "execute_result"
    }
   ],
   "source": [
    "desc=df.describe()\n",
    "desc"
   ]
  },
  {
   "cell_type": "code",
   "execution_count": 72,
   "metadata": {},
   "outputs": [
    {
     "data": {
      "image/png": "[encoded data removed]",
      "text/plain": [
       "<Figure size 432x288 with 1 Axes>"
      ]
     },
     "metadata": {
      "needs_background": "light"
     },
     "output_type": "display_data"
    },
    {
     "data": {
      "text/plain": [
       "<Figure size 432x288 with 0 Axes>"
      ]
     },
     "metadata": {},
     "output_type": "display_data"
    }
   ],
   "source": [
    "fig, axes = plt.subplots(1,1)\n",
    "axes = df['rating'].hist()\n",
    "\n",
    "plt.legend(df.columns)\n",
    "dfsummary = pd.DataFrame(df['rating'].describe())\n",
    "plt.figsize=(12,12)\n",
    "plt.table(cellText=dfsummary.values,\n",
    "      colWidths = [0.4]*2,\n",
    "      rowLabels=dfsummary.index,\n",
    "      colLabels=dfsummary.columns,\n",
    "      cellLoc = 'right', rowLoc = 'right',\n",
    "      loc='top')\n",
    "\n",
    "plt.show()\n",
    "plt.savefig('plots/missing_rating.png')"
   ]
  },
  {
   "cell_type": "code",
   "execution_count": 23,
   "metadata": {},
   "outputs": [
    {
     "data": {
      "text/plain": [
       "array([[<matplotlib.axes._subplots.AxesSubplot object at 0x1020e28c50>,\n",
       "        <matplotlib.axes._subplots.AxesSubplot object at 0x10211d4b50>,\n",
       "        <matplotlib.axes._subplots.AxesSubplot object at 0x10212c5390>,\n",
       "        <matplotlib.axes._subplots.AxesSubplot object at 0x102139fb90>,\n",
       "        <matplotlib.axes._subplots.AxesSubplot object at 0x1020b9d3d0>],\n",
       "       [<matplotlib.axes._subplots.AxesSubplot object at 0x10213e1bd0>,\n",
       "        <matplotlib.axes._subplots.AxesSubplot object at 0x1021423910>,\n",
       "        <matplotlib.axes._subplots.AxesSubplot object at 0x1021457c10>,\n",
       "        <matplotlib.axes._subplots.AxesSubplot object at 0x1021462c90>,\n",
       "        <matplotlib.axes._subplots.AxesSubplot object at 0x10214a4610>],\n",
       "       [<matplotlib.axes._subplots.AxesSubplot object at 0x1021511490>,\n",
       "        <matplotlib.axes._subplots.AxesSubplot object at 0x1021543c90>,\n",
       "        <matplotlib.axes._subplots.AxesSubplot object at 0x10215844d0>,\n",
       "        <matplotlib.axes._subplots.AxesSubplot object at 0x10215b9cd0>,\n",
       "        <matplotlib.axes._subplots.AxesSubplot object at 0x10215fb510>],\n",
       "       [<matplotlib.axes._subplots.AxesSubplot object at 0x102162cd10>,\n",
       "        <matplotlib.axes._subplots.AxesSubplot object at 0x102166f550>,\n",
       "        <matplotlib.axes._subplots.AxesSubplot object at 0x10216a4d50>,\n",
       "        <matplotlib.axes._subplots.AxesSubplot object at 0x10216e3590>,\n",
       "        <matplotlib.axes._subplots.AxesSubplot object at 0x1021717d90>],\n",
       "       [<matplotlib.axes._subplots.AxesSubplot object at 0x10217595d0>,\n",
       "        <matplotlib.axes._subplots.AxesSubplot object at 0x102178ddd0>,\n",
       "        <matplotlib.axes._subplots.AxesSubplot object at 0x10217cf610>,\n",
       "        <matplotlib.axes._subplots.AxesSubplot object at 0x1021801e10>,\n",
       "        <matplotlib.axes._subplots.AxesSubplot object at 0x1021844650>]],\n",
       "      dtype=object)"
      ]
     },
     "execution_count": 23,
     "metadata": {},
     "output_type": "execute_result"
    },
    {
     "data": {
      "image/png": "[encoded data removed]",
      "text/plain": [
       "<Figure size 720x720 with 25 Axes>"
      ]
     },
     "metadata": {
      "needs_background": "light"
     },
     "output_type": "display_data"
    }
   ],
   "source": [
    "scatter_matrix(df, figsize=(10,10))"
   ]
  },
  {
   "cell_type": "code",
   "execution_count": null,
   "metadata": {},
   "outputs": [],
   "source": []
  },
  {
   "cell_type": "code",
   "execution_count": 24,
   "metadata": {},
   "outputs": [
    {
     "data": {
      "text/plain": [
       "rating\n",
       "0.811754          549.540069\n",
       "1.000000            1.000000\n",
       "3.500000           48.000000\n",
       "3.704840          334.317717\n",
       "4.000000          279.000000\n",
       "5.000000        16955.000000\n",
       "39211.000000    39211.000000\n",
       "Name: review_count, dtype: float64"
      ]
     },
     "execution_count": 24,
     "metadata": {},
     "output_type": "execute_result"
    }
   ],
   "source": [
    "desc.groupby('rating')['review_count'].mean()"
   ]
  },
  {
   "cell_type": "code",
   "execution_count": 25,
   "metadata": {},
   "outputs": [
    {
     "data": {
      "text/plain": [
       "array([ True,  True,  True,  True,  True,  True,  True,  True,  True,\n",
       "        True])"
      ]
     },
     "execution_count": 25,
     "metadata": {},
     "output_type": "execute_result"
    }
   ],
   "source": [
    "#filter on two conditons ex res = df[(df['B']<8) & (df['B']>2)]\n",
    "s=df['rating'].between(2, 4, inclusive=False)\n",
    "s[s].values[0:10]\n"
   ]
  },
  {
   "cell_type": "code",
   "execution_count": 26,
   "metadata": {},
   "outputs": [
    {
     "data": {
      "text/plain": [
       "zipcodes        2713.0\n",
       "review_count       1.0\n",
       "rating             1.0\n",
       "dtype: float64"
      ]
     },
     "execution_count": 26,
     "metadata": {},
     "output_type": "execute_result"
    },
    {
     "data": {
      "image/png": "[encoded data removed]",
      "text/plain": [
       "<Figure size 432x288 with 1 Axes>"
      ]
     },
     "metadata": {
      "needs_background": "light"
     },
     "output_type": "display_data"
    }
   ],
   "source": [
    "gr_zip = df.groupby(['zipcodes', 'review_count'])['rating'].median().reset_index()\n",
    "\n",
    "gr_zip['rating'].plot(kind='hist')\n",
    "gr_zip.min()\n"
   ]
  },
  {
   "cell_type": "code",
   "execution_count": 27,
   "metadata": {},
   "outputs": [],
   "source": [
    "cat_title=df.groupby('category_title').rating.apply(lambda x: len(x[x>2.5])/len(x) )"
   ]
  },
  {
   "cell_type": "code",
   "execution_count": 28,
   "metadata": {},
   "outputs": [
    {
     "data": {
      "text/plain": [
       "category_title\n",
       "Cheese Shops    1.000000\n",
       "Hot Pot         0.968750\n",
       "Hawaiian        0.946903\n",
       "Name: rating, dtype: float64"
      ]
     },
     "execution_count": 28,
     "metadata": {},
     "output_type": "execute_result"
    }
   ],
   "source": [
    "cat_title.sample(3)\n"
   ]
  },
  {
   "cell_type": "code",
   "execution_count": 29,
   "metadata": {},
   "outputs": [
    {
     "data": {
      "text/plain": [
       "<matplotlib.axes._subplots.AxesSubplot at 0x1023d58810>"
      ]
     },
     "execution_count": 29,
     "metadata": {},
     "output_type": "execute_result"
    },
    {
     "data": {
      "image/png": "[encoded data removed]",
      "text/plain": [
       "<Figure size 432x288 with 1 Axes>"
      ]
     },
     "metadata": {
      "needs_background": "light"
     },
     "output_type": "display_data"
    }
   ],
   "source": [
    "cat_title.plot()"
   ]
  },
  {
   "cell_type": "code",
   "execution_count": 30,
   "metadata": {},
   "outputs": [
    {
     "data": {
      "text/plain": [
       "zipcodes\n",
       "02713      3.500000\n",
       "10314      3.000000\n",
       "10476      5.000000\n",
       "11222      5.000000\n",
       "21206      2.000000\n",
       "             ...   \n",
       "94703      5.000000\n",
       "94970      4.500000\n",
       "95113      3.000000\n",
       "CA         3.642857\n",
       "Kingdom    4.750000\n",
       "Name: rating, Length: 353, dtype: float64"
      ]
     },
     "execution_count": 30,
     "metadata": {},
     "output_type": "execute_result"
    }
   ],
   "source": [
    "means = df.groupby('zipcodes').mean()['rating']\n",
    "means\n",
    "# medians = clean_study_data_complete.groupby('Drug Regimen').median()['Tumor Volume (mm3)']\n",
    "# variances = clean_study_data_complete.groupby('Drug Regimen').var()['Tumor Volume (mm3)']\n",
    "# sds = clean_study_data_complete.groupby('Drug Regimen').std()['Tumor Volume (mm3)']\n",
    "# sems = clean_study_data_complete.groupby('Drug Regimen').sem()['Tumor Volume (mm3)']\n",
    "# summary_table = pd.DataFrame({\"Mean Tumor Volume\":means,\n",
    "#                               \"Median Tumor Volume\":medians,\n",
    "#                               \"Tumor Volume Variance\":variances,\n",
    "#                               \"Tumor Volume Std. Dev.\":sds,\n",
    "#                               \"Tumor Volume Std. Err.\":sems})"
   ]
  },
  {
   "cell_type": "code",
   "execution_count": 31,
   "metadata": {},
   "outputs": [
    {
     "data": {
      "text/plain": [
       "zipcodes\n",
       "02713      3.5\n",
       "10314      3.0\n",
       "10476      5.0\n",
       "11222      5.0\n",
       "21206      2.0\n",
       "          ... \n",
       "94703      5.0\n",
       "94970      4.5\n",
       "95113      3.0\n",
       "CA         3.5\n",
       "Kingdom    5.0\n",
       "Name: rating, Length: 353, dtype: float64"
      ]
     },
     "execution_count": 31,
     "metadata": {},
     "output_type": "execute_result"
    }
   ],
   "source": [
    "medians = df.groupby('zipcodes').median()['rating']\n",
    "medians"
   ]
  },
  {
   "cell_type": "code",
   "execution_count": 32,
   "metadata": {},
   "outputs": [
    {
     "data": {
      "text/plain": [
       "zipcodes\n",
       "02713         2\n",
       "10314        22\n",
       "10476         9\n",
       "11222        21\n",
       "21206        51\n",
       "           ... \n",
       "94703         1\n",
       "94970       520\n",
       "95113      2766\n",
       "CA         2641\n",
       "Kingdom       7\n",
       "Name: review_count, Length: 353, dtype: int64"
      ]
     },
     "execution_count": 32,
     "metadata": {},
     "output_type": "execute_result"
    }
   ],
   "source": [
    "revCount = df.groupby('zipcodes').sum()['review_count']\n",
    "revCount\n"
   ]
  },
  {
   "cell_type": "code",
   "execution_count": 33,
   "metadata": {},
   "outputs": [
    {
     "data": {
      "text/plain": [
       "<matplotlib.axes._subplots.AxesSubplot at 0x1022ac2650>"
      ]
     },
     "execution_count": 33,
     "metadata": {},
     "output_type": "execute_result"
    },
    {
     "data": {
      "image/png": "[encoded data removed]",
      "text/plain": [
       "<Figure size 640x480 with 1 Axes>"
      ]
     },
     "metadata": {},
     "output_type": "display_data"
    }
   ],
   "source": [
    "plt.figure(num=None, figsize=(8, 6), dpi=80, facecolor='w', edgecolor='k')\n",
    "revCount.plot(kind='line')"
   ]
  },
  {
   "cell_type": "code",
   "execution_count": 34,
   "metadata": {},
   "outputs": [],
   "source": [
    "# install seaborn\n",
    "# %%bash\n",
    "# pip install seaborn"
   ]
  },
  {
   "cell_type": "code",
   "execution_count": 35,
   "metadata": {},
   "outputs": [
    {
     "data": {
      "text/plain": [
       "zipcodes\n",
       "02713      3.500000\n",
       "10314      3.000000\n",
       "10476      5.000000\n",
       "11222      5.000000\n",
       "21206      2.000000\n",
       "             ...   \n",
       "94703      5.000000\n",
       "94970      4.500000\n",
       "95113      3.000000\n",
       "CA         3.642857\n",
       "Kingdom    4.750000\n",
       "Name: rating, Length: 353, dtype: float64"
      ]
     },
     "execution_count": 35,
     "metadata": {},
     "output_type": "execute_result"
    }
   ],
   "source": [
    "means = df.groupby('zipcodes').mean()['rating']\n",
    "means"
   ]
  },
  {
   "cell_type": "code",
   "execution_count": 36,
   "metadata": {},
   "outputs": [
    {
     "data": {
      "text/plain": [
       "zipcodes\n",
       "02713       1\n",
       "10314       1\n",
       "10476       3\n",
       "11222       3\n",
       "21206       3\n",
       "           ..\n",
       "94703       1\n",
       "94970       2\n",
       "95113       3\n",
       "CA         77\n",
       "Kingdom     4\n",
       "Length: 353, dtype: int64"
      ]
     },
     "execution_count": 36,
     "metadata": {},
     "output_type": "execute_result"
    }
   ],
   "source": [
    "total_count = df.groupby('zipcodes').size()\n",
    "total_count"
   ]
  },
  {
   "cell_type": "code",
   "execution_count": 37,
   "metadata": {},
   "outputs": [],
   "source": [
    "import matplotlib.pyplot as plt\n",
    "import numpy as np\n",
    "import seaborn as sns\n",
    "from matplotlib.pyplot import figure\n",
    " "
   ]
  },
  {
   "cell_type": "code",
   "execution_count": 38,
   "metadata": {},
   "outputs": [
    {
     "data": {
      "image/png": "[encoded data removed]",
      "text/plain": [
       "<Figure size 640x480 with 1 Axes>"
      ]
     },
     "metadata": {},
     "output_type": "display_data"
    }
   ],
   "source": [
    "#medians plot\n",
    "\n",
    "# create data\n",
    "x = total_count\n",
    "y = medians\n",
    "z = revCount\n",
    "# z=z*z\n",
    "# z=z.sum()\n",
    "\n",
    "plt.figure(num=None, figsize=(8, 6), dpi=80, facecolor='w', edgecolor='k')\n",
    "# Change color with c and alpha. I map the color to the X axis value.\n",
    "plt.scatter(x, y, s=z/75, c=z, cmap=\"Blues\", alpha=0.4, edgecolors=\"grey\", linewidth=2)\n",
    " \n",
    "# Add titles (main and on axis)\n",
    "\n",
    "plt.xlabel(\"Number of Restaurants Per Zipcode\")\n",
    "plt.ylabel(\"Average Rating\")\n",
    "plt.title(\"Restaurants by ZipCode, Rating and Review Count\")\n",
    " \n",
    "plt.show()"
   ]
  },
  {
   "cell_type": "code",
   "execution_count": 39,
   "metadata": {},
   "outputs": [
    {
     "data": {
      "image/png": "[encoded data removed]",
      "text/plain": [
       "<Figure size 640x480 with 1 Axes>"
      ]
     },
     "metadata": {},
     "output_type": "display_data"
    }
   ],
   "source": [
    "\n",
    "#means plot\n",
    "\n",
    "# create data\n",
    "x = total_count\n",
    "y = means\n",
    "z = revCount\n",
    "# z=z*z\n",
    "# z=z.sum()\n",
    "plt.figure(num=None, figsize=(8, 6), dpi=80, facecolor='w', edgecolor='k')\n",
    "# Change color with c and alpha. I map the color to the X axis value.\n",
    "plt.scatter(x, y, s=z/75, c=z, cmap=\"Blues\", alpha=0.4, edgecolors=\"grey\", linewidth=2)\n",
    "\n",
    "# Add titles (main and on axis)\n",
    "plt.xlabel(\"Number of Restaurants Per Zipcode\")\n",
    "plt.ylabel(\"Average Rating\")\n",
    "plt.title(\"Restaurants by ZipCode, Rating and Review Count\")\n",
    " \n",
    "plt.show()"
   ]
  },
  {
   "cell_type": "code",
   "execution_count": 40,
   "metadata": {},
   "outputs": [],
   "source": [
    "g = df.groupby('zipcodes')\n",
    "rest_zips = [name for name,unused_df in g]\n",
    "# rest_zips"
   ]
  },
  {
   "cell_type": "code",
   "execution_count": 41,
   "metadata": {},
   "outputs": [],
   "source": [
    "# rest_zip = df['zipcodes'].unique()\n",
    "# rest_zip"
   ]
  },
  {
   "cell_type": "code",
   "execution_count": 42,
   "metadata": {},
   "outputs": [
    {
     "data": {
      "text/html": [
       "<div>\n",
       "<style scoped>\n",
       "    .dataframe tbody tr th:only-of-type {\n",
       "        vertical-align: middle;\n",
       "    }\n",
       "\n",
       "    .dataframe tbody tr th {\n",
       "        vertical-align: top;\n",
       "    }\n",
       "\n",
       "    .dataframe thead th {\n",
       "        text-align: right;\n",
       "    }\n",
       "</style>\n",
       "<table border=\"1\" class=\"dataframe\">\n",
       "  <thead>\n",
       "    <tr style=\"text-align: right;\">\n",
       "      <th></th>\n",
       "      <th>Avg</th>\n",
       "      <th>Med</th>\n",
       "      <th>RevCnt</th>\n",
       "      <th>ZipCnt</th>\n",
       "      <th>Zips</th>\n",
       "    </tr>\n",
       "    <tr>\n",
       "      <th>zipcodes</th>\n",
       "      <th></th>\n",
       "      <th></th>\n",
       "      <th></th>\n",
       "      <th></th>\n",
       "      <th></th>\n",
       "    </tr>\n",
       "  </thead>\n",
       "  <tbody>\n",
       "    <tr>\n",
       "      <th>02713</th>\n",
       "      <td>3.500000</td>\n",
       "      <td>3.5</td>\n",
       "      <td>2</td>\n",
       "      <td>1</td>\n",
       "      <td>02713</td>\n",
       "    </tr>\n",
       "    <tr>\n",
       "      <th>10314</th>\n",
       "      <td>3.000000</td>\n",
       "      <td>3.0</td>\n",
       "      <td>22</td>\n",
       "      <td>1</td>\n",
       "      <td>10314</td>\n",
       "    </tr>\n",
       "    <tr>\n",
       "      <th>10476</th>\n",
       "      <td>5.000000</td>\n",
       "      <td>5.0</td>\n",
       "      <td>9</td>\n",
       "      <td>3</td>\n",
       "      <td>10476</td>\n",
       "    </tr>\n",
       "    <tr>\n",
       "      <th>11222</th>\n",
       "      <td>5.000000</td>\n",
       "      <td>5.0</td>\n",
       "      <td>21</td>\n",
       "      <td>3</td>\n",
       "      <td>11222</td>\n",
       "    </tr>\n",
       "    <tr>\n",
       "      <th>21206</th>\n",
       "      <td>2.000000</td>\n",
       "      <td>2.0</td>\n",
       "      <td>51</td>\n",
       "      <td>3</td>\n",
       "      <td>21206</td>\n",
       "    </tr>\n",
       "    <tr>\n",
       "      <th>...</th>\n",
       "      <td>...</td>\n",
       "      <td>...</td>\n",
       "      <td>...</td>\n",
       "      <td>...</td>\n",
       "      <td>...</td>\n",
       "    </tr>\n",
       "    <tr>\n",
       "      <th>94703</th>\n",
       "      <td>5.000000</td>\n",
       "      <td>5.0</td>\n",
       "      <td>1</td>\n",
       "      <td>1</td>\n",
       "      <td>94703</td>\n",
       "    </tr>\n",
       "    <tr>\n",
       "      <th>94970</th>\n",
       "      <td>4.500000</td>\n",
       "      <td>4.5</td>\n",
       "      <td>520</td>\n",
       "      <td>2</td>\n",
       "      <td>94970</td>\n",
       "    </tr>\n",
       "    <tr>\n",
       "      <th>95113</th>\n",
       "      <td>3.000000</td>\n",
       "      <td>3.0</td>\n",
       "      <td>2766</td>\n",
       "      <td>3</td>\n",
       "      <td>95113</td>\n",
       "    </tr>\n",
       "    <tr>\n",
       "      <th>CA</th>\n",
       "      <td>3.642857</td>\n",
       "      <td>3.5</td>\n",
       "      <td>2641</td>\n",
       "      <td>77</td>\n",
       "      <td>CA</td>\n",
       "    </tr>\n",
       "    <tr>\n",
       "      <th>Kingdom</th>\n",
       "      <td>4.750000</td>\n",
       "      <td>5.0</td>\n",
       "      <td>7</td>\n",
       "      <td>4</td>\n",
       "      <td>Kingdom</td>\n",
       "    </tr>\n",
       "  </tbody>\n",
       "</table>\n",
       "<p>353 rows × 5 columns</p>\n",
       "</div>"
      ],
      "text/plain": [
       "               Avg  Med  RevCnt  ZipCnt     Zips\n",
       "zipcodes                                        \n",
       "02713     3.500000  3.5       2       1    02713\n",
       "10314     3.000000  3.0      22       1    10314\n",
       "10476     5.000000  5.0       9       3    10476\n",
       "11222     5.000000  5.0      21       3    11222\n",
       "21206     2.000000  2.0      51       3    21206\n",
       "...            ...  ...     ...     ...      ...\n",
       "94703     5.000000  5.0       1       1    94703\n",
       "94970     4.500000  4.5     520       2    94970\n",
       "95113     3.000000  3.0    2766       3    95113\n",
       "CA        3.642857  3.5    2641      77       CA\n",
       "Kingdom   4.750000  5.0       7       4  Kingdom\n",
       "\n",
       "[353 rows x 5 columns]"
      ]
     },
     "execution_count": 42,
     "metadata": {},
     "output_type": "execute_result"
    }
   ],
   "source": [
    "summary_table = pd.DataFrame({\"Avg\":means,\n",
    "                              \"Med\":medians,\n",
    "                              \"RevCnt\":revCount,\n",
    "                              \"ZipCnt\":total_count,\n",
    "                              \"Zips\":rest_zips})\n",
    "summary_table"
   ]
  },
  {
   "cell_type": "code",
   "execution_count": 43,
   "metadata": {},
   "outputs": [
    {
     "data": {
      "text/html": [
       "<div>\n",
       "<style scoped>\n",
       "    .dataframe tbody tr th:only-of-type {\n",
       "        vertical-align: middle;\n",
       "    }\n",
       "\n",
       "    .dataframe tbody tr th {\n",
       "        vertical-align: top;\n",
       "    }\n",
       "\n",
       "    .dataframe thead th {\n",
       "        text-align: right;\n",
       "    }\n",
       "</style>\n",
       "<table border=\"1\" class=\"dataframe\">\n",
       "  <thead>\n",
       "    <tr style=\"text-align: right;\">\n",
       "      <th></th>\n",
       "      <th>Avg</th>\n",
       "      <th>Med</th>\n",
       "      <th>RevCnt</th>\n",
       "      <th>ZipCnt</th>\n",
       "      <th>Zips</th>\n",
       "    </tr>\n",
       "    <tr>\n",
       "      <th>zipcodes</th>\n",
       "      <th></th>\n",
       "      <th></th>\n",
       "      <th></th>\n",
       "      <th></th>\n",
       "      <th></th>\n",
       "    </tr>\n",
       "  </thead>\n",
       "  <tbody>\n",
       "    <tr>\n",
       "      <th>02713</th>\n",
       "      <td>3.500000</td>\n",
       "      <td>3.5</td>\n",
       "      <td>2</td>\n",
       "      <td>1</td>\n",
       "      <td>02713</td>\n",
       "    </tr>\n",
       "    <tr>\n",
       "      <th>10314</th>\n",
       "      <td>3.000000</td>\n",
       "      <td>3.0</td>\n",
       "      <td>22</td>\n",
       "      <td>1</td>\n",
       "      <td>10314</td>\n",
       "    </tr>\n",
       "    <tr>\n",
       "      <th>10476</th>\n",
       "      <td>5.000000</td>\n",
       "      <td>5.0</td>\n",
       "      <td>9</td>\n",
       "      <td>3</td>\n",
       "      <td>10476</td>\n",
       "    </tr>\n",
       "    <tr>\n",
       "      <th>11222</th>\n",
       "      <td>5.000000</td>\n",
       "      <td>5.0</td>\n",
       "      <td>21</td>\n",
       "      <td>3</td>\n",
       "      <td>11222</td>\n",
       "    </tr>\n",
       "    <tr>\n",
       "      <th>21206</th>\n",
       "      <td>2.000000</td>\n",
       "      <td>2.0</td>\n",
       "      <td>51</td>\n",
       "      <td>3</td>\n",
       "      <td>21206</td>\n",
       "    </tr>\n",
       "    <tr>\n",
       "      <th>...</th>\n",
       "      <td>...</td>\n",
       "      <td>...</td>\n",
       "      <td>...</td>\n",
       "      <td>...</td>\n",
       "      <td>...</td>\n",
       "    </tr>\n",
       "    <tr>\n",
       "      <th>92843</th>\n",
       "      <td>4.112903</td>\n",
       "      <td>4.0</td>\n",
       "      <td>69174</td>\n",
       "      <td>93</td>\n",
       "      <td>92843</td>\n",
       "    </tr>\n",
       "    <tr>\n",
       "      <th>92844</th>\n",
       "      <td>4.109756</td>\n",
       "      <td>4.0</td>\n",
       "      <td>81343</td>\n",
       "      <td>123</td>\n",
       "      <td>92844</td>\n",
       "    </tr>\n",
       "    <tr>\n",
       "      <th>92845</th>\n",
       "      <td>3.925000</td>\n",
       "      <td>4.0</td>\n",
       "      <td>7745</td>\n",
       "      <td>40</td>\n",
       "      <td>92845</td>\n",
       "    </tr>\n",
       "    <tr>\n",
       "      <th>92870</th>\n",
       "      <td>4.159091</td>\n",
       "      <td>4.0</td>\n",
       "      <td>15234</td>\n",
       "      <td>44</td>\n",
       "      <td>92870</td>\n",
       "    </tr>\n",
       "    <tr>\n",
       "      <th>CA</th>\n",
       "      <td>3.642857</td>\n",
       "      <td>3.5</td>\n",
       "      <td>2641</td>\n",
       "      <td>77</td>\n",
       "      <td>CA</td>\n",
       "    </tr>\n",
       "  </tbody>\n",
       "</table>\n",
       "<p>284 rows × 5 columns</p>\n",
       "</div>"
      ],
      "text/plain": [
       "               Avg  Med  RevCnt  ZipCnt   Zips\n",
       "zipcodes                                      \n",
       "02713     3.500000  3.5       2       1  02713\n",
       "10314     3.000000  3.0      22       1  10314\n",
       "10476     5.000000  5.0       9       3  10476\n",
       "11222     5.000000  5.0      21       3  11222\n",
       "21206     2.000000  2.0      51       3  21206\n",
       "...            ...  ...     ...     ...    ...\n",
       "92843     4.112903  4.0   69174      93  92843\n",
       "92844     4.109756  4.0   81343     123  92844\n",
       "92845     3.925000  4.0    7745      40  92845\n",
       "92870     4.159091  4.0   15234      44  92870\n",
       "CA        3.642857  3.5    2641      77     CA\n",
       "\n",
       "[284 rows x 5 columns]"
      ]
     },
     "execution_count": 43,
     "metadata": {},
     "output_type": "execute_result"
    }
   ],
   "source": [
    "#type(summary_table)\n",
    "\n",
    "avg_zip=summary_table.groupby('ZipCnt')\n",
    "avg_zip.head()"
   ]
  },
  {
   "cell_type": "code",
   "execution_count": 44,
   "metadata": {
    "scrolled": true
   },
   "outputs": [],
   "source": [
    "summary_table.sort_values(by=['ZipCnt'], ascending=False, inplace=True)\n"
   ]
  },
  {
   "cell_type": "code",
   "execution_count": 45,
   "metadata": {
    "scrolled": true
   },
   "outputs": [
    {
     "data": {
      "text/html": [
       "<div>\n",
       "<style scoped>\n",
       "    .dataframe tbody tr th:only-of-type {\n",
       "        vertical-align: middle;\n",
       "    }\n",
       "\n",
       "    .dataframe tbody tr th {\n",
       "        vertical-align: top;\n",
       "    }\n",
       "\n",
       "    .dataframe thead th {\n",
       "        text-align: right;\n",
       "    }\n",
       "</style>\n",
       "<table border=\"1\" class=\"dataframe\">\n",
       "  <thead>\n",
       "    <tr style=\"text-align: right;\">\n",
       "      <th></th>\n",
       "      <th>id</th>\n",
       "      <th>name</th>\n",
       "      <th>phone</th>\n",
       "      <th>address</th>\n",
       "      <th>category_alias</th>\n",
       "      <th>category_title</th>\n",
       "      <th>rating</th>\n",
       "      <th>review_count</th>\n",
       "      <th>lat</th>\n",
       "      <th>lon</th>\n",
       "      <th>zipcodes</th>\n",
       "    </tr>\n",
       "  </thead>\n",
       "  <tbody>\n",
       "    <tr>\n",
       "      <th>81</th>\n",
       "      <td>_511GTZrG6CL9AZd23XhvQ</td>\n",
       "      <td>The Counter</td>\n",
       "      <td>1.424227e+10</td>\n",
       "      <td>Terminal 7 World Way  Los Angeles, CA 90045</td>\n",
       "      <td>burgers,</td>\n",
       "      <td>Burgers</td>\n",
       "      <td>2.0</td>\n",
       "      <td>184</td>\n",
       "      <td>33.941320</td>\n",
       "      <td>-118.399505</td>\n",
       "      <td>90045</td>\n",
       "    </tr>\n",
       "    <tr>\n",
       "      <th>150</th>\n",
       "      <td>_A7D9TxzfETE0b6cj4dCnw</td>\n",
       "      <td>Homeboy Cafe &amp; Bakery</td>\n",
       "      <td>1.213503e+10</td>\n",
       "      <td>400 World Way  Los Angeles, CA 90045</td>\n",
       "      <td>seafood, foodtrucks, cafes,</td>\n",
       "      <td>Seafood</td>\n",
       "      <td>3.0</td>\n",
       "      <td>151</td>\n",
       "      <td>33.943368</td>\n",
       "      <td>-118.408164</td>\n",
       "      <td>90045</td>\n",
       "    </tr>\n",
       "    <tr>\n",
       "      <th>151</th>\n",
       "      <td>_A7D9TxzfETE0b6cj4dCnw</td>\n",
       "      <td>Homeboy Cafe &amp; Bakery</td>\n",
       "      <td>1.213503e+10</td>\n",
       "      <td>400 World Way  Los Angeles, CA 90045</td>\n",
       "      <td>seafood, foodtrucks, cafes,</td>\n",
       "      <td>Food Trucks</td>\n",
       "      <td>3.0</td>\n",
       "      <td>151</td>\n",
       "      <td>33.943368</td>\n",
       "      <td>-118.408164</td>\n",
       "      <td>90045</td>\n",
       "    </tr>\n",
       "    <tr>\n",
       "      <th>152</th>\n",
       "      <td>_A7D9TxzfETE0b6cj4dCnw</td>\n",
       "      <td>Homeboy Cafe &amp; Bakery</td>\n",
       "      <td>1.213503e+10</td>\n",
       "      <td>400 World Way  Los Angeles, CA 90045</td>\n",
       "      <td>seafood, foodtrucks, cafes,</td>\n",
       "      <td>Cafes</td>\n",
       "      <td>3.0</td>\n",
       "      <td>151</td>\n",
       "      <td>33.943368</td>\n",
       "      <td>-118.408164</td>\n",
       "      <td>90045</td>\n",
       "    </tr>\n",
       "    <tr>\n",
       "      <th>555</th>\n",
       "      <td>_MUPeYDPX8plaSnNPflSrg</td>\n",
       "      <td>Engine Co No 28</td>\n",
       "      <td>1.310847e+10</td>\n",
       "      <td>800 World Way  Terminal 8  Los Angeles, CA 90045</td>\n",
       "      <td>tradamerican, venues, wine_bars,</td>\n",
       "      <td>American (Traditional)</td>\n",
       "      <td>3.0</td>\n",
       "      <td>235</td>\n",
       "      <td>33.941975</td>\n",
       "      <td>-118.397406</td>\n",
       "      <td>90045</td>\n",
       "    </tr>\n",
       "  </tbody>\n",
       "</table>\n",
       "</div>"
      ],
      "text/plain": [
       "                         id                   name         phone  \\\n",
       "81   _511GTZrG6CL9AZd23XhvQ            The Counter  1.424227e+10   \n",
       "150  _A7D9TxzfETE0b6cj4dCnw  Homeboy Cafe & Bakery  1.213503e+10   \n",
       "151  _A7D9TxzfETE0b6cj4dCnw  Homeboy Cafe & Bakery  1.213503e+10   \n",
       "152  _A7D9TxzfETE0b6cj4dCnw  Homeboy Cafe & Bakery  1.213503e+10   \n",
       "555  _MUPeYDPX8plaSnNPflSrg        Engine Co No 28  1.310847e+10   \n",
       "\n",
       "                                              address  \\\n",
       "81        Terminal 7 World Way  Los Angeles, CA 90045   \n",
       "150              400 World Way  Los Angeles, CA 90045   \n",
       "151              400 World Way  Los Angeles, CA 90045   \n",
       "152              400 World Way  Los Angeles, CA 90045   \n",
       "555  800 World Way  Terminal 8  Los Angeles, CA 90045   \n",
       "\n",
       "                        category_alias          category_title  rating  \\\n",
       "81                           burgers,                  Burgers     2.0   \n",
       "150       seafood, foodtrucks, cafes,                  Seafood     3.0   \n",
       "151       seafood, foodtrucks, cafes,              Food Trucks     3.0   \n",
       "152       seafood, foodtrucks, cafes,                    Cafes     3.0   \n",
       "555  tradamerican, venues, wine_bars,   American (Traditional)     3.0   \n",
       "\n",
       "     review_count        lat         lon zipcodes  \n",
       "81            184  33.941320 -118.399505    90045  \n",
       "150           151  33.943368 -118.408164    90045  \n",
       "151           151  33.943368 -118.408164    90045  \n",
       "152           151  33.943368 -118.408164    90045  \n",
       "555           235  33.941975 -118.397406    90045  "
      ]
     },
     "execution_count": 45,
     "metadata": {},
     "output_type": "execute_result"
    }
   ],
   "source": [
    "#90045 trends noticeably lower \n",
    "bad_zip=df[(df['zipcodes']==\"90045\") & (df['rating']<=3)]\n",
    "bad_zip.head()"
   ]
  },
  {
   "cell_type": "code",
   "execution_count": null,
   "metadata": {},
   "outputs": [],
   "source": []
  },
  {
   "cell_type": "code",
   "execution_count": 46,
   "metadata": {
    "scrolled": true
   },
   "outputs": [
    {
     "data": {
      "application/vnd.jupyter.widget-view+json": {
       "model_id": "91f932cf558e40c99a3559274487d6e5",
       "version_major": 2,
       "version_minor": 0
      },
      "text/plain": [
       "Figure(layout=FigureLayout(border='1px solid black', height='900px', margin='0 auto 0 auto', padding='1px', wi…"
      ]
     },
     "metadata": {},
     "output_type": "display_data"
    }
   ],
   "source": [
    "\n",
    "lat=list(bad_zip['lat'])\n",
    "lon=list(bad_zip['lon'])\n",
    "\n",
    "zip(lat, lon)\n",
    "\n",
    "coordinates = [x for x in zip(lat, lon)]\n",
    "rest_name=bad_zip['name'].tolist()\n",
    "categories=bad_zip['category_title'].tolist()\n",
    "\n",
    "# Customize the size of the figure\n",
    "figure_layout = {\n",
    "    'width': '1000px',\n",
    "    'height': '900px',\n",
    "    'border': '1px solid black',\n",
    "    'padding': '1px',\n",
    "    'margin': '0 auto 0 auto'\n",
    "}\n",
    "fig = gmaps.figure(layout=figure_layout)\n",
    "# Assign the marker layer to a variable\n",
    "name=[x for x in rest_name]\n",
    "category=[x for x in categories]\n",
    "\n",
    "info_box_content=[f\"Restaurant name: {name}\" for name in name] \n",
    "info_box_contents=[f\"Restaurant name: {name}\" for name in name] \n",
    "markers = gmaps.marker_layer(coordinates, info_box_content=info_box_content)\n",
    "\n",
    "\n",
    "# heat_layer = gmaps.heatmap_layer(coordinates, weights=badR['rating']-1.5, \n",
    "#                                  dissipating=False, max_intensity=1.5,\n",
    "#                                  point_radius = .000008)\n",
    "# Add the layer to the map\n",
    "fig.add_layer(markers)\n",
    "fig"
   ]
  },
  {
   "cell_type": "code",
   "execution_count": 47,
   "metadata": {},
   "outputs": [
    {
     "data": {
      "text/html": [
       "<div>\n",
       "<style scoped>\n",
       "    .dataframe tbody tr th:only-of-type {\n",
       "        vertical-align: middle;\n",
       "    }\n",
       "\n",
       "    .dataframe tbody tr th {\n",
       "        vertical-align: top;\n",
       "    }\n",
       "\n",
       "    .dataframe thead th {\n",
       "        text-align: right;\n",
       "    }\n",
       "</style>\n",
       "<table border=\"1\" class=\"dataframe\">\n",
       "  <thead>\n",
       "    <tr style=\"text-align: right;\">\n",
       "      <th></th>\n",
       "      <th>Avg</th>\n",
       "      <th>Med</th>\n",
       "      <th>RevCnt</th>\n",
       "      <th>ZipCnt</th>\n",
       "      <th>Zips</th>\n",
       "    </tr>\n",
       "    <tr>\n",
       "      <th>zipcodes</th>\n",
       "      <th></th>\n",
       "      <th></th>\n",
       "      <th></th>\n",
       "      <th></th>\n",
       "      <th></th>\n",
       "    </tr>\n",
       "  </thead>\n",
       "  <tbody>\n",
       "    <tr>\n",
       "      <th>90028</th>\n",
       "      <td>3.675176</td>\n",
       "      <td>4.0</td>\n",
       "      <td>244236</td>\n",
       "      <td>568</td>\n",
       "      <td>90028</td>\n",
       "    </tr>\n",
       "    <tr>\n",
       "      <th>90012</th>\n",
       "      <td>3.822645</td>\n",
       "      <td>4.0</td>\n",
       "      <td>287141</td>\n",
       "      <td>499</td>\n",
       "      <td>90012</td>\n",
       "    </tr>\n",
       "    <tr>\n",
       "      <th>90025</th>\n",
       "      <td>3.698529</td>\n",
       "      <td>4.0</td>\n",
       "      <td>191603</td>\n",
       "      <td>476</td>\n",
       "      <td>90025</td>\n",
       "    </tr>\n",
       "    <tr>\n",
       "      <th>90036</th>\n",
       "      <td>3.799559</td>\n",
       "      <td>4.0</td>\n",
       "      <td>227657</td>\n",
       "      <td>454</td>\n",
       "      <td>90036</td>\n",
       "    </tr>\n",
       "    <tr>\n",
       "      <th>90015</th>\n",
       "      <td>3.831473</td>\n",
       "      <td>4.0</td>\n",
       "      <td>99135</td>\n",
       "      <td>448</td>\n",
       "      <td>90015</td>\n",
       "    </tr>\n",
       "  </tbody>\n",
       "</table>\n",
       "</div>"
      ],
      "text/plain": [
       "               Avg  Med  RevCnt  ZipCnt   Zips\n",
       "zipcodes                                      \n",
       "90028     3.675176  4.0  244236     568  90028\n",
       "90012     3.822645  4.0  287141     499  90012\n",
       "90025     3.698529  4.0  191603     476  90025\n",
       "90036     3.799559  4.0  227657     454  90036\n",
       "90015     3.831473  4.0   99135     448  90015"
      ]
     },
     "execution_count": 47,
     "metadata": {},
     "output_type": "execute_result"
    }
   ],
   "source": [
    "rslt_df = summary_table[summary_table['RevCnt'] > 30] \n",
    "rslt_df.head()\n",
    "\n",
    "\n"
   ]
  },
  {
   "cell_type": "code",
   "execution_count": 73,
   "metadata": {},
   "outputs": [
    {
     "data": {
      "image/png": "[encoded data removed]",
      "text/plain": [
       "<Figure size 640x480 with 1 Axes>"
      ]
     },
     "metadata": {},
     "output_type": "display_data"
    },
    {
     "data": {
      "text/plain": [
       "<Figure size 432x288 with 0 Axes>"
      ]
     },
     "metadata": {},
     "output_type": "display_data"
    }
   ],
   "source": [
    "# create data\n",
    "x = total_count\n",
    "y = revCount\n",
    "z = means\n",
    "# z=z*z\n",
    "# z=z.sum()\n",
    "\n",
    "plt.figure(num=None, figsize=(8, 6), dpi=80, facecolor='w', edgecolor='k')\n",
    "# Change color with c and alpha. I map the color to the X axis value.\n",
    "plt.scatter(x, y, s=z*10, c=z, cmap=\"Reds\", alpha=0.4, edgecolors=\"grey\", linewidth=.25)\n",
    " \n",
    "# Add titles (main and on axis)\n",
    "plt.xlabel(\"Number of Restaurants Per Zipcode\")\n",
    "plt.ylabel(\"Average Rating\")\n",
    "plt.title(\"Restaurants by ZipCode, Rating and Review Count\")\n",
    " \n",
    "plt.show()\n",
    "plt.savefig('plots/pink_scatter.png')"
   ]
  },
  {
   "cell_type": "code",
   "execution_count": 49,
   "metadata": {},
   "outputs": [
    {
     "data": {
      "text/html": [
       "<div>\n",
       "<style scoped>\n",
       "    .dataframe tbody tr th:only-of-type {\n",
       "        vertical-align: middle;\n",
       "    }\n",
       "\n",
       "    .dataframe tbody tr th {\n",
       "        vertical-align: top;\n",
       "    }\n",
       "\n",
       "    .dataframe thead th {\n",
       "        text-align: right;\n",
       "    }\n",
       "</style>\n",
       "<table border=\"1\" class=\"dataframe\">\n",
       "  <thead>\n",
       "    <tr style=\"text-align: right;\">\n",
       "      <th></th>\n",
       "      <th>id</th>\n",
       "      <th>name</th>\n",
       "      <th>phone</th>\n",
       "      <th>address</th>\n",
       "      <th>category_alias</th>\n",
       "      <th>category_title</th>\n",
       "      <th>rating</th>\n",
       "      <th>review_count</th>\n",
       "      <th>lat</th>\n",
       "      <th>lon</th>\n",
       "    </tr>\n",
       "  </thead>\n",
       "  <tbody>\n",
       "    <tr>\n",
       "      <th>0</th>\n",
       "      <td>__4rPIbNWudQVuoaRs2MuQ</td>\n",
       "      <td>Best Shawarma</td>\n",
       "      <td>1.818551e+10</td>\n",
       "      <td>602 W Glenoaks Blvd  Glendale, CA 91202</td>\n",
       "      <td>mideastern, bbq, armenian,</td>\n",
       "      <td>Middle Eastern, Barbeque, Armenian,</td>\n",
       "      <td>4.0</td>\n",
       "      <td>349</td>\n",
       "      <td>34.159455</td>\n",
       "      <td>-118.267173</td>\n",
       "    </tr>\n",
       "    <tr>\n",
       "      <th>1</th>\n",
       "      <td>__6hsNl6ibtI6OE5NQQiPw</td>\n",
       "      <td>Taco Bell</td>\n",
       "      <td>1.562499e+10</td>\n",
       "      <td>2500 E Pacific Coast Hwy  Long Beach, CA 90804</td>\n",
       "      <td>hotdogs, mexican,</td>\n",
       "      <td>Fast Food, Mexican,</td>\n",
       "      <td>2.0</td>\n",
       "      <td>89</td>\n",
       "      <td>33.789873</td>\n",
       "      <td>-118.162498</td>\n",
       "    </tr>\n",
       "    <tr>\n",
       "      <th>2</th>\n",
       "      <td>__cvgBooF6k2Ra0nA14NGg</td>\n",
       "      <td>Bottlefish</td>\n",
       "      <td>1.310955e+10</td>\n",
       "      <td>11677 San Vicente Blvd  Ste 200  Los Angeles, ...</td>\n",
       "      <td>bars, seafood,</td>\n",
       "      <td>Bars, Seafood,</td>\n",
       "      <td>4.5</td>\n",
       "      <td>274</td>\n",
       "      <td>34.054000</td>\n",
       "      <td>-118.464759</td>\n",
       "    </tr>\n",
       "    <tr>\n",
       "      <th>3</th>\n",
       "      <td>__D9TH9-JRh_7CvWJcPZcQ</td>\n",
       "      <td>Baby Lobster</td>\n",
       "      <td>1.213747e+10</td>\n",
       "      <td>1001 Maple Ave  Ste 201  Los Angeles, CA 90015</td>\n",
       "      <td>seafood, mexican,</td>\n",
       "      <td>Seafood, Mexican,</td>\n",
       "      <td>3.0</td>\n",
       "      <td>49</td>\n",
       "      <td>34.038311</td>\n",
       "      <td>-118.254250</td>\n",
       "    </tr>\n",
       "    <tr>\n",
       "      <th>4</th>\n",
       "      <td>__GK0tVl6Dygt6BVn2TFrA</td>\n",
       "      <td>China Star Express</td>\n",
       "      <td>1.562494e+10</td>\n",
       "      <td>1785 Palo Verde Ave  Long Beach, CA 90815</td>\n",
       "      <td>chinese, hotdogs,</td>\n",
       "      <td>Chinese, Fast Food,</td>\n",
       "      <td>3.5</td>\n",
       "      <td>209</td>\n",
       "      <td>33.788383</td>\n",
       "      <td>-118.108055</td>\n",
       "    </tr>\n",
       "  </tbody>\n",
       "</table>\n",
       "</div>"
      ],
      "text/plain": [
       "                       id                name         phone  \\\n",
       "0  __4rPIbNWudQVuoaRs2MuQ       Best Shawarma  1.818551e+10   \n",
       "1  __6hsNl6ibtI6OE5NQQiPw           Taco Bell  1.562499e+10   \n",
       "2  __cvgBooF6k2Ra0nA14NGg          Bottlefish  1.310955e+10   \n",
       "3  __D9TH9-JRh_7CvWJcPZcQ        Baby Lobster  1.213747e+10   \n",
       "4  __GK0tVl6Dygt6BVn2TFrA  China Star Express  1.562494e+10   \n",
       "\n",
       "                                             address  \\\n",
       "0            602 W Glenoaks Blvd  Glendale, CA 91202   \n",
       "1     2500 E Pacific Coast Hwy  Long Beach, CA 90804   \n",
       "2  11677 San Vicente Blvd  Ste 200  Los Angeles, ...   \n",
       "3     1001 Maple Ave  Ste 201  Los Angeles, CA 90015   \n",
       "4          1785 Palo Verde Ave  Long Beach, CA 90815   \n",
       "\n",
       "                category_alias                        category_title  rating  \\\n",
       "0  mideastern, bbq, armenian,   Middle Eastern, Barbeque, Armenian,      4.0   \n",
       "1           hotdogs, mexican,                   Fast Food, Mexican,      2.0   \n",
       "2              bars, seafood,                        Bars, Seafood,      4.5   \n",
       "3           seafood, mexican,                     Seafood, Mexican,      3.0   \n",
       "4           chinese, hotdogs,                   Chinese, Fast Food,      3.5   \n",
       "\n",
       "   review_count        lat         lon  \n",
       "0           349  34.159455 -118.267173  \n",
       "1            89  33.789873 -118.162498  \n",
       "2           274  34.054000 -118.464759  \n",
       "3            49  34.038311 -118.254250  \n",
       "4           209  33.788383 -118.108055  "
      ]
     },
     "execution_count": 49,
     "metadata": {},
     "output_type": "execute_result"
    }
   ],
   "source": [
    "#datframe for all types of food\n",
    "aT=pd.read_csv('../csv/LA_rest_yelp_no_dupes.csv')\n",
    "aT.head()"
   ]
  },
  {
   "cell_type": "code",
   "execution_count": 50,
   "metadata": {},
   "outputs": [
    {
     "data": {
      "text/html": [
       "<div>\n",
       "<style scoped>\n",
       "    .dataframe tbody tr th:only-of-type {\n",
       "        vertical-align: middle;\n",
       "    }\n",
       "\n",
       "    .dataframe tbody tr th {\n",
       "        vertical-align: top;\n",
       "    }\n",
       "\n",
       "    .dataframe thead th {\n",
       "        text-align: right;\n",
       "    }\n",
       "</style>\n",
       "<table border=\"1\" class=\"dataframe\">\n",
       "  <thead>\n",
       "    <tr style=\"text-align: right;\">\n",
       "      <th></th>\n",
       "      <th>id</th>\n",
       "      <th>name</th>\n",
       "      <th>phone</th>\n",
       "      <th>address</th>\n",
       "      <th>category_alias</th>\n",
       "      <th>category_title</th>\n",
       "      <th>rating</th>\n",
       "      <th>review_count</th>\n",
       "      <th>lat</th>\n",
       "      <th>lon</th>\n",
       "      <th>zipcodes</th>\n",
       "    </tr>\n",
       "  </thead>\n",
       "  <tbody>\n",
       "    <tr>\n",
       "      <th>1613</th>\n",
       "      <td>3YtKjdYnmXqOd3AcuT9Ezw</td>\n",
       "      <td>Mon Roll House</td>\n",
       "      <td>1.310394e+10</td>\n",
       "      <td>1509 4th St  Santa Monica, CA 90401</td>\n",
       "      <td>japanese, sushi,</td>\n",
       "      <td>Japanese, Sushi Bars,</td>\n",
       "      <td>3.5</td>\n",
       "      <td>374</td>\n",
       "      <td>34.014738</td>\n",
       "      <td>-118.492986</td>\n",
       "      <td>90401</td>\n",
       "    </tr>\n",
       "  </tbody>\n",
       "</table>\n",
       "</div>"
      ],
      "text/plain": [
       "                          id            name         phone  \\\n",
       "1613  3YtKjdYnmXqOd3AcuT9Ezw  Mon Roll House  1.310394e+10   \n",
       "\n",
       "                                  address     category_alias  \\\n",
       "1613  1509 4th St  Santa Monica, CA 90401  japanese, sushi,    \n",
       "\n",
       "              category_title  rating  review_count        lat         lon  \\\n",
       "1613  Japanese, Sushi Bars,      3.5           374  34.014738 -118.492986   \n",
       "\n",
       "     zipcodes  \n",
       "1613    90401  "
      ]
     },
     "execution_count": 50,
     "metadata": {},
     "output_type": "execute_result"
    }
   ],
   "source": [
    "zipcodes = list()\n",
    "\n",
    "for item in aT['address']:\n",
    "    zipcode = item.split()[-1]\n",
    "    zipcodes.append(zipcode)\n",
    "\n",
    "aT['zipcodes'] = zipcodes\n",
    "aT = pd.DataFrame(aT)\n",
    "aT.sample()"
   ]
  },
  {
   "cell_type": "code",
   "execution_count": 51,
   "metadata": {},
   "outputs": [
    {
     "data": {
      "text/plain": [
       "['Suite 131  735 S Figueroa Street  Los Angeles 90017  United Kingdom',\n",
       " '243 Castle La West  Bournemouth BH8 9TG  United Kingdom',\n",
       " '181 Thornley La South  Stockport SK5 6QG  United Kingdom']"
      ]
     },
     "execution_count": 51,
     "metadata": {},
     "output_type": "execute_result"
    }
   ],
   "source": [
    "list(aT[aT[\"zipcodes\"]=='Kingdom']['address'])"
   ]
  },
  {
   "cell_type": "code",
   "execution_count": 52,
   "metadata": {},
   "outputs": [],
   "source": [
    "#verify that only Los Angeles locatins\n",
    "# list(aT[aT[\"zipcodes\"]=='CA']['address'])"
   ]
  },
  {
   "cell_type": "code",
   "execution_count": 53,
   "metadata": {},
   "outputs": [
    {
     "data": {
      "text/html": [
       "<div>\n",
       "<style scoped>\n",
       "    .dataframe tbody tr th:only-of-type {\n",
       "        vertical-align: middle;\n",
       "    }\n",
       "\n",
       "    .dataframe tbody tr th {\n",
       "        vertical-align: top;\n",
       "    }\n",
       "\n",
       "    .dataframe thead th {\n",
       "        text-align: right;\n",
       "    }\n",
       "</style>\n",
       "<table border=\"1\" class=\"dataframe\">\n",
       "  <thead>\n",
       "    <tr style=\"text-align: right;\">\n",
       "      <th></th>\n",
       "      <th>id</th>\n",
       "      <th>name</th>\n",
       "      <th>phone</th>\n",
       "      <th>address</th>\n",
       "      <th>category_alias</th>\n",
       "      <th>category_title</th>\n",
       "      <th>rating</th>\n",
       "      <th>review_count</th>\n",
       "      <th>lat</th>\n",
       "      <th>lon</th>\n",
       "      <th>zipcodes</th>\n",
       "    </tr>\n",
       "  </thead>\n",
       "  <tbody>\n",
       "    <tr>\n",
       "      <th>8978</th>\n",
       "      <td>ISLI9EHIihVJLFRJpkPh1g</td>\n",
       "      <td>Orange House Take Out</td>\n",
       "      <td>1.562694e+10</td>\n",
       "      <td>2414 W Whittier Blvd  La Habra, CA 90631</td>\n",
       "      <td>japanese,</td>\n",
       "      <td>Japanese,</td>\n",
       "      <td>4.0</td>\n",
       "      <td>177</td>\n",
       "      <td>33.939695</td>\n",
       "      <td>-117.973346</td>\n",
       "      <td>90631</td>\n",
       "    </tr>\n",
       "  </tbody>\n",
       "</table>\n",
       "</div>"
      ],
      "text/plain": [
       "                          id                   name         phone  \\\n",
       "8978  ISLI9EHIihVJLFRJpkPh1g  Orange House Take Out  1.562694e+10   \n",
       "\n",
       "                                       address category_alias category_title  \\\n",
       "8978  2414 W Whittier Blvd  La Habra, CA 90631     japanese,      Japanese,    \n",
       "\n",
       "      rating  review_count        lat         lon zipcodes  \n",
       "8978     4.0           177  33.939695 -117.973346    90631  "
      ]
     },
     "execution_count": 53,
     "metadata": {},
     "output_type": "execute_result"
    }
   ],
   "source": [
    "aT=aT[aT.zipcodes.str.startswith('9')]\n",
    "aT.sample()"
   ]
  },
  {
   "cell_type": "code",
   "execution_count": null,
   "metadata": {},
   "outputs": [],
   "source": []
  },
  {
   "cell_type": "code",
   "execution_count": 54,
   "metadata": {},
   "outputs": [],
   "source": [
    "#get restaurants with more than 100 reviews\n",
    "aT=aT[aT[\"review_count\"]>=100]"
   ]
  },
  {
   "cell_type": "code",
   "execution_count": 74,
   "metadata": {
    "scrolled": true
   },
   "outputs": [
    {
     "data": {
      "image/png": "[encoded data removed]",
      "text/plain": [
       "<Figure size 640x480 with 1 Axes>"
      ]
     },
     "metadata": {},
     "output_type": "display_data"
    },
    {
     "data": {
      "text/plain": [
       "<Figure size 432x288 with 0 Axes>"
      ]
     },
     "metadata": {},
     "output_type": "display_data"
    }
   ],
   "source": [
    "x = aT[\"review_count\"]\n",
    "y = aT[\"rating\"]\n",
    "z = aT.zipcodes.astype(int)\n",
    "# z=z*z\n",
    "# z=z.sum()\n",
    "\n",
    "plt.figure(num=None, figsize=(8, 6), dpi=80, facecolor='w', edgecolor='k')\n",
    "# Change color with c and alpha. I map the color to the X axis value.\n",
    "plt.scatter(x, y, s=50, c=z, cmap=\"Pastel1\", alpha=0.4, edgecolors=\"grey\", linewidth=.5)\n",
    " \n",
    "# Add titles (main and on axis)\n",
    "plt.xlabel(\"Number of Reviews\")\n",
    "plt.ylabel(\"Average Rating\")\n",
    "plt.title(\"Restaurants by Rating and Review Count\")\n",
    " \n",
    "plt.show()\n",
    "plt.savefig('plots/pink_brown.png')"
   ]
  },
  {
   "cell_type": "code",
   "execution_count": 75,
   "metadata": {},
   "outputs": [
    {
     "data": {
      "text/html": [
       "<div>\n",
       "<style scoped>\n",
       "    .dataframe tbody tr th:only-of-type {\n",
       "        vertical-align: middle;\n",
       "    }\n",
       "\n",
       "    .dataframe tbody tr th {\n",
       "        vertical-align: top;\n",
       "    }\n",
       "\n",
       "    .dataframe thead th {\n",
       "        text-align: right;\n",
       "    }\n",
       "</style>\n",
       "<table border=\"1\" class=\"dataframe\">\n",
       "  <thead>\n",
       "    <tr style=\"text-align: right;\">\n",
       "      <th></th>\n",
       "      <th>id</th>\n",
       "      <th>name</th>\n",
       "      <th>phone</th>\n",
       "      <th>address</th>\n",
       "      <th>category_alias</th>\n",
       "      <th>category_title</th>\n",
       "      <th>rating</th>\n",
       "      <th>review_count</th>\n",
       "      <th>lat</th>\n",
       "      <th>lon</th>\n",
       "      <th>zipcodes</th>\n",
       "    </tr>\n",
       "  </thead>\n",
       "  <tbody>\n",
       "    <tr>\n",
       "      <th>15773</th>\n",
       "      <td>TkFEKhsCixPWlShULKvMdQ</td>\n",
       "      <td>Bottega Louie</td>\n",
       "      <td>1.213802e+10</td>\n",
       "      <td>700 S Grand Ave  Los Angeles, CA 90017</td>\n",
       "      <td>italian, bakeries, breakfast_brunch,</td>\n",
       "      <td>Italian, Bakeries, Breakfast &amp; Brunch,</td>\n",
       "      <td>4.0</td>\n",
       "      <td>16955</td>\n",
       "      <td>34.04693</td>\n",
       "      <td>-118.256601</td>\n",
       "      <td>90017</td>\n",
       "    </tr>\n",
       "  </tbody>\n",
       "</table>\n",
       "</div>"
      ],
      "text/plain": [
       "                           id           name         phone  \\\n",
       "15773  TkFEKhsCixPWlShULKvMdQ  Bottega Louie  1.213802e+10   \n",
       "\n",
       "                                      address  \\\n",
       "15773  700 S Grand Ave  Los Angeles, CA 90017   \n",
       "\n",
       "                              category_alias  \\\n",
       "15773  italian, bakeries, breakfast_brunch,    \n",
       "\n",
       "                                category_title  rating  review_count  \\\n",
       "15773  Italian, Bakeries, Breakfast & Brunch,      4.0         16955   \n",
       "\n",
       "            lat         lon zipcodes  \n",
       "15773  34.04693 -118.256601    90017  "
      ]
     },
     "execution_count": 75,
     "metadata": {},
     "output_type": "execute_result"
    }
   ],
   "source": [
    "aT[aT[\"review_count\"]>=15000]"
   ]
  },
  {
   "cell_type": "code",
   "execution_count": 57,
   "metadata": {},
   "outputs": [
    {
     "data": {
      "text/plain": [
       "phone           1.217504e+10\n",
       "rating          3.698795e+00\n",
       "review_count    7.163614e+02\n",
       "lat             3.404958e+01\n",
       "lon            -1.182615e+02\n",
       "zipcodes                 inf\n",
       "dtype: float64"
      ]
     },
     "execution_count": 57,
     "metadata": {},
     "output_type": "execute_result"
    }
   ],
   "source": [
    "aT[aT[\"zipcodes\"]=='90017'].mean()"
   ]
  },
  {
   "cell_type": "code",
   "execution_count": 58,
   "metadata": {},
   "outputs": [
    {
     "data": {
      "text/html": [
       "<div>\n",
       "<style scoped>\n",
       "    .dataframe tbody tr th:only-of-type {\n",
       "        vertical-align: middle;\n",
       "    }\n",
       "\n",
       "    .dataframe tbody tr th {\n",
       "        vertical-align: top;\n",
       "    }\n",
       "\n",
       "    .dataframe thead th {\n",
       "        text-align: right;\n",
       "    }\n",
       "</style>\n",
       "<table border=\"1\" class=\"dataframe\">\n",
       "  <thead>\n",
       "    <tr style=\"text-align: right;\">\n",
       "      <th></th>\n",
       "      <th>phone</th>\n",
       "      <th>rating</th>\n",
       "      <th>review_count</th>\n",
       "      <th>lat</th>\n",
       "      <th>lon</th>\n",
       "    </tr>\n",
       "  </thead>\n",
       "  <tbody>\n",
       "    <tr>\n",
       "      <th>count</th>\n",
       "      <td>1.064200e+04</td>\n",
       "      <td>10741.000000</td>\n",
       "      <td>10741.000000</td>\n",
       "      <td>10741.000000</td>\n",
       "      <td>10741.000000</td>\n",
       "    </tr>\n",
       "    <tr>\n",
       "      <th>mean</th>\n",
       "      <td>1.483958e+10</td>\n",
       "      <td>3.821758</td>\n",
       "      <td>503.393259</td>\n",
       "      <td>33.981854</td>\n",
       "      <td>-118.253166</td>\n",
       "    </tr>\n",
       "    <tr>\n",
       "      <th>std</th>\n",
       "      <td>2.036202e+09</td>\n",
       "      <td>0.579965</td>\n",
       "      <td>598.806651</td>\n",
       "      <td>0.133527</td>\n",
       "      <td>0.193931</td>\n",
       "    </tr>\n",
       "    <tr>\n",
       "      <th>min</th>\n",
       "      <td>1.201844e+10</td>\n",
       "      <td>1.500000</td>\n",
       "      <td>100.000000</td>\n",
       "      <td>33.662399</td>\n",
       "      <td>-122.636364</td>\n",
       "    </tr>\n",
       "    <tr>\n",
       "      <th>25%</th>\n",
       "      <td>1.310560e+10</td>\n",
       "      <td>3.500000</td>\n",
       "      <td>179.000000</td>\n",
       "      <td>33.870215</td>\n",
       "      <td>-118.383880</td>\n",
       "    </tr>\n",
       "    <tr>\n",
       "      <th>50%</th>\n",
       "      <td>1.424278e+10</td>\n",
       "      <td>4.000000</td>\n",
       "      <td>316.000000</td>\n",
       "      <td>34.017345</td>\n",
       "      <td>-118.280314</td>\n",
       "    </tr>\n",
       "    <tr>\n",
       "      <th>75%</th>\n",
       "      <td>1.626965e+10</td>\n",
       "      <td>4.000000</td>\n",
       "      <td>597.000000</td>\n",
       "      <td>34.076020</td>\n",
       "      <td>-118.113167</td>\n",
       "    </tr>\n",
       "    <tr>\n",
       "      <th>max</th>\n",
       "      <td>1.951456e+10</td>\n",
       "      <td>5.000000</td>\n",
       "      <td>16955.000000</td>\n",
       "      <td>37.895588</td>\n",
       "      <td>-117.750724</td>\n",
       "    </tr>\n",
       "  </tbody>\n",
       "</table>\n",
       "</div>"
      ],
      "text/plain": [
       "              phone        rating  review_count           lat           lon\n",
       "count  1.064200e+04  10741.000000  10741.000000  10741.000000  10741.000000\n",
       "mean   1.483958e+10      3.821758    503.393259     33.981854   -118.253166\n",
       "std    2.036202e+09      0.579965    598.806651      0.133527      0.193931\n",
       "min    1.201844e+10      1.500000    100.000000     33.662399   -122.636364\n",
       "25%    1.310560e+10      3.500000    179.000000     33.870215   -118.383880\n",
       "50%    1.424278e+10      4.000000    316.000000     34.017345   -118.280314\n",
       "75%    1.626965e+10      4.000000    597.000000     34.076020   -118.113167\n",
       "max    1.951456e+10      5.000000  16955.000000     37.895588   -117.750724"
      ]
     },
     "execution_count": 58,
     "metadata": {},
     "output_type": "execute_result"
    }
   ],
   "source": [
    "aT.describe()"
   ]
  },
  {
   "cell_type": "code",
   "execution_count": 59,
   "metadata": {
    "scrolled": true
   },
   "outputs": [
    {
     "data": {
      "text/html": [
       "<div>\n",
       "<style scoped>\n",
       "    .dataframe tbody tr th:only-of-type {\n",
       "        vertical-align: middle;\n",
       "    }\n",
       "\n",
       "    .dataframe tbody tr th {\n",
       "        vertical-align: top;\n",
       "    }\n",
       "\n",
       "    .dataframe thead th {\n",
       "        text-align: right;\n",
       "    }\n",
       "</style>\n",
       "<table border=\"1\" class=\"dataframe\">\n",
       "  <thead>\n",
       "    <tr style=\"text-align: right;\">\n",
       "      <th></th>\n",
       "      <th>id</th>\n",
       "      <th>name</th>\n",
       "      <th>phone</th>\n",
       "      <th>address</th>\n",
       "      <th>category_alias</th>\n",
       "      <th>category_title</th>\n",
       "      <th>rating</th>\n",
       "      <th>review_count</th>\n",
       "      <th>lat</th>\n",
       "      <th>lon</th>\n",
       "      <th>zipcodes</th>\n",
       "    </tr>\n",
       "  </thead>\n",
       "  <tbody>\n",
       "    <tr>\n",
       "      <th>8855</th>\n",
       "      <td>ILuXurLzw4N30I_RbPON2A</td>\n",
       "      <td>Buffalo Wild Wings</td>\n",
       "      <td>1.310437e+10</td>\n",
       "      <td>736 East Del Amo Blvd  Carson, CA 90746</td>\n",
       "      <td>chicken_wings, sportsbars, tradamerican,</td>\n",
       "      <td>Chicken Wings, Sports Bars, American (Traditio...</td>\n",
       "      <td>1.5</td>\n",
       "      <td>1032</td>\n",
       "      <td>33.847007</td>\n",
       "      <td>-118.262301</td>\n",
       "      <td>90746</td>\n",
       "    </tr>\n",
       "  </tbody>\n",
       "</table>\n",
       "</div>"
      ],
      "text/plain": [
       "                          id                name         phone  \\\n",
       "8855  ILuXurLzw4N30I_RbPON2A  Buffalo Wild Wings  1.310437e+10   \n",
       "\n",
       "                                      address  \\\n",
       "8855  736 East Del Amo Blvd  Carson, CA 90746   \n",
       "\n",
       "                                 category_alias  \\\n",
       "8855  chicken_wings, sportsbars, tradamerican,    \n",
       "\n",
       "                                         category_title  rating  review_count  \\\n",
       "8855  Chicken Wings, Sports Bars, American (Traditio...     1.5          1032   \n",
       "\n",
       "            lat         lon zipcodes  \n",
       "8855  33.847007 -118.262301    90746  "
      ]
     },
     "execution_count": 59,
     "metadata": {},
     "output_type": "execute_result"
    }
   ],
   "source": [
    "badR=aT[(aT[\"review_count\"]>=500) & (aT[\"rating\"]== 1.5)]\n",
    "badR"
   ]
  },
  {
   "cell_type": "code",
   "execution_count": null,
   "metadata": {},
   "outputs": [],
   "source": []
  },
  {
   "cell_type": "code",
   "execution_count": 60,
   "metadata": {},
   "outputs": [
    {
     "data": {
      "application/vnd.jupyter.widget-view+json": {
       "model_id": "eefe6e7850b242538b416999b2cb6a44",
       "version_major": 2,
       "version_minor": 0
      },
      "text/plain": [
       "Figure(layout=FigureLayout(border='1px solid black', height='600px', margin='0 auto 0 auto', padding='1px', wi…"
      ]
     },
     "metadata": {},
     "output_type": "display_data"
    }
   ],
   "source": [
    "\n",
    "lat=list(badR['lat'])\n",
    "lon=list(badR['lon'])\n",
    "\n",
    "zip(lat, lon)\n",
    "\n",
    "coordinates = [x for x in zip(lat, lon)]\n",
    "\n",
    "\n",
    "# Customize the size of the figure\n",
    "figure_layout = {\n",
    "    'width': '700px',\n",
    "    'height': '600px',\n",
    "    'border': '1px solid black',\n",
    "    'padding': '1px',\n",
    "    'margin': '0 auto 0 auto'\n",
    "}\n",
    "fig = gmaps.figure(layout=figure_layout)\n",
    "# Assign the marker layer to a variable\n",
    "markers = gmaps.marker_layer(coordinates)\n",
    "# heat_layer = gmaps.heatmap_layer(coordinates, weights=badR['rating']-1.5, \n",
    "#                                  dissipating=False, max_intensity=1.5,\n",
    "#                                  point_radius = .000008)\n",
    "# Add the layer to the map\n",
    "fig.add_layer(markers)\n",
    "fig"
   ]
  },
  {
   "cell_type": "code",
   "execution_count": 61,
   "metadata": {
    "scrolled": true
   },
   "outputs": [
    {
     "data": {
      "text/html": [
       "<div>\n",
       "<style scoped>\n",
       "    .dataframe tbody tr th:only-of-type {\n",
       "        vertical-align: middle;\n",
       "    }\n",
       "\n",
       "    .dataframe tbody tr th {\n",
       "        vertical-align: top;\n",
       "    }\n",
       "\n",
       "    .dataframe thead th {\n",
       "        text-align: right;\n",
       "    }\n",
       "</style>\n",
       "<table border=\"1\" class=\"dataframe\">\n",
       "  <thead>\n",
       "    <tr style=\"text-align: right;\">\n",
       "      <th></th>\n",
       "      <th>id</th>\n",
       "      <th>name</th>\n",
       "      <th>phone</th>\n",
       "      <th>address</th>\n",
       "      <th>category_alias</th>\n",
       "      <th>category_title</th>\n",
       "      <th>rating</th>\n",
       "      <th>review_count</th>\n",
       "      <th>lat</th>\n",
       "      <th>lon</th>\n",
       "      <th>zipcodes</th>\n",
       "    </tr>\n",
       "  </thead>\n",
       "  <tbody>\n",
       "    <tr>\n",
       "      <th>273</th>\n",
       "      <td>_w3Senbs5ggKu__HU72vMQ</td>\n",
       "      <td>TGI Fridays</td>\n",
       "      <td>1.562420e+10</td>\n",
       "      <td>7221 Carson Blvd  Long Beach, CA 90808</td>\n",
       "      <td>tradamerican, bars, burgers,</td>\n",
       "      <td>American (Traditional), Bars, Burgers,</td>\n",
       "      <td>2.5</td>\n",
       "      <td>491</td>\n",
       "      <td>33.830900</td>\n",
       "      <td>-118.088440</td>\n",
       "      <td>90808</td>\n",
       "    </tr>\n",
       "    <tr>\n",
       "      <th>698</th>\n",
       "      <td>11NJTChkf0YUHZXBO0JHRA</td>\n",
       "      <td>Smashburger</td>\n",
       "      <td>1.213631e+10</td>\n",
       "      <td>1011 S Figueroa St  Ste B 101  Los Angeles, CA...</td>\n",
       "      <td>burgers,</td>\n",
       "      <td>Burgers,</td>\n",
       "      <td>2.5</td>\n",
       "      <td>622</td>\n",
       "      <td>34.044333</td>\n",
       "      <td>-118.265606</td>\n",
       "      <td>90015</td>\n",
       "    </tr>\n",
       "    <tr>\n",
       "      <th>1125</th>\n",
       "      <td>2EamcpRzQ27G2EOkCnGBvw</td>\n",
       "      <td>Buffalo Wild Wings</td>\n",
       "      <td>1.310542e+10</td>\n",
       "      <td>3525 W Carson St  Ste 163  Torrance, CA 90503</td>\n",
       "      <td>chicken_wings, tradamerican, sportsbars,</td>\n",
       "      <td>Chicken Wings, American (Traditional), Sports ...</td>\n",
       "      <td>2.5</td>\n",
       "      <td>862</td>\n",
       "      <td>33.833810</td>\n",
       "      <td>-118.347154</td>\n",
       "      <td>90503</td>\n",
       "    </tr>\n",
       "    <tr>\n",
       "      <th>1143</th>\n",
       "      <td>2GIpqnaSQageX3YgLb4E3Q</td>\n",
       "      <td>P.F. Chang's</td>\n",
       "      <td>1.310793e+10</td>\n",
       "      <td>3525 Carson St  Ste 166  Torrance, CA 90503</td>\n",
       "      <td>chinese,</td>\n",
       "      <td>Chinese,</td>\n",
       "      <td>2.5</td>\n",
       "      <td>531</td>\n",
       "      <td>33.833049</td>\n",
       "      <td>-118.347190</td>\n",
       "      <td>90503</td>\n",
       "    </tr>\n",
       "    <tr>\n",
       "      <th>1398</th>\n",
       "      <td>39NODk79ni7799xln_lIIw</td>\n",
       "      <td>Steak ’n Shake</td>\n",
       "      <td>1.310260e+10</td>\n",
       "      <td>1455 3rd St Promenade  Santa Monica, CA 90401</td>\n",
       "      <td>burgers, hotdogs, tradamerican,</td>\n",
       "      <td>Burgers, Fast Food, American (Traditional),</td>\n",
       "      <td>2.5</td>\n",
       "      <td>606</td>\n",
       "      <td>34.014650</td>\n",
       "      <td>-118.494548</td>\n",
       "      <td>90401</td>\n",
       "    </tr>\n",
       "  </tbody>\n",
       "</table>\n",
       "</div>"
      ],
      "text/plain": [
       "                          id                name         phone  \\\n",
       "273   _w3Senbs5ggKu__HU72vMQ         TGI Fridays  1.562420e+10   \n",
       "698   11NJTChkf0YUHZXBO0JHRA         Smashburger  1.213631e+10   \n",
       "1125  2EamcpRzQ27G2EOkCnGBvw  Buffalo Wild Wings  1.310542e+10   \n",
       "1143  2GIpqnaSQageX3YgLb4E3Q        P.F. Chang's  1.310793e+10   \n",
       "1398  39NODk79ni7799xln_lIIw      Steak ’n Shake  1.310260e+10   \n",
       "\n",
       "                                                address  \\\n",
       "273              7221 Carson Blvd  Long Beach, CA 90808   \n",
       "698   1011 S Figueroa St  Ste B 101  Los Angeles, CA...   \n",
       "1125      3525 W Carson St  Ste 163  Torrance, CA 90503   \n",
       "1143        3525 Carson St  Ste 166  Torrance, CA 90503   \n",
       "1398      1455 3rd St Promenade  Santa Monica, CA 90401   \n",
       "\n",
       "                                 category_alias  \\\n",
       "273               tradamerican, bars, burgers,    \n",
       "698                                   burgers,    \n",
       "1125  chicken_wings, tradamerican, sportsbars,    \n",
       "1143                                  chinese,    \n",
       "1398           burgers, hotdogs, tradamerican,    \n",
       "\n",
       "                                         category_title  rating  review_count  \\\n",
       "273             American (Traditional), Bars, Burgers,      2.5           491   \n",
       "698                                           Burgers,      2.5           622   \n",
       "1125  Chicken Wings, American (Traditional), Sports ...     2.5           862   \n",
       "1143                                          Chinese,      2.5           531   \n",
       "1398       Burgers, Fast Food, American (Traditional),      2.5           606   \n",
       "\n",
       "            lat         lon zipcodes  \n",
       "273   33.830900 -118.088440    90808  \n",
       "698   34.044333 -118.265606    90015  \n",
       "1125  33.833810 -118.347154    90503  \n",
       "1143  33.833049 -118.347190    90503  \n",
       "1398  34.014650 -118.494548    90401  "
      ]
     },
     "execution_count": 61,
     "metadata": {},
     "output_type": "execute_result"
    }
   ],
   "source": [
    "mediocre=aT[(aT[\"rating\"]==2.5) &(aT[\"review_count\"]>=300) ]\n",
    "mediocre.head()"
   ]
  },
  {
   "cell_type": "code",
   "execution_count": 62,
   "metadata": {},
   "outputs": [
    {
     "data": {
      "text/plain": [
       "Mexican,                                                6\n",
       "Mexican, Fast Food,                                     6\n",
       "American (Traditional), Sports Bars, Burgers,           5\n",
       "American (Traditional), Chicken Wings, Sports Bars,     4\n",
       "American (Traditional), Tex-Mex, Bars,                  4\n",
       "                                                       ..\n",
       "Pizza, American (Traditional), Tapas Bars,              1\n",
       "Latin American, Peruvian,                               1\n",
       "Sushi Bars, Teppanyaki, Seafood,                        1\n",
       "Sushi Bars, Japanese,                                   1\n",
       "American (New), Breweries, Pizza,                       1\n",
       "Name: category_title, Length: 62, dtype: int64"
      ]
     },
     "execution_count": 62,
     "metadata": {},
     "output_type": "execute_result"
    }
   ],
   "source": [
    "mediocre['category_title'].value_counts()"
   ]
  },
  {
   "cell_type": "code",
   "execution_count": null,
   "metadata": {},
   "outputs": [],
   "source": []
  },
  {
   "cell_type": "code",
   "execution_count": null,
   "metadata": {},
   "outputs": [],
   "source": []
  },
  {
   "cell_type": "code",
   "execution_count": 63,
   "metadata": {},
   "outputs": [
    {
     "data": {
      "application/vnd.jupyter.widget-view+json": {
       "model_id": "dad634f3549f49cfa8ab933a94d5e172",
       "version_major": 2,
       "version_minor": 0
      },
      "text/plain": [
       "Figure(layout=FigureLayout(border='1px solid black', height='600px', margin='0 auto 0 auto', padding='1px', wi…"
      ]
     },
     "metadata": {},
     "output_type": "display_data"
    }
   ],
   "source": [
    "\n",
    "lat=list(mediocre['lat'])\n",
    "lon=list(mediocre['lon'])\n",
    "\n",
    "zip(lat, lon)\n",
    "\n",
    "coordinates = [x for x in zip(lat, lon)]\n",
    "rest_name=mediocre['name'].tolist()\n",
    "\n",
    "# Customize the size of the figure\n",
    "figure_layout = {\n",
    "    'width': '700px',\n",
    "    'height': '600px',\n",
    "    'border': '1px solid black',\n",
    "    'padding': '1px',\n",
    "    'margin': '0 auto 0 auto'\n",
    "}\n",
    "fig = gmaps.figure(layout=figure_layout)\n",
    "# Assign the marker layer to a variable\n",
    "info_box_content=[f\"Restaurant name: {name}\" for name in rest_name]\n",
    "markers = gmaps.marker_layer(coordinates, info_box_content=info_box_content )\n",
    "\n",
    "# heat_layer = gmaps.heatmap_layer(coordinates, weights=badR['rating']-1.5, \n",
    "#                                  dissipating=False, max_intensity=1.5,\n",
    "#                                  point_radius = .000008)\n",
    "# Add the layer to the map\n",
    "fig.add_layer(markers)\n",
    "fig"
   ]
  },
  {
   "cell_type": "code",
   "execution_count": null,
   "metadata": {},
   "outputs": [],
   "source": []
  },
  {
   "cell_type": "code",
   "execution_count": null,
   "metadata": {},
   "outputs": [],
   "source": []
  },
  {
   "cell_type": "code",
   "execution_count": 64,
   "metadata": {},
   "outputs": [
    {
     "data": {
      "text/html": [
       "<div>\n",
       "<style scoped>\n",
       "    .dataframe tbody tr th:only-of-type {\n",
       "        vertical-align: middle;\n",
       "    }\n",
       "\n",
       "    .dataframe tbody tr th {\n",
       "        vertical-align: top;\n",
       "    }\n",
       "\n",
       "    .dataframe thead th {\n",
       "        text-align: right;\n",
       "    }\n",
       "</style>\n",
       "<table border=\"1\" class=\"dataframe\">\n",
       "  <thead>\n",
       "    <tr style=\"text-align: right;\">\n",
       "      <th></th>\n",
       "      <th>id</th>\n",
       "      <th>name</th>\n",
       "      <th>phone</th>\n",
       "      <th>address</th>\n",
       "      <th>category_alias</th>\n",
       "      <th>category_title</th>\n",
       "      <th>rating</th>\n",
       "      <th>review_count</th>\n",
       "      <th>lat</th>\n",
       "      <th>lon</th>\n",
       "      <th>zipcodes</th>\n",
       "    </tr>\n",
       "  </thead>\n",
       "  <tbody>\n",
       "    <tr>\n",
       "      <th>1058</th>\n",
       "      <td>26qU1-u0hSYOjYDaqIcGPw</td>\n",
       "      <td>Yo-Way Eatery</td>\n",
       "      <td>1.424228e+10</td>\n",
       "      <td>17901 S Vermont  Ste D  Gardena, CA 90248</td>\n",
       "      <td>juicebars, icecream, sandwiches,</td>\n",
       "      <td>Juice Bars &amp; Smoothies, Ice Cream &amp; Frozen Yog...</td>\n",
       "      <td>5.0</td>\n",
       "      <td>804</td>\n",
       "      <td>33.867865</td>\n",
       "      <td>-118.291121</td>\n",
       "      <td>90248</td>\n",
       "    </tr>\n",
       "    <tr>\n",
       "      <th>2247</th>\n",
       "      <td>6065vasIMEdNG72QYgxkKw</td>\n",
       "      <td>Churros Don Abel</td>\n",
       "      <td>1.562613e+10</td>\n",
       "      <td>5468 Whittier Blvd  East Los Angeles, CA 90022</td>\n",
       "      <td>mexican, streetvendors,</td>\n",
       "      <td>Mexican, Street Vendors,</td>\n",
       "      <td>5.0</td>\n",
       "      <td>637</td>\n",
       "      <td>34.019058</td>\n",
       "      <td>-118.151954</td>\n",
       "      <td>90022</td>\n",
       "    </tr>\n",
       "  </tbody>\n",
       "</table>\n",
       "</div>"
      ],
      "text/plain": [
       "                          id              name         phone  \\\n",
       "1058  26qU1-u0hSYOjYDaqIcGPw     Yo-Way Eatery  1.424228e+10   \n",
       "2247  6065vasIMEdNG72QYgxkKw  Churros Don Abel  1.562613e+10   \n",
       "\n",
       "                                             address  \\\n",
       "1058       17901 S Vermont  Ste D  Gardena, CA 90248   \n",
       "2247  5468 Whittier Blvd  East Los Angeles, CA 90022   \n",
       "\n",
       "                         category_alias  \\\n",
       "1058  juicebars, icecream, sandwiches,    \n",
       "2247           mexican, streetvendors,    \n",
       "\n",
       "                                         category_title  rating  review_count  \\\n",
       "1058  Juice Bars & Smoothies, Ice Cream & Frozen Yog...     5.0           804   \n",
       "2247                          Mexican, Street Vendors,      5.0           637   \n",
       "\n",
       "            lat         lon zipcodes  \n",
       "1058  33.867865 -118.291121    90248  \n",
       "2247  34.019058 -118.151954    90022  "
      ]
     },
     "execution_count": 64,
     "metadata": {},
     "output_type": "execute_result"
    }
   ],
   "source": [
    "bestR=aT[(aT[\"review_count\"]>=500) & (aT[\"rating\"]== 5)]\n",
    "bestR.head(2)"
   ]
  },
  {
   "cell_type": "code",
   "execution_count": 65,
   "metadata": {},
   "outputs": [
    {
     "data": {
      "application/vnd.jupyter.widget-view+json": {
       "model_id": "2a4e03171cd243a7b523da50aea75adb",
       "version_major": 2,
       "version_minor": 0
      },
      "text/plain": [
       "Figure(layout=FigureLayout(border='1px solid black', height='600px', margin='0 auto 0 auto', padding='1px', wi…"
      ]
     },
     "metadata": {},
     "output_type": "display_data"
    }
   ],
   "source": [
    "bestR=aT[(aT[\"review_count\"]>=500) & (aT[\"rating\"]== 5)]\n",
    "\n",
    "lat=list(bestR['lat'])\n",
    "lon=list(bestR['lon'])\n",
    "\n",
    "zip(lat, lon)\n",
    "coordinates = [x for x in zip(lat, lon)]\n",
    "\n",
    "\n",
    "\n",
    "# Customize the size of the figure\n",
    "figure_layout = {\n",
    "    'width': '700px',\n",
    "    'height': '600px',\n",
    "    'border': '1px solid black',\n",
    "    'padding': '1px',\n",
    "    'margin': '0 auto 0 auto'\n",
    "}\n",
    "\n",
    "fig = gmaps.figure(layout=figure_layout)\n",
    "rest_name=bestR['name'].tolist()\n",
    "# Assign the marker layer to a variable\n",
    "info_box_content=[f\"Restaurant name: {name}\" for name in rest_name]\n",
    "markers = gmaps.marker_layer(coordinates, info_box_content=info_box_content )\n",
    "heat_layer = gmaps.heatmap_layer(coordinates, weights=bestR['rating']-5, \n",
    "                                 dissipating=False, max_intensity=5,\n",
    "                                 point_radius = .018)\n",
    "# Add the layer to the map\n",
    "fig.add_layer(heat_layer)\n",
    "fig.add_layer(markers)\n",
    "fig"
   ]
  },
  {
   "cell_type": "code",
   "execution_count": null,
   "metadata": {},
   "outputs": [],
   "source": []
  },
  {
   "cell_type": "code",
   "execution_count": 66,
   "metadata": {
    "scrolled": false
   },
   "outputs": [
    {
     "data": {
      "application/vnd.jupyter.widget-view+json": {
       "model_id": "4e698378e5f64588a0df1e30a2a57fbd",
       "version_major": 2,
       "version_minor": 0
      },
      "text/plain": [
       "Figure(layout=FigureLayout(border='1px solid black', height='600px', margin='0 auto 0 auto', padding='1px', wi…"
      ]
     },
     "metadata": {},
     "output_type": "display_data"
    }
   ],
   "source": [
    "mapdf=aT[(aT[\"zipcodes\"]=='90017') & (aT[\"rating\"]>= 3.5)]\n",
    "\n",
    "lat=list(mapdf['lat'])\n",
    "lon=list(mapdf['lon'])\n",
    "\n",
    "zip(lat, lon)\n",
    "coordinates = [x for x in zip(lat, lon)]\n",
    "\n",
    "# Customize the size of the figure\n",
    "figure_layout = {\n",
    "    'width': '700px',\n",
    "    'height': '600px',\n",
    "    'border': '1px solid black',\n",
    "    'padding': '1px',\n",
    "    'margin': '0 auto 0 auto'\n",
    "}\n",
    "fig = gmaps.figure(layout=figure_layout)\n",
    "# Assign the marker layer to a variable\n",
    "# markers = gmaps.marker_layer(coordinates)\n",
    "heat_layer = gmaps.heatmap_layer(coordinates, weights=mapdf['rating']-3.5, \n",
    "                                 dissipating=False, max_intensity=1.5,\n",
    "                                 point_radius = .0008)\n",
    "# Add the layer to the map\n",
    "fig.add_layer(heat_layer)\n",
    "fig"
   ]
  },
  {
   "cell_type": "code",
   "execution_count": 67,
   "metadata": {},
   "outputs": [
    {
     "data": {
      "text/html": [
       "<div>\n",
       "<style scoped>\n",
       "    .dataframe tbody tr th:only-of-type {\n",
       "        vertical-align: middle;\n",
       "    }\n",
       "\n",
       "    .dataframe tbody tr th {\n",
       "        vertical-align: top;\n",
       "    }\n",
       "\n",
       "    .dataframe thead th {\n",
       "        text-align: right;\n",
       "    }\n",
       "</style>\n",
       "<table border=\"1\" class=\"dataframe\">\n",
       "  <thead>\n",
       "    <tr style=\"text-align: right;\">\n",
       "      <th></th>\n",
       "      <th>id</th>\n",
       "      <th>name</th>\n",
       "      <th>phone</th>\n",
       "      <th>address</th>\n",
       "      <th>category_alias</th>\n",
       "      <th>category_title</th>\n",
       "      <th>rating</th>\n",
       "      <th>review_count</th>\n",
       "      <th>lat</th>\n",
       "      <th>lon</th>\n",
       "      <th>zipcodes</th>\n",
       "    </tr>\n",
       "  </thead>\n",
       "  <tbody>\n",
       "    <tr>\n",
       "      <th>184</th>\n",
       "      <td>_n0fEUZdbkLOimHz_IXkiQ</td>\n",
       "      <td>JOEY DTLA</td>\n",
       "      <td>1.213373e+10</td>\n",
       "      <td>700 W 7th St  Ste S430  Los Angeles, CA 90017</td>\n",
       "      <td>newamerican,</td>\n",
       "      <td>American (New),</td>\n",
       "      <td>4.5</td>\n",
       "      <td>847</td>\n",
       "      <td>34.048001</td>\n",
       "      <td>-118.258108</td>\n",
       "      <td>90017</td>\n",
       "    </tr>\n",
       "    <tr>\n",
       "      <th>281</th>\n",
       "      <td>_wZoR5op0wysdkUi2r6o9g</td>\n",
       "      <td>Ebaes on Wilshire</td>\n",
       "      <td>1.213250e+10</td>\n",
       "      <td>1111 Wilshire Blvd  Ste 104  Los Angeles, CA 9...</td>\n",
       "      <td>asianfusion, sushi, ramen,</td>\n",
       "      <td>Asian Fusion, Sushi Bars, Ramen,</td>\n",
       "      <td>4.0</td>\n",
       "      <td>208</td>\n",
       "      <td>34.052791</td>\n",
       "      <td>-118.263669</td>\n",
       "      <td>90017</td>\n",
       "    </tr>\n",
       "    <tr>\n",
       "      <th>355</th>\n",
       "      <td>-73lYnIMpqXG5gVTQOpH8g</td>\n",
       "      <td>Public School 213</td>\n",
       "      <td>1.213622e+10</td>\n",
       "      <td>612 Flower St  Los Angeles, CA 90017</td>\n",
       "      <td>bars, newamerican, gastropubs,</td>\n",
       "      <td>Bars, American (New), Gastropubs,</td>\n",
       "      <td>3.5</td>\n",
       "      <td>873</td>\n",
       "      <td>34.049867</td>\n",
       "      <td>-118.257391</td>\n",
       "      <td>90017</td>\n",
       "    </tr>\n",
       "    <tr>\n",
       "      <th>514</th>\n",
       "      <td>0hZ9GIgr7ZOby-2N7WG4fQ</td>\n",
       "      <td>Cafe Teragram</td>\n",
       "      <td>1.213690e+10</td>\n",
       "      <td>1234 W 7th St  The Teragram Ballroom  Los Ange...</td>\n",
       "      <td>bars, newamerican, breakfast_brunch,</td>\n",
       "      <td>Bars, American (New), Breakfast &amp; Brunch,</td>\n",
       "      <td>4.5</td>\n",
       "      <td>285</td>\n",
       "      <td>34.051891</td>\n",
       "      <td>-118.266751</td>\n",
       "      <td>90017</td>\n",
       "    </tr>\n",
       "    <tr>\n",
       "      <th>853</th>\n",
       "      <td>1lxtw52CJ9ip6VqQCzt2Fw</td>\n",
       "      <td>The Burrow</td>\n",
       "      <td>1.213784e+10</td>\n",
       "      <td>821 S Flower St  Los Angeles, CA 90017</td>\n",
       "      <td>sandwiches, cocktailbars, gastropubs,</td>\n",
       "      <td>Sandwiches, Cocktail Bars, Gastropubs,</td>\n",
       "      <td>5.0</td>\n",
       "      <td>269</td>\n",
       "      <td>34.047010</td>\n",
       "      <td>-118.260820</td>\n",
       "      <td>90017</td>\n",
       "    </tr>\n",
       "    <tr>\n",
       "      <th>...</th>\n",
       "      <td>...</td>\n",
       "      <td>...</td>\n",
       "      <td>...</td>\n",
       "      <td>...</td>\n",
       "      <td>...</td>\n",
       "      <td>...</td>\n",
       "      <td>...</td>\n",
       "      <td>...</td>\n",
       "      <td>...</td>\n",
       "      <td>...</td>\n",
       "      <td>...</td>\n",
       "    </tr>\n",
       "    <tr>\n",
       "      <th>18728</th>\n",
       "      <td>y5by_vlxVBmvVXgr1HHguw</td>\n",
       "      <td>Miro</td>\n",
       "      <td>1.213989e+10</td>\n",
       "      <td>888 Wilshire Blvd  Los Angeles, CA 90017</td>\n",
       "      <td>italian, bars, pizza,</td>\n",
       "      <td>Italian, Bars, Pizza,</td>\n",
       "      <td>3.5</td>\n",
       "      <td>438</td>\n",
       "      <td>34.049792</td>\n",
       "      <td>-118.259187</td>\n",
       "      <td>90017</td>\n",
       "    </tr>\n",
       "    <tr>\n",
       "      <th>18787</th>\n",
       "      <td>yAF7K0yNT83e40hxnXtbjw</td>\n",
       "      <td>Shoo Shoo Baby</td>\n",
       "      <td>1.213689e+10</td>\n",
       "      <td>717 W 7th St  Los Angeles, CA 90017</td>\n",
       "      <td>bars, tradamerican,</td>\n",
       "      <td>Bars, American (Traditional),</td>\n",
       "      <td>4.0</td>\n",
       "      <td>128</td>\n",
       "      <td>34.048257</td>\n",
       "      <td>-118.258001</td>\n",
       "      <td>90017</td>\n",
       "    </tr>\n",
       "    <tr>\n",
       "      <th>19310</th>\n",
       "      <td>Z0GNWNB90vZs3W8xp8Mljg</td>\n",
       "      <td>Red Herring</td>\n",
       "      <td>1.213375e+10</td>\n",
       "      <td>770 S Grand Ave  Ste A  Los Angeles, CA 90017</td>\n",
       "      <td>comfortfood, bars, newamerican,</td>\n",
       "      <td>Comfort Food, Bars, American (New),</td>\n",
       "      <td>4.5</td>\n",
       "      <td>269</td>\n",
       "      <td>34.046065</td>\n",
       "      <td>-118.256945</td>\n",
       "      <td>90017</td>\n",
       "    </tr>\n",
       "    <tr>\n",
       "      <th>19603</th>\n",
       "      <td>zKTUPHlZbIvGWUXbPsxABg</td>\n",
       "      <td>George's Greek Grill</td>\n",
       "      <td>1.213625e+10</td>\n",
       "      <td>735 S Figueroa St  Ste 131  Los Angeles, CA 90017</td>\n",
       "      <td>greek, mediterranean, burgers,</td>\n",
       "      <td>Greek, Mediterranean, Burgers,</td>\n",
       "      <td>3.5</td>\n",
       "      <td>450</td>\n",
       "      <td>34.049061</td>\n",
       "      <td>-118.260712</td>\n",
       "      <td>90017</td>\n",
       "    </tr>\n",
       "    <tr>\n",
       "      <th>19822</th>\n",
       "      <td>zWQO939iUd14k-QdhH7E3g</td>\n",
       "      <td>Jersey Mike's Subs</td>\n",
       "      <td>1.213630e+10</td>\n",
       "      <td>801 S Hope St  Ste C  Los Angeles, CA 90017</td>\n",
       "      <td>hotdogs, delis, sandwiches,</td>\n",
       "      <td>Fast Food, Delis, Sandwiches,</td>\n",
       "      <td>4.0</td>\n",
       "      <td>119</td>\n",
       "      <td>34.046695</td>\n",
       "      <td>-118.259496</td>\n",
       "      <td>90017</td>\n",
       "    </tr>\n",
       "  </tbody>\n",
       "</table>\n",
       "<p>68 rows × 11 columns</p>\n",
       "</div>"
      ],
      "text/plain": [
       "                           id                  name         phone  \\\n",
       "184    _n0fEUZdbkLOimHz_IXkiQ             JOEY DTLA  1.213373e+10   \n",
       "281    _wZoR5op0wysdkUi2r6o9g     Ebaes on Wilshire  1.213250e+10   \n",
       "355    -73lYnIMpqXG5gVTQOpH8g     Public School 213  1.213622e+10   \n",
       "514    0hZ9GIgr7ZOby-2N7WG4fQ         Cafe Teragram  1.213690e+10   \n",
       "853    1lxtw52CJ9ip6VqQCzt2Fw            The Burrow  1.213784e+10   \n",
       "...                       ...                   ...           ...   \n",
       "18728  y5by_vlxVBmvVXgr1HHguw                  Miro  1.213989e+10   \n",
       "18787  yAF7K0yNT83e40hxnXtbjw        Shoo Shoo Baby  1.213689e+10   \n",
       "19310  Z0GNWNB90vZs3W8xp8Mljg           Red Herring  1.213375e+10   \n",
       "19603  zKTUPHlZbIvGWUXbPsxABg  George's Greek Grill  1.213625e+10   \n",
       "19822  zWQO939iUd14k-QdhH7E3g    Jersey Mike's Subs  1.213630e+10   \n",
       "\n",
       "                                                 address  \\\n",
       "184        700 W 7th St  Ste S430  Los Angeles, CA 90017   \n",
       "281    1111 Wilshire Blvd  Ste 104  Los Angeles, CA 9...   \n",
       "355                 612 Flower St  Los Angeles, CA 90017   \n",
       "514    1234 W 7th St  The Teragram Ballroom  Los Ange...   \n",
       "853               821 S Flower St  Los Angeles, CA 90017   \n",
       "...                                                  ...   \n",
       "18728           888 Wilshire Blvd  Los Angeles, CA 90017   \n",
       "18787                717 W 7th St  Los Angeles, CA 90017   \n",
       "19310      770 S Grand Ave  Ste A  Los Angeles, CA 90017   \n",
       "19603  735 S Figueroa St  Ste 131  Los Angeles, CA 90017   \n",
       "19822        801 S Hope St  Ste C  Los Angeles, CA 90017   \n",
       "\n",
       "                               category_alias  \\\n",
       "184                             newamerican,    \n",
       "281               asianfusion, sushi, ramen,    \n",
       "355           bars, newamerican, gastropubs,    \n",
       "514     bars, newamerican, breakfast_brunch,    \n",
       "853    sandwiches, cocktailbars, gastropubs,    \n",
       "...                                       ...   \n",
       "18728                  italian, bars, pizza,    \n",
       "18787                    bars, tradamerican,    \n",
       "19310        comfortfood, bars, newamerican,    \n",
       "19603         greek, mediterranean, burgers,    \n",
       "19822            hotdogs, delis, sandwiches,    \n",
       "\n",
       "                                   category_title  rating  review_count  \\\n",
       "184                              American (New),      4.5           847   \n",
       "281             Asian Fusion, Sushi Bars, Ramen,      4.0           208   \n",
       "355            Bars, American (New), Gastropubs,      3.5           873   \n",
       "514    Bars, American (New), Breakfast & Brunch,      4.5           285   \n",
       "853       Sandwiches, Cocktail Bars, Gastropubs,      5.0           269   \n",
       "...                                           ...     ...           ...   \n",
       "18728                      Italian, Bars, Pizza,      3.5           438   \n",
       "18787              Bars, American (Traditional),      4.0           128   \n",
       "19310        Comfort Food, Bars, American (New),      4.5           269   \n",
       "19603             Greek, Mediterranean, Burgers,      3.5           450   \n",
       "19822              Fast Food, Delis, Sandwiches,      4.0           119   \n",
       "\n",
       "             lat         lon zipcodes  \n",
       "184    34.048001 -118.258108    90017  \n",
       "281    34.052791 -118.263669    90017  \n",
       "355    34.049867 -118.257391    90017  \n",
       "514    34.051891 -118.266751    90017  \n",
       "853    34.047010 -118.260820    90017  \n",
       "...          ...         ...      ...  \n",
       "18728  34.049792 -118.259187    90017  \n",
       "18787  34.048257 -118.258001    90017  \n",
       "19310  34.046065 -118.256945    90017  \n",
       "19603  34.049061 -118.260712    90017  \n",
       "19822  34.046695 -118.259496    90017  \n",
       "\n",
       "[68 rows x 11 columns]"
      ]
     },
     "execution_count": 67,
     "metadata": {},
     "output_type": "execute_result"
    }
   ],
   "source": [
    "mapdf=aT[(aT[\"zipcodes\"]=='90017') & (aT[\"rating\"]>= 3.5)]\n",
    "mapdf"
   ]
  },
  {
   "cell_type": "code",
   "execution_count": null,
   "metadata": {},
   "outputs": [],
   "source": []
  },
  {
   "cell_type": "code",
   "execution_count": null,
   "metadata": {},
   "outputs": [],
   "source": []
  },
  {
   "cell_type": "code",
   "execution_count": null,
   "metadata": {},
   "outputs": [],
   "source": []
  },
  {
   "cell_type": "code",
   "execution_count": null,
   "metadata": {},
   "outputs": [],
   "source": []
  }
 ],
 "metadata": {
  "kernelspec": {
   "display_name": "Python 3",
   "language": "python",
   "name": "python3"
  },
  "language_info": {
   "codemirror_mode": {
    "name": "ipython",
    "version": 3
   },
   "file_extension": ".py",
   "mimetype": "text/x-python",
   "name": "python",
   "nbconvert_exporter": "python",
   "pygments_lexer": "ipython3",
   "version": "3.7.4"
  }
 },
 "nbformat": 4,
 "nbformat_minor": 4
}
