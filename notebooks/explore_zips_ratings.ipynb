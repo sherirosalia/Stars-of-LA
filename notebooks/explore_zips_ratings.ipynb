{
 "cells": [
  {
   "cell_type": "code",
   "execution_count": null,
   "metadata": {},
   "outputs": [],
   "source": [
    "import pandas as pd\n",
    "import numpy as np\n",
    "import matplotlib\n",
    "import matplotlib.pyplot as plt\n",
    "import seaborn"
   ]
  },
  {
   "cell_type": "code",
   "execution_count": null,
   "metadata": {},
   "outputs": [],
   "source": [
    "import gmaps\n",
    "from config import gkey\n",
    "\n",
    "\n",
    "# Access maps with unique API key\n",
    "gmaps.configure(api_key=gkey)"
   ]
  },
  {
   "cell_type": "code",
   "execution_count": null,
   "metadata": {},
   "outputs": [],
   "source": [
    "df=pd.read_csv('../csv/la_rest_types.csv', index_col=False)"
   ]
  },
  {
   "cell_type": "code",
   "execution_count": null,
   "metadata": {},
   "outputs": [],
   "source": [
    "# df.sample()\n",
    "df.head(2)\n"
   ]
  },
  {
   "cell_type": "code",
   "execution_count": null,
   "metadata": {},
   "outputs": [],
   "source": [
    "df.zipcodes.str.startswith('9')\n",
    "df.sample()"
   ]
  },
  {
   "cell_type": "code",
   "execution_count": null,
   "metadata": {},
   "outputs": [],
   "source": [
    "# df=df[df.zipcodes.str.startswith('9')]"
   ]
  },
  {
   "cell_type": "code",
   "execution_count": null,
   "metadata": {},
   "outputs": [],
   "source": []
  },
  {
   "cell_type": "code",
   "execution_count": null,
   "metadata": {},
   "outputs": [],
   "source": [
    "# df.isnull()"
   ]
  },
  {
   "cell_type": "code",
   "execution_count": null,
   "metadata": {},
   "outputs": [],
   "source": [
    "#get rid of nan values\n",
    "df['category_title'].replace(' ', np.nan, inplace=True)"
   ]
  },
  {
   "cell_type": "code",
   "execution_count": null,
   "metadata": {},
   "outputs": [],
   "source": [
    "# df.isnull()"
   ]
  },
  {
   "cell_type": "code",
   "execution_count": null,
   "metadata": {},
   "outputs": [],
   "source": [
    "df.dropna(inplace=True)"
   ]
  },
  {
   "cell_type": "code",
   "execution_count": null,
   "metadata": {},
   "outputs": [],
   "source": [
    "df.reset_index(drop=True)\n",
    "df.sample(2)"
   ]
  },
  {
   "cell_type": "code",
   "execution_count": null,
   "metadata": {},
   "outputs": [],
   "source": [
    "# df.isnull()"
   ]
  },
  {
   "cell_type": "code",
   "execution_count": null,
   "metadata": {},
   "outputs": [],
   "source": [
    "df['rating'].value_counts()\n"
   ]
  },
  {
   "cell_type": "code",
   "execution_count": null,
   "metadata": {},
   "outputs": [],
   "source": [
    "# df['category_title'].value_counts(normalize=True)\n",
    "rating=list(df['rating'].value_counts(bins=3))"
   ]
  },
  {
   "cell_type": "code",
   "execution_count": null,
   "metadata": {},
   "outputs": [],
   "source": [
    "rating"
   ]
  },
  {
   "cell_type": "code",
   "execution_count": null,
   "metadata": {},
   "outputs": [],
   "source": [
    "df['rating'].value_counts().hist(bins=3, figsize=(10,10))"
   ]
  },
  {
   "cell_type": "code",
   "execution_count": null,
   "metadata": {},
   "outputs": [],
   "source": [
    "df.rating.value_counts(bins=3).sort_values().plot(kind = 'barh', figsize=(10,10))"
   ]
  },
  {
   "cell_type": "code",
   "execution_count": null,
   "metadata": {},
   "outputs": [],
   "source": [
    "\n"
   ]
  },
  {
   "cell_type": "code",
   "execution_count": null,
   "metadata": {},
   "outputs": [],
   "source": []
  },
  {
   "cell_type": "code",
   "execution_count": null,
   "metadata": {},
   "outputs": [],
   "source": [
    "cat_desc=df['category_title'].describe()\n",
    "\n",
    "#cat_desc.value_counts()"
   ]
  },
  {
   "cell_type": "code",
   "execution_count": null,
   "metadata": {},
   "outputs": [],
   "source": [
    " %matplotlib inline"
   ]
  },
  {
   "cell_type": "code",
   "execution_count": null,
   "metadata": {},
   "outputs": [],
   "source": [
    "from pandas.plotting import scatter_matrix\n",
    "import matplotlib.pyplot as plt"
   ]
  },
  {
   "cell_type": "code",
   "execution_count": null,
   "metadata": {},
   "outputs": [],
   "source": [
    "desc=df.describe()\n",
    "desc"
   ]
  },
  {
   "cell_type": "code",
   "execution_count": null,
   "metadata": {},
   "outputs": [],
   "source": [
    "fig, axes = plt.subplots(1,1)\n",
    "axes = df['rating'].hist()\n",
    "\n",
    "plt.legend(df.columns)\n",
    "dfsummary = pd.DataFrame(df['rating'].describe())\n",
    "plt.figsize=(12,12)\n",
    "plt.table(cellText=dfsummary.values,\n",
    "      colWidths = [0.4]*2,\n",
    "      rowLabels=dfsummary.index,\n",
    "      colLabels=dfsummary.columns,\n",
    "      cellLoc = 'right', rowLoc = 'right',\n",
    "      loc='top')\n",
    "\n",
    "plt.show()"
   ]
  },
  {
   "cell_type": "code",
   "execution_count": null,
   "metadata": {},
   "outputs": [],
   "source": [
    "scatter_matrix(df, figsize=(10,10))"
   ]
  },
  {
   "cell_type": "code",
   "execution_count": null,
   "metadata": {},
   "outputs": [],
   "source": []
  },
  {
   "cell_type": "code",
   "execution_count": null,
   "metadata": {},
   "outputs": [],
   "source": [
    "desc.groupby('rating')['review_count'].mean()"
   ]
  },
  {
   "cell_type": "code",
   "execution_count": null,
   "metadata": {},
   "outputs": [],
   "source": [
    "#filter on two conditons ex res = df[(df['B']<8) & (df['B']>2)]\n",
    "s=df['rating'].between(2, 4, inclusive=False)\n",
    "s[s].values[0:10]\n"
   ]
  },
  {
   "cell_type": "code",
   "execution_count": null,
   "metadata": {},
   "outputs": [],
   "source": [
    "gr_zip = df.groupby(['zipcodes', 'review_count'])['rating'].median().reset_index()\n",
    "\n",
    "gr_zip['rating'].plot(kind='hist')\n",
    "gr_zip.min()\n"
   ]
  },
  {
   "cell_type": "code",
   "execution_count": null,
   "metadata": {},
   "outputs": [],
   "source": [
    "cat_title=df.groupby('category_title').rating.apply(lambda x: len(x[x>2.5])/len(x) )"
   ]
  },
  {
   "cell_type": "code",
   "execution_count": null,
   "metadata": {},
   "outputs": [],
   "source": [
    "cat_title.sample(3)\n"
   ]
  },
  {
   "cell_type": "code",
   "execution_count": null,
   "metadata": {},
   "outputs": [],
   "source": [
    "cat_title.plot()"
   ]
  },
  {
   "cell_type": "code",
   "execution_count": null,
   "metadata": {},
   "outputs": [],
   "source": [
    "means = df.groupby('zipcodes').mean()['rating']\n",
    "means\n",
    "# medians = clean_study_data_complete.groupby('Drug Regimen').median()['Tumor Volume (mm3)']\n",
    "# variances = clean_study_data_complete.groupby('Drug Regimen').var()['Tumor Volume (mm3)']\n",
    "# sds = clean_study_data_complete.groupby('Drug Regimen').std()['Tumor Volume (mm3)']\n",
    "# sems = clean_study_data_complete.groupby('Drug Regimen').sem()['Tumor Volume (mm3)']\n",
    "# summary_table = pd.DataFrame({\"Mean Tumor Volume\":means,\n",
    "#                               \"Median Tumor Volume\":medians,\n",
    "#                               \"Tumor Volume Variance\":variances,\n",
    "#                               \"Tumor Volume Std. Dev.\":sds,\n",
    "#                               \"Tumor Volume Std. Err.\":sems})"
   ]
  },
  {
   "cell_type": "code",
   "execution_count": null,
   "metadata": {},
   "outputs": [],
   "source": [
    "medians = df.groupby('zipcodes').median()['rating']\n",
    "medians"
   ]
  },
  {
   "cell_type": "code",
   "execution_count": null,
   "metadata": {},
   "outputs": [],
   "source": [
    "revCount = df.groupby('zipcodes').sum()['review_count']\n",
    "revCount\n"
   ]
  },
  {
   "cell_type": "code",
   "execution_count": null,
   "metadata": {},
   "outputs": [],
   "source": [
    "plt.figure(num=None, figsize=(8, 6), dpi=80, facecolor='w', edgecolor='k')\n",
    "revCount.plot(kind='line')"
   ]
  },
  {
   "cell_type": "code",
   "execution_count": null,
   "metadata": {},
   "outputs": [],
   "source": [
    "# install seaborn\n",
    "# %%bash\n",
    "# pip install seaborn"
   ]
  },
  {
   "cell_type": "code",
   "execution_count": null,
   "metadata": {},
   "outputs": [],
   "source": [
    "means = df.groupby('zipcodes').mean()['rating']\n",
    "means"
   ]
  },
  {
   "cell_type": "code",
   "execution_count": null,
   "metadata": {},
   "outputs": [],
   "source": [
    "total_count = df.groupby('zipcodes').size()\n",
    "total_count"
   ]
  },
  {
   "cell_type": "code",
   "execution_count": null,
   "metadata": {},
   "outputs": [],
   "source": [
    "import matplotlib.pyplot as plt\n",
    "import numpy as np\n",
    "import seaborn as sns\n",
    "from matplotlib.pyplot import figure\n",
    " "
   ]
  },
  {
   "cell_type": "code",
   "execution_count": null,
   "metadata": {},
   "outputs": [],
   "source": [
    "#medians plot\n",
    "\n",
    "# create data\n",
    "x = total_count\n",
    "y = medians\n",
    "z = revCount\n",
    "# z=z*z\n",
    "# z=z.sum()\n",
    "\n",
    "plt.figure(num=None, figsize=(8, 6), dpi=80, facecolor='w', edgecolor='k')\n",
    "# Change color with c and alpha. I map the color to the X axis value.\n",
    "plt.scatter(x, y, s=z/75, c=z, cmap=\"Blues\", alpha=0.4, edgecolors=\"grey\", linewidth=2)\n",
    " \n",
    "# Add titles (main and on axis)\n",
    "\n",
    "plt.xlabel(\"Number of Restaurants Per Zipcode\")\n",
    "plt.ylabel(\"Average Rating\")\n",
    "plt.title(\"Restaurants by ZipCode, Rating and Review Count\")\n",
    " \n",
    "plt.show()"
   ]
  },
  {
   "cell_type": "code",
   "execution_count": null,
   "metadata": {},
   "outputs": [],
   "source": [
    "\n",
    "#means plot\n",
    "\n",
    "# create data\n",
    "x = total_count\n",
    "y = means\n",
    "z = revCount\n",
    "# z=z*z\n",
    "# z=z.sum()\n",
    "plt.figure(num=None, figsize=(8, 6), dpi=80, facecolor='w', edgecolor='k')\n",
    "# Change color with c and alpha. I map the color to the X axis value.\n",
    "plt.scatter(x, y, s=z/75, c=z, cmap=\"Blues\", alpha=0.4, edgecolors=\"grey\", linewidth=2)\n",
    "\n",
    "# Add titles (main and on axis)\n",
    "plt.xlabel(\"Number of Restaurants Per Zipcode\")\n",
    "plt.ylabel(\"Average Rating\")\n",
    "plt.title(\"Restaurants by ZipCode, Rating and Review Count\")\n",
    " \n",
    "plt.show()"
   ]
  },
  {
   "cell_type": "code",
   "execution_count": null,
   "metadata": {},
   "outputs": [],
   "source": [
    "g = df.groupby('zipcodes')\n",
    "rest_zips = [name for name,unused_df in g]\n",
    "# rest_zips"
   ]
  },
  {
   "cell_type": "code",
   "execution_count": null,
   "metadata": {},
   "outputs": [],
   "source": [
    "# rest_zip = df['zipcodes'].unique()\n",
    "# rest_zip"
   ]
  },
  {
   "cell_type": "code",
   "execution_count": null,
   "metadata": {},
   "outputs": [],
   "source": [
    "summary_table = pd.DataFrame({\"Avg\":means,\n",
    "                              \"Med\":medians,\n",
    "                              \"RevCnt\":revCount,\n",
    "                              \"ZipCnt\":total_count,\n",
    "                              \"Zips\":rest_zips})\n",
    "summary_table"
   ]
  },
  {
   "cell_type": "code",
   "execution_count": null,
   "metadata": {},
   "outputs": [],
   "source": [
    "#type(summary_table)\n",
    "\n",
    "avg_zip=summary_table.groupby('ZipCnt')\n",
    "avg_zip.head()"
   ]
  },
  {
   "cell_type": "code",
   "execution_count": null,
   "metadata": {
    "scrolled": true
   },
   "outputs": [],
   "source": [
    "summary_table.sort_values(by=['ZipCnt'], ascending=False, inplace=True)\n"
   ]
  },
  {
   "cell_type": "code",
   "execution_count": null,
   "metadata": {
    "scrolled": true
   },
   "outputs": [],
   "source": [
    "#90045 trends noticeably lower \n",
    "bad_zip=df[(df['zipcodes']==\"90045\") & (df['rating']<=3)]\n",
    "bad_zip.head()"
   ]
  },
  {
   "cell_type": "code",
   "execution_count": null,
   "metadata": {},
   "outputs": [],
   "source": []
  },
  {
   "cell_type": "code",
   "execution_count": null,
   "metadata": {},
   "outputs": [],
   "source": [
    "\n",
    "lat=list(bad_zip['lat'])\n",
    "lon=list(bad_zip['lon'])\n",
    "\n",
    "zip(lat, lon)\n",
    "\n",
    "coordinates = [x for x in zip(lat, lon)]\n",
    "rest_name=bad_zip['name'].tolist()\n",
    "categories=bad_zip['category_title'].tolist()\n",
    "\n",
    "# Customize the size of the figure\n",
    "figure_layout = {\n",
    "    'width': '1000px',\n",
    "    'height': '900px',\n",
    "    'border': '1px solid black',\n",
    "    'padding': '1px',\n",
    "    'margin': '0 auto 0 auto'\n",
    "}\n",
    "fig = gmaps.figure(layout=figure_layout)\n",
    "# Assign the marker layer to a variable\n",
    "name=[x for x in rest_name]\n",
    "category=[x for x in categories]\n",
    "\n",
    "info_box_content=[f\"Restaurant name: {name}\" for name in name] \n",
    "info_box_contents=[f\"Restaurant name: {name}\" for name in name] \n",
    "markers = gmaps.marker_layer(coordinates, info_box_content=info_box_content)\n",
    "\n",
    "\n",
    "# heat_layer = gmaps.heatmap_layer(coordinates, weights=badR['rating']-1.5, \n",
    "#                                  dissipating=False, max_intensity=1.5,\n",
    "#                                  point_radius = .000008)\n",
    "# Add the layer to the map\n",
    "fig.add_layer(markers)\n",
    "fig"
   ]
  },
  {
   "cell_type": "code",
   "execution_count": null,
   "metadata": {},
   "outputs": [],
   "source": [
    "rslt_df = summary_table[summary_table['RevCnt'] > 30] \n",
    "rslt_df.head()\n",
    "\n",
    "\n"
   ]
  },
  {
   "cell_type": "code",
   "execution_count": null,
   "metadata": {},
   "outputs": [],
   "source": [
    "# create data\n",
    "x = total_count\n",
    "y = revCount\n",
    "z = means\n",
    "# z=z*z\n",
    "# z=z.sum()\n",
    "\n",
    "plt.figure(num=None, figsize=(8, 6), dpi=80, facecolor='w', edgecolor='k')\n",
    "# Change color with c and alpha. I map the color to the X axis value.\n",
    "plt.scatter(x, y, s=z*10, c=z, cmap=\"Reds\", alpha=0.4, edgecolors=\"grey\", linewidth=.25)\n",
    " \n",
    "# Add titles (main and on axis)\n",
    "plt.xlabel(\"Number of Restaurants Per Zipcode\")\n",
    "plt.ylabel(\"Average Rating\")\n",
    "plt.title(\"Restaurants by ZipCode, Rating and Review Count\")\n",
    " \n",
    "plt.show()"
   ]
  },
  {
   "cell_type": "code",
   "execution_count": null,
   "metadata": {},
   "outputs": [],
   "source": [
    "#datframe for all types of food\n",
    "aT=pd.read_csv('../csv/LA_rest_yelp_no_dupes.csv')\n",
    "aT.head()"
   ]
  },
  {
   "cell_type": "code",
   "execution_count": null,
   "metadata": {},
   "outputs": [],
   "source": [
    "zipcodes = list()\n",
    "\n",
    "for item in aT['address']:\n",
    "    zipcode = item.split()[-1]\n",
    "    zipcodes.append(zipcode)\n",
    "\n",
    "aT['zipcodes'] = zipcodes\n",
    "aT = pd.DataFrame(aT)\n",
    "aT.sample()"
   ]
  },
  {
   "cell_type": "code",
   "execution_count": null,
   "metadata": {},
   "outputs": [],
   "source": [
    "list(aT[aT[\"zipcodes\"]=='Kingdom']['address'])"
   ]
  },
  {
   "cell_type": "code",
   "execution_count": null,
   "metadata": {},
   "outputs": [],
   "source": [
    "#verify that only Los Angeles locatins\n",
    "# list(aT[aT[\"zipcodes\"]=='CA']['address'])"
   ]
  },
  {
   "cell_type": "code",
   "execution_count": null,
   "metadata": {},
   "outputs": [],
   "source": [
    "aT=aT[aT.zipcodes.str.startswith('9')]\n",
    "aT.sample()"
   ]
  },
  {
   "cell_type": "code",
   "execution_count": null,
   "metadata": {},
   "outputs": [],
   "source": []
  },
  {
   "cell_type": "code",
   "execution_count": null,
   "metadata": {},
   "outputs": [],
   "source": [
    "#get restaurants with more than 100 reviews\n",
    "aT=aT[aT[\"review_count\"]>=100]"
   ]
  },
  {
   "cell_type": "code",
   "execution_count": null,
   "metadata": {
    "scrolled": true
   },
   "outputs": [],
   "source": [
    "x = aT[\"review_count\"]\n",
    "y = aT[\"rating\"]\n",
    "z = aT.zipcodes.astype(int)\n",
    "# z=z*z\n",
    "# z=z.sum()\n",
    "\n",
    "plt.figure(num=None, figsize=(8, 6), dpi=80, facecolor='w', edgecolor='k')\n",
    "# Change color with c and alpha. I map the color to the X axis value.\n",
    "plt.scatter(x, y, s=50, c=z, cmap=\"Pastel1\", alpha=0.4, edgecolors=\"grey\", linewidth=.5)\n",
    " \n",
    "# Add titles (main and on axis)\n",
    "plt.xlabel(\"Number of Reviews\")\n",
    "plt.ylabel(\"Average Rating\")\n",
    "plt.title(\"Restaurants by Rating and Review Count\")\n",
    " \n",
    "plt.show()"
   ]
  },
  {
   "cell_type": "code",
   "execution_count": null,
   "metadata": {},
   "outputs": [],
   "source": [
    "aT[aT[\"review_count\"]>=15000]"
   ]
  },
  {
   "cell_type": "code",
   "execution_count": null,
   "metadata": {},
   "outputs": [],
   "source": [
    "aT[aT[\"zipcodes\"]=='90017'].mean()"
   ]
  },
  {
   "cell_type": "code",
   "execution_count": null,
   "metadata": {},
   "outputs": [],
   "source": [
    "aT.describe()"
   ]
  },
  {
   "cell_type": "code",
   "execution_count": null,
   "metadata": {
    "scrolled": true
   },
   "outputs": [],
   "source": [
    "badR=aT[(aT[\"review_count\"]>=500) & (aT[\"rating\"]== 1.5)]\n",
    "badR"
   ]
  },
  {
   "cell_type": "code",
   "execution_count": null,
   "metadata": {},
   "outputs": [],
   "source": []
  },
  {
   "cell_type": "code",
   "execution_count": null,
   "metadata": {},
   "outputs": [],
   "source": [
    "\n",
    "lat=list(badR['lat'])\n",
    "lon=list(badR['lon'])\n",
    "\n",
    "zip(lat, lon)\n",
    "\n",
    "coordinates = [x for x in zip(lat, lon)]\n",
    "\n",
    "\n",
    "# Customize the size of the figure\n",
    "figure_layout = {\n",
    "    'width': '700px',\n",
    "    'height': '600px',\n",
    "    'border': '1px solid black',\n",
    "    'padding': '1px',\n",
    "    'margin': '0 auto 0 auto'\n",
    "}\n",
    "fig = gmaps.figure(layout=figure_layout)\n",
    "# Assign the marker layer to a variable\n",
    "markers = gmaps.marker_layer(coordinates)\n",
    "# heat_layer = gmaps.heatmap_layer(coordinates, weights=badR['rating']-1.5, \n",
    "#                                  dissipating=False, max_intensity=1.5,\n",
    "#                                  point_radius = .000008)\n",
    "# Add the layer to the map\n",
    "fig.add_layer(markers)\n",
    "fig"
   ]
  },
  {
   "cell_type": "code",
   "execution_count": null,
   "metadata": {
    "scrolled": true
   },
   "outputs": [],
   "source": [
    "mediocre=aT[(aT[\"rating\"]==2.5) &(aT[\"review_count\"]>=300) ]\n",
    "mediocre.head()"
   ]
  },
  {
   "cell_type": "code",
   "execution_count": null,
   "metadata": {},
   "outputs": [],
   "source": [
    "mediocre['category_title'].value_counts()"
   ]
  },
  {
   "cell_type": "code",
   "execution_count": null,
   "metadata": {},
   "outputs": [],
   "source": []
  },
  {
   "cell_type": "code",
   "execution_count": null,
   "metadata": {},
   "outputs": [],
   "source": []
  },
  {
   "cell_type": "code",
   "execution_count": null,
   "metadata": {},
   "outputs": [],
   "source": [
    "\n",
    "lat=list(mediocre['lat'])\n",
    "lon=list(mediocre['lon'])\n",
    "\n",
    "zip(lat, lon)\n",
    "\n",
    "coordinates = [x for x in zip(lat, lon)]\n",
    "rest_name=mediocre['name'].tolist()\n",
    "\n",
    "# Customize the size of the figure\n",
    "figure_layout = {\n",
    "    'width': '700px',\n",
    "    'height': '600px',\n",
    "    'border': '1px solid black',\n",
    "    'padding': '1px',\n",
    "    'margin': '0 auto 0 auto'\n",
    "}\n",
    "fig = gmaps.figure(layout=figure_layout)\n",
    "# Assign the marker layer to a variable\n",
    "info_box_content=[f\"Restaurant name: {name}\" for name in rest_name]\n",
    "markers = gmaps.marker_layer(coordinates, info_box_content=info_box_content )\n",
    "\n",
    "# heat_layer = gmaps.heatmap_layer(coordinates, weights=badR['rating']-1.5, \n",
    "#                                  dissipating=False, max_intensity=1.5,\n",
    "#                                  point_radius = .000008)\n",
    "# Add the layer to the map\n",
    "fig.add_layer(markers)\n",
    "fig"
   ]
  },
  {
   "cell_type": "code",
   "execution_count": null,
   "metadata": {},
   "outputs": [],
   "source": []
  },
  {
   "cell_type": "code",
   "execution_count": null,
   "metadata": {},
   "outputs": [],
   "source": []
  },
  {
   "cell_type": "code",
   "execution_count": null,
   "metadata": {},
   "outputs": [],
   "source": [
    "bestR=aT[(aT[\"review_count\"]>=500) & (aT[\"rating\"]== 5)]\n",
    "bestR.head(2)"
   ]
  },
  {
   "cell_type": "code",
   "execution_count": null,
   "metadata": {},
   "outputs": [],
   "source": [
    "bestR=aT[(aT[\"review_count\"]>=500) & (aT[\"rating\"]== 5)]\n",
    "\n",
    "lat=list(bestR['lat'])\n",
    "lon=list(bestR['lon'])\n",
    "\n",
    "zip(lat, lon)\n",
    "coordinates = [x for x in zip(lat, lon)]\n",
    "\n",
    "\n",
    "\n",
    "# Customize the size of the figure\n",
    "figure_layout = {\n",
    "    'width': '700px',\n",
    "    'height': '600px',\n",
    "    'border': '1px solid black',\n",
    "    'padding': '1px',\n",
    "    'margin': '0 auto 0 auto'\n",
    "}\n",
    "\n",
    "fig = gmaps.figure(layout=figure_layout)\n",
    "rest_name=bestR['name'].tolist()\n",
    "# Assign the marker layer to a variable\n",
    "info_box_content=[f\"Restaurant name: {name}\" for name in rest_name]\n",
    "markers = gmaps.marker_layer(coordinates, info_box_content=info_box_content )\n",
    "heat_layer = gmaps.heatmap_layer(coordinates, weights=bestR['rating']-5, \n",
    "                                 dissipating=False, max_intensity=5,\n",
    "                                 point_radius = .018)\n",
    "# Add the layer to the map\n",
    "fig.add_layer(heat_layer)\n",
    "fig.add_layer(markers)\n",
    "fig"
   ]
  },
  {
   "cell_type": "code",
   "execution_count": null,
   "metadata": {},
   "outputs": [],
   "source": []
  },
  {
   "cell_type": "code",
   "execution_count": null,
   "metadata": {
    "scrolled": false
   },
   "outputs": [],
   "source": [
    "mapdf=aT[(aT[\"zipcodes\"]=='90017') & (aT[\"rating\"]>= 3.5)]\n",
    "\n",
    "lat=list(mapdf['lat'])\n",
    "lon=list(mapdf['lon'])\n",
    "\n",
    "zip(lat, lon)\n",
    "coordinates = [x for x in zip(lat, lon)]\n",
    "\n",
    "# Customize the size of the figure\n",
    "figure_layout = {\n",
    "    'width': '700px',\n",
    "    'height': '600px',\n",
    "    'border': '1px solid black',\n",
    "    'padding': '1px',\n",
    "    'margin': '0 auto 0 auto'\n",
    "}\n",
    "fig = gmaps.figure(layout=figure_layout)\n",
    "# Assign the marker layer to a variable\n",
    "# markers = gmaps.marker_layer(coordinates)\n",
    "heat_layer = gmaps.heatmap_layer(coordinates, weights=mapdf['rating']-3.5, \n",
    "                                 dissipating=False, max_intensity=1.5,\n",
    "                                 point_radius = .0008)\n",
    "# Add the layer to the map\n",
    "fig.add_layer(heat_layer)\n",
    "fig"
   ]
  },
  {
   "cell_type": "code",
   "execution_count": null,
   "metadata": {},
   "outputs": [],
   "source": [
    "mapdf=aT[(aT[\"zipcodes\"]=='90017') & (aT[\"rating\"]>= 3.5)]\n",
    "mapdf"
   ]
  },
  {
   "cell_type": "code",
   "execution_count": null,
   "metadata": {},
   "outputs": [],
   "source": []
  },
  {
   "cell_type": "code",
   "execution_count": null,
   "metadata": {},
   "outputs": [],
   "source": []
  },
  {
   "cell_type": "code",
   "execution_count": null,
   "metadata": {},
   "outputs": [],
   "source": []
  },
  {
   "cell_type": "code",
   "execution_count": null,
   "metadata": {},
   "outputs": [],
   "source": []
  }
 ],
 "metadata": {
  "kernelspec": {
   "display_name": "Python 3",
   "language": "python",
   "name": "python3"
  },
  "language_info": {
   "codemirror_mode": {
    "name": "ipython",
    "version": 3
   },
   "file_extension": ".py",
   "mimetype": "text/x-python",
   "name": "python",
   "nbconvert_exporter": "python",
   "pygments_lexer": "ipython3",
   "version": "3.7.4"
  }
 },
 "nbformat": 4,
 "nbformat_minor": 4
}
